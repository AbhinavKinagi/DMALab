{
 "cells": [
  {
   "cell_type": "markdown",
   "metadata": {},
   "source": [
    "# Benchmark Bond Trade Problem\n",
    "### Pre-processing of data"
   ]
  },
  {
   "cell_type": "markdown",
   "metadata": {},
   "source": [
    "#### Author - Adarsh Bolettin\n",
    "#### USN - 01FE15BCS007"
   ]
  },
  {
   "cell_type": "code",
   "execution_count": 46,
   "metadata": {},
   "outputs": [
    {
     "name": "stdout",
     "output_type": "stream",
     "text": [
      "Populating the interactive namespace from numpy and matplotlib\n"
     ]
    },
    {
     "name": "stderr",
     "output_type": "stream",
     "text": [
      "/home/hp/anaconda3/lib/python3.6/site-packages/IPython/core/magics/pylab.py:161: UserWarning: pylab import has clobbered these variables: ['var', 'f']\n",
      "`%matplotlib` prevents importing * from pylab and numpy\n",
      "  \"\\n`%matplotlib` prevents importing * from pylab and numpy\"\n"
     ]
    }
   ],
   "source": [
    "import pandas as pd\n",
    "import numpy as np\n",
    "import seaborn as sns\n",
    "import matplotlib.pyplot as plt\n",
    "%pylab inline\n",
    "#Read the values train and test data\n",
    "trades = pd.read_csv(\"train.csv\")\n",
    "df_test = pd.read_csv('test.csv')"
   ]
  },
  {
   "cell_type": "code",
   "execution_count": 3,
   "metadata": {},
   "outputs": [
    {
     "name": "stdout",
     "output_type": "stream",
     "text": [
      "There are 762678 users in the training set and 61146 in the test set.\n",
      "In total 823824 non-unique bond trades.\n"
     ]
    }
   ],
   "source": [
    "print(\"There are\", trades.shape[0], \"users in the training set and\", \n",
    "      df_test.shape[0], \"in the test set.\")\n",
    "print(\"In total\", trades.shape[0] + df_test.shape[0], \"non-unique bond trades.\")"
   ]
  },
  {
   "cell_type": "code",
   "execution_count": 47,
   "metadata": {},
   "outputs": [
    {
     "data": {
      "text/html": [
       "<div>\n",
       "<style>\n",
       "    .dataframe thead tr:only-child th {\n",
       "        text-align: right;\n",
       "    }\n",
       "\n",
       "    .dataframe thead th {\n",
       "        text-align: left;\n",
       "    }\n",
       "\n",
       "    .dataframe tbody tr th {\n",
       "        vertical-align: top;\n",
       "    }\n",
       "</style>\n",
       "<table border=\"1\" class=\"dataframe\">\n",
       "  <thead>\n",
       "    <tr style=\"text-align: right;\">\n",
       "      <th></th>\n",
       "      <th>id</th>\n",
       "      <th>bond_id</th>\n",
       "      <th>trade_price</th>\n",
       "      <th>weight</th>\n",
       "      <th>current_coupon</th>\n",
       "      <th>time_to_maturity</th>\n",
       "      <th>is_callable</th>\n",
       "      <th>reporting_delay</th>\n",
       "      <th>trade_size</th>\n",
       "      <th>trade_type</th>\n",
       "      <th>...</th>\n",
       "      <th>received_time_diff_last9</th>\n",
       "      <th>trade_price_last9</th>\n",
       "      <th>trade_size_last9</th>\n",
       "      <th>trade_type_last9</th>\n",
       "      <th>curve_based_price_last9</th>\n",
       "      <th>received_time_diff_last10</th>\n",
       "      <th>trade_price_last10</th>\n",
       "      <th>trade_size_last10</th>\n",
       "      <th>trade_type_last10</th>\n",
       "      <th>curve_based_price_last10</th>\n",
       "    </tr>\n",
       "  </thead>\n",
       "  <tbody>\n",
       "    <tr>\n",
       "      <th>0</th>\n",
       "      <td>1</td>\n",
       "      <td>1</td>\n",
       "      <td>128.596</td>\n",
       "      <td>11.316404</td>\n",
       "      <td>5.95</td>\n",
       "      <td>26.031126</td>\n",
       "      <td>0</td>\n",
       "      <td>1.731</td>\n",
       "      <td>120000</td>\n",
       "      <td>2</td>\n",
       "      <td>...</td>\n",
       "      <td>NaN</td>\n",
       "      <td>NaN</td>\n",
       "      <td>NaN</td>\n",
       "      <td>NaN</td>\n",
       "      <td>NaN</td>\n",
       "      <td>NaN</td>\n",
       "      <td>NaN</td>\n",
       "      <td>NaN</td>\n",
       "      <td>NaN</td>\n",
       "      <td>NaN</td>\n",
       "    </tr>\n",
       "    <tr>\n",
       "      <th>1</th>\n",
       "      <td>2</td>\n",
       "      <td>1</td>\n",
       "      <td>126.673</td>\n",
       "      <td>8.763446</td>\n",
       "      <td>5.95</td>\n",
       "      <td>26.016697</td>\n",
       "      <td>0</td>\n",
       "      <td>30.518</td>\n",
       "      <td>85000</td>\n",
       "      <td>4</td>\n",
       "      <td>...</td>\n",
       "      <td>NaN</td>\n",
       "      <td>NaN</td>\n",
       "      <td>NaN</td>\n",
       "      <td>NaN</td>\n",
       "      <td>NaN</td>\n",
       "      <td>NaN</td>\n",
       "      <td>NaN</td>\n",
       "      <td>NaN</td>\n",
       "      <td>NaN</td>\n",
       "      <td>NaN</td>\n",
       "    </tr>\n",
       "    <tr>\n",
       "      <th>2</th>\n",
       "      <td>3</td>\n",
       "      <td>1</td>\n",
       "      <td>126.880</td>\n",
       "      <td>6.499730</td>\n",
       "      <td>5.95</td>\n",
       "      <td>26.008760</td>\n",
       "      <td>0</td>\n",
       "      <td>4.424</td>\n",
       "      <td>4200000</td>\n",
       "      <td>3</td>\n",
       "      <td>...</td>\n",
       "      <td>NaN</td>\n",
       "      <td>NaN</td>\n",
       "      <td>NaN</td>\n",
       "      <td>NaN</td>\n",
       "      <td>NaN</td>\n",
       "      <td>NaN</td>\n",
       "      <td>NaN</td>\n",
       "      <td>NaN</td>\n",
       "      <td>NaN</td>\n",
       "      <td>NaN</td>\n",
       "    </tr>\n",
       "    <tr>\n",
       "      <th>3</th>\n",
       "      <td>4</td>\n",
       "      <td>1</td>\n",
       "      <td>126.362</td>\n",
       "      <td>0.865854</td>\n",
       "      <td>5.95</td>\n",
       "      <td>26.008619</td>\n",
       "      <td>0</td>\n",
       "      <td>43.059</td>\n",
       "      <td>5000001</td>\n",
       "      <td>2</td>\n",
       "      <td>...</td>\n",
       "      <td>NaN</td>\n",
       "      <td>NaN</td>\n",
       "      <td>NaN</td>\n",
       "      <td>NaN</td>\n",
       "      <td>NaN</td>\n",
       "      <td>NaN</td>\n",
       "      <td>NaN</td>\n",
       "      <td>NaN</td>\n",
       "      <td>NaN</td>\n",
       "      <td>NaN</td>\n",
       "    </tr>\n",
       "    <tr>\n",
       "      <th>4</th>\n",
       "      <td>5</td>\n",
       "      <td>1</td>\n",
       "      <td>124.918</td>\n",
       "      <td>11.938543</td>\n",
       "      <td>5.95</td>\n",
       "      <td>25.981840</td>\n",
       "      <td>0</td>\n",
       "      <td>6.332</td>\n",
       "      <td>10000</td>\n",
       "      <td>2</td>\n",
       "      <td>...</td>\n",
       "      <td>NaN</td>\n",
       "      <td>NaN</td>\n",
       "      <td>NaN</td>\n",
       "      <td>NaN</td>\n",
       "      <td>NaN</td>\n",
       "      <td>NaN</td>\n",
       "      <td>NaN</td>\n",
       "      <td>NaN</td>\n",
       "      <td>NaN</td>\n",
       "      <td>NaN</td>\n",
       "    </tr>\n",
       "  </tbody>\n",
       "</table>\n",
       "<p>5 rows × 61 columns</p>\n",
       "</div>"
      ],
      "text/plain": [
       "   id  bond_id  trade_price     weight  current_coupon  time_to_maturity  \\\n",
       "0   1        1      128.596  11.316404            5.95         26.031126   \n",
       "1   2        1      126.673   8.763446            5.95         26.016697   \n",
       "2   3        1      126.880   6.499730            5.95         26.008760   \n",
       "3   4        1      126.362   0.865854            5.95         26.008619   \n",
       "4   5        1      124.918  11.938543            5.95         25.981840   \n",
       "\n",
       "   is_callable  reporting_delay  trade_size  trade_type  \\\n",
       "0            0            1.731      120000           2   \n",
       "1            0           30.518       85000           4   \n",
       "2            0            4.424     4200000           3   \n",
       "3            0           43.059     5000001           2   \n",
       "4            0            6.332       10000           2   \n",
       "\n",
       "             ...             received_time_diff_last9  trade_price_last9  \\\n",
       "0            ...                                  NaN                NaN   \n",
       "1            ...                                  NaN                NaN   \n",
       "2            ...                                  NaN                NaN   \n",
       "3            ...                                  NaN                NaN   \n",
       "4            ...                                  NaN                NaN   \n",
       "\n",
       "   trade_size_last9  trade_type_last9  curve_based_price_last9  \\\n",
       "0               NaN               NaN                      NaN   \n",
       "1               NaN               NaN                      NaN   \n",
       "2               NaN               NaN                      NaN   \n",
       "3               NaN               NaN                      NaN   \n",
       "4               NaN               NaN                      NaN   \n",
       "\n",
       "   received_time_diff_last10  trade_price_last10  trade_size_last10  \\\n",
       "0                        NaN                 NaN                NaN   \n",
       "1                        NaN                 NaN                NaN   \n",
       "2                        NaN                 NaN                NaN   \n",
       "3                        NaN                 NaN                NaN   \n",
       "4                        NaN                 NaN                NaN   \n",
       "\n",
       "   trade_type_last10  curve_based_price_last10  \n",
       "0                NaN                       NaN  \n",
       "1                NaN                       NaN  \n",
       "2                NaN                       NaN  \n",
       "3                NaN                       NaN  \n",
       "4                NaN                       NaN  \n",
       "\n",
       "[5 rows x 61 columns]"
      ]
     },
     "execution_count": 47,
     "metadata": {},
     "output_type": "execute_result"
    }
   ],
   "source": [
    "#Getting no of rows and column\n",
    "trades.head()"
   ]
  },
  {
   "cell_type": "code",
   "execution_count": 48,
   "metadata": {
    "collapsed": true
   },
   "outputs": [],
   "source": [
    "#Removing the 'weight' column since its not used in predicton\n",
    "#'weight' column here is used for competetions evaluation process\n",
    "trades.drop('weight',axis=1, inplace=True)"
   ]
  },
  {
   "cell_type": "code",
   "execution_count": 49,
   "metadata": {
    "scrolled": true
   },
   "outputs": [
    {
     "data": {
      "text/plain": [
       "Index(['id', 'bond_id', 'trade_price', 'current_coupon', 'time_to_maturity',\n",
       "       'is_callable', 'reporting_delay', 'trade_size', 'trade_type',\n",
       "       'curve_based_price', 'received_time_diff_last1', 'trade_price_last1',\n",
       "       'trade_size_last1', 'trade_type_last1', 'curve_based_price_last1',\n",
       "       'received_time_diff_last2', 'trade_price_last2', 'trade_size_last2',\n",
       "       'trade_type_last2', 'curve_based_price_last2',\n",
       "       'received_time_diff_last3', 'trade_price_last3', 'trade_size_last3',\n",
       "       'trade_type_last3', 'curve_based_price_last3',\n",
       "       'received_time_diff_last4', 'trade_price_last4', 'trade_size_last4',\n",
       "       'trade_type_last4', 'curve_based_price_last4',\n",
       "       'received_time_diff_last5', 'trade_price_last5', 'trade_size_last5',\n",
       "       'trade_type_last5', 'curve_based_price_last5',\n",
       "       'received_time_diff_last6', 'trade_price_last6', 'trade_size_last6',\n",
       "       'trade_type_last6', 'curve_based_price_last6',\n",
       "       'received_time_diff_last7', 'trade_price_last7', 'trade_size_last7',\n",
       "       'trade_type_last7', 'curve_based_price_last7',\n",
       "       'received_time_diff_last8', 'trade_price_last8', 'trade_size_last8',\n",
       "       'trade_type_last8', 'curve_based_price_last8',\n",
       "       'received_time_diff_last9', 'trade_price_last9', 'trade_size_last9',\n",
       "       'trade_type_last9', 'curve_based_price_last9',\n",
       "       'received_time_diff_last10', 'trade_price_last10', 'trade_size_last10',\n",
       "       'trade_type_last10', 'curve_based_price_last10'],\n",
       "      dtype='object')"
      ]
     },
     "execution_count": 49,
     "metadata": {},
     "output_type": "execute_result"
    }
   ],
   "source": [
    "#All attributes\n",
    "trades.columns"
   ]
  },
  {
   "cell_type": "code",
   "execution_count": 50,
   "metadata": {},
   "outputs": [
    {
     "data": {
      "text/plain": [
       "curve_based_price_last1      0.005114\n",
       "received_time_diff_last2     0.262234\n",
       "trade_price_last2            0.262234\n",
       "trade_size_last2             0.262234\n",
       "trade_type_last2             0.262234\n",
       "curve_based_price_last2      0.272199\n",
       "received_time_diff_last3     0.520534\n",
       "trade_price_last3            0.520534\n",
       "trade_size_last3             0.520534\n",
       "trade_type_last3             0.520534\n",
       "curve_based_price_last3      0.535219\n",
       "received_time_diff_last4     0.776474\n",
       "trade_price_last4            0.776474\n",
       "trade_size_last4             0.776474\n",
       "trade_type_last4             0.776474\n",
       "curve_based_price_last4      0.795749\n",
       "received_time_diff_last5     1.029006\n",
       "trade_price_last5            1.029006\n",
       "trade_size_last5             1.029006\n",
       "trade_type_last5             1.029006\n",
       "curve_based_price_last5      1.052869\n",
       "received_time_diff_last6     1.279046\n",
       "trade_price_last6            1.279046\n",
       "trade_size_last6             1.279046\n",
       "trade_type_last6             1.279046\n",
       "curve_based_price_last6      1.307498\n",
       "received_time_diff_last7     1.529217\n",
       "trade_price_last7            1.529217\n",
       "trade_size_last7             1.529217\n",
       "trade_type_last7             1.529217\n",
       "curve_based_price_last7      1.562127\n",
       "received_time_diff_last8     1.777552\n",
       "trade_price_last8            1.777552\n",
       "trade_size_last8             1.777552\n",
       "trade_type_last8             1.777552\n",
       "curve_based_price_last8      1.814921\n",
       "received_time_diff_last9     2.024839\n",
       "trade_price_last9            2.024839\n",
       "trade_size_last9             2.024839\n",
       "trade_type_last9             2.024839\n",
       "curve_based_price_last9      2.066665\n",
       "received_time_diff_last10    2.270421\n",
       "trade_price_last10           2.270421\n",
       "trade_size_last10            2.270421\n",
       "trade_type_last10            2.270421\n",
       "curve_based_price_last10     2.316705\n",
       "dtype: float64"
      ]
     },
     "execution_count": 50,
     "metadata": {},
     "output_type": "execute_result"
    }
   ],
   "source": [
    "## Missing Data\n",
    "## Compute NaN percentage of each feature.\n",
    "trades_nan = (trades.isnull().sum() / trades.shape[0]) * 100\n",
    "trades_nan[trades_nan > 0]"
   ]
  },
  {
   "cell_type": "code",
   "execution_count": 9,
   "metadata": {},
   "outputs": [
    {
     "ename": "KeyboardInterrupt",
     "evalue": "",
     "output_type": "error",
     "traceback": [
      "\u001b[0;31m---------------------------------------------------------------------------\u001b[0m",
      "\u001b[0;31mKeyboardInterrupt\u001b[0m                         Traceback (most recent call last)",
      "\u001b[0;32m<ipython-input-9-002e2c781f85>\u001b[0m in \u001b[0;36m<module>\u001b[0;34m()\u001b[0m\n\u001b[1;32m      1\u001b[0m \u001b[0mi\u001b[0m\u001b[0;34m=\u001b[0m\u001b[0;36m1\u001b[0m\u001b[0;34m\u001b[0m\u001b[0m\n\u001b[1;32m      2\u001b[0m \u001b[0;32mwhile\u001b[0m\u001b[0;34m(\u001b[0m\u001b[0mi\u001b[0m\u001b[0;34m<\u001b[0m\u001b[0;36m915157\u001b[0m\u001b[0;34m)\u001b[0m\u001b[0;34m:\u001b[0m\u001b[0;34m\u001b[0m\u001b[0m\n\u001b[0;32m----> 3\u001b[0;31m     \u001b[0mtrades\u001b[0m\u001b[0;34m[\u001b[0m\u001b[0mtrades\u001b[0m\u001b[0;34m.\u001b[0m\u001b[0mbond_id\u001b[0m\u001b[0;34m==\u001b[0m\u001b[0mi\u001b[0m\u001b[0;34m]\u001b[0m\u001b[0;34m=\u001b[0m\u001b[0mtrades\u001b[0m\u001b[0;34m[\u001b[0m\u001b[0mtrades\u001b[0m\u001b[0;34m.\u001b[0m\u001b[0mbond_id\u001b[0m\u001b[0;34m==\u001b[0m\u001b[0mi\u001b[0m\u001b[0;34m]\u001b[0m\u001b[0;34m.\u001b[0m\u001b[0mfillna\u001b[0m\u001b[0;34m(\u001b[0m\u001b[0mtrades\u001b[0m\u001b[0;34m[\u001b[0m\u001b[0mtrades\u001b[0m\u001b[0;34m.\u001b[0m\u001b[0mbond_id\u001b[0m\u001b[0;34m==\u001b[0m\u001b[0mi\u001b[0m\u001b[0;34m]\u001b[0m\u001b[0;34m.\u001b[0m\u001b[0mmean\u001b[0m\u001b[0;34m(\u001b[0m\u001b[0;34m)\u001b[0m\u001b[0;34m)\u001b[0m\u001b[0;34m\u001b[0m\u001b[0m\n\u001b[0m\u001b[1;32m      4\u001b[0m     \u001b[0mi\u001b[0m\u001b[0;34m=\u001b[0m\u001b[0mi\u001b[0m\u001b[0;34m+\u001b[0m\u001b[0;36m1\u001b[0m\u001b[0;34m\u001b[0m\u001b[0m\n",
      "\u001b[0;32m/home/hp/anaconda3/lib/python3.6/site-packages/pandas/core/frame.py\u001b[0m in \u001b[0;36m__setitem__\u001b[0;34m(self, key, value)\u001b[0m\n\u001b[1;32m   2422\u001b[0m \u001b[0;34m\u001b[0m\u001b[0m\n\u001b[1;32m   2423\u001b[0m         \u001b[0;32mif\u001b[0m \u001b[0misinstance\u001b[0m\u001b[0;34m(\u001b[0m\u001b[0mkey\u001b[0m\u001b[0;34m,\u001b[0m \u001b[0;34m(\u001b[0m\u001b[0mSeries\u001b[0m\u001b[0;34m,\u001b[0m \u001b[0mnp\u001b[0m\u001b[0;34m.\u001b[0m\u001b[0mndarray\u001b[0m\u001b[0;34m,\u001b[0m \u001b[0mlist\u001b[0m\u001b[0;34m,\u001b[0m \u001b[0mIndex\u001b[0m\u001b[0;34m)\u001b[0m\u001b[0;34m)\u001b[0m\u001b[0;34m:\u001b[0m\u001b[0;34m\u001b[0m\u001b[0m\n\u001b[0;32m-> 2424\u001b[0;31m             \u001b[0mself\u001b[0m\u001b[0;34m.\u001b[0m\u001b[0m_setitem_array\u001b[0m\u001b[0;34m(\u001b[0m\u001b[0mkey\u001b[0m\u001b[0;34m,\u001b[0m \u001b[0mvalue\u001b[0m\u001b[0;34m)\u001b[0m\u001b[0;34m\u001b[0m\u001b[0m\n\u001b[0m\u001b[1;32m   2425\u001b[0m         \u001b[0;32melif\u001b[0m \u001b[0misinstance\u001b[0m\u001b[0;34m(\u001b[0m\u001b[0mkey\u001b[0m\u001b[0;34m,\u001b[0m \u001b[0mDataFrame\u001b[0m\u001b[0;34m)\u001b[0m\u001b[0;34m:\u001b[0m\u001b[0;34m\u001b[0m\u001b[0m\n\u001b[1;32m   2426\u001b[0m             \u001b[0mself\u001b[0m\u001b[0;34m.\u001b[0m\u001b[0m_setitem_frame\u001b[0m\u001b[0;34m(\u001b[0m\u001b[0mkey\u001b[0m\u001b[0;34m,\u001b[0m \u001b[0mvalue\u001b[0m\u001b[0;34m)\u001b[0m\u001b[0;34m\u001b[0m\u001b[0m\n",
      "\u001b[0;32m/home/hp/anaconda3/lib/python3.6/site-packages/pandas/core/frame.py\u001b[0m in \u001b[0;36m_setitem_array\u001b[0;34m(self, key, value)\u001b[0m\n\u001b[1;32m   2442\u001b[0m             \u001b[0mindexer\u001b[0m \u001b[0;34m=\u001b[0m \u001b[0mkey\u001b[0m\u001b[0;34m.\u001b[0m\u001b[0mnonzero\u001b[0m\u001b[0;34m(\u001b[0m\u001b[0;34m)\u001b[0m\u001b[0;34m[\u001b[0m\u001b[0;36m0\u001b[0m\u001b[0;34m]\u001b[0m\u001b[0;34m\u001b[0m\u001b[0m\n\u001b[1;32m   2443\u001b[0m             \u001b[0mself\u001b[0m\u001b[0;34m.\u001b[0m\u001b[0m_check_setitem_copy\u001b[0m\u001b[0;34m(\u001b[0m\u001b[0;34m)\u001b[0m\u001b[0;34m\u001b[0m\u001b[0m\n\u001b[0;32m-> 2444\u001b[0;31m             \u001b[0mself\u001b[0m\u001b[0;34m.\u001b[0m\u001b[0mloc\u001b[0m\u001b[0;34m.\u001b[0m\u001b[0m_setitem_with_indexer\u001b[0m\u001b[0;34m(\u001b[0m\u001b[0mindexer\u001b[0m\u001b[0;34m,\u001b[0m \u001b[0mvalue\u001b[0m\u001b[0;34m)\u001b[0m\u001b[0;34m\u001b[0m\u001b[0m\n\u001b[0m\u001b[1;32m   2445\u001b[0m         \u001b[0;32melse\u001b[0m\u001b[0;34m:\u001b[0m\u001b[0;34m\u001b[0m\u001b[0m\n\u001b[1;32m   2446\u001b[0m             \u001b[0;32mif\u001b[0m \u001b[0misinstance\u001b[0m\u001b[0;34m(\u001b[0m\u001b[0mvalue\u001b[0m\u001b[0;34m,\u001b[0m \u001b[0mDataFrame\u001b[0m\u001b[0;34m)\u001b[0m\u001b[0;34m:\u001b[0m\u001b[0;34m\u001b[0m\u001b[0m\n",
      "\u001b[0;32m/home/hp/anaconda3/lib/python3.6/site-packages/pandas/core/indexing.py\u001b[0m in \u001b[0;36m_setitem_with_indexer\u001b[0;34m(self, indexer, value)\u001b[0m\n\u001b[1;32m    552\u001b[0m                             \u001b[0mv\u001b[0m \u001b[0;34m=\u001b[0m \u001b[0mnp\u001b[0m\u001b[0;34m.\u001b[0m\u001b[0mnan\u001b[0m\u001b[0;34m\u001b[0m\u001b[0m\n\u001b[1;32m    553\u001b[0m \u001b[0;34m\u001b[0m\u001b[0m\n\u001b[0;32m--> 554\u001b[0;31m                         \u001b[0msetter\u001b[0m\u001b[0;34m(\u001b[0m\u001b[0mitem\u001b[0m\u001b[0;34m,\u001b[0m \u001b[0mv\u001b[0m\u001b[0;34m)\u001b[0m\u001b[0;34m\u001b[0m\u001b[0m\n\u001b[0m\u001b[1;32m    555\u001b[0m \u001b[0;34m\u001b[0m\u001b[0m\n\u001b[1;32m    556\u001b[0m                 \u001b[0;31m# we have an equal len ndarray/convertible to our labels\u001b[0m\u001b[0;34m\u001b[0m\u001b[0;34m\u001b[0m\u001b[0m\n",
      "\u001b[0;32m/home/hp/anaconda3/lib/python3.6/site-packages/pandas/core/indexing.py\u001b[0m in \u001b[0;36msetter\u001b[0;34m(item, v)\u001b[0m\n\u001b[1;32m    510\u001b[0m                     \u001b[0;31m# set the item, possibly having a dtype change\u001b[0m\u001b[0;34m\u001b[0m\u001b[0;34m\u001b[0m\u001b[0m\n\u001b[1;32m    511\u001b[0m                     \u001b[0ms\u001b[0m\u001b[0;34m.\u001b[0m\u001b[0m_consolidate_inplace\u001b[0m\u001b[0;34m(\u001b[0m\u001b[0;34m)\u001b[0m\u001b[0;34m\u001b[0m\u001b[0m\n\u001b[0;32m--> 512\u001b[0;31m                     \u001b[0ms\u001b[0m \u001b[0;34m=\u001b[0m \u001b[0ms\u001b[0m\u001b[0;34m.\u001b[0m\u001b[0mcopy\u001b[0m\u001b[0;34m(\u001b[0m\u001b[0;34m)\u001b[0m\u001b[0;34m\u001b[0m\u001b[0m\n\u001b[0m\u001b[1;32m    513\u001b[0m                     \u001b[0ms\u001b[0m\u001b[0;34m.\u001b[0m\u001b[0m_data\u001b[0m \u001b[0;34m=\u001b[0m \u001b[0ms\u001b[0m\u001b[0;34m.\u001b[0m\u001b[0m_data\u001b[0m\u001b[0;34m.\u001b[0m\u001b[0msetitem\u001b[0m\u001b[0;34m(\u001b[0m\u001b[0mindexer\u001b[0m\u001b[0;34m=\u001b[0m\u001b[0mpi\u001b[0m\u001b[0;34m,\u001b[0m \u001b[0mvalue\u001b[0m\u001b[0;34m=\u001b[0m\u001b[0mv\u001b[0m\u001b[0;34m)\u001b[0m\u001b[0;34m\u001b[0m\u001b[0m\n\u001b[1;32m    514\u001b[0m                     \u001b[0ms\u001b[0m\u001b[0;34m.\u001b[0m\u001b[0m_maybe_update_cacher\u001b[0m\u001b[0;34m(\u001b[0m\u001b[0mclear\u001b[0m\u001b[0;34m=\u001b[0m\u001b[0;32mTrue\u001b[0m\u001b[0;34m)\u001b[0m\u001b[0;34m\u001b[0m\u001b[0m\n",
      "\u001b[0;32m/home/hp/anaconda3/lib/python3.6/site-packages/pandas/core/generic.py\u001b[0m in \u001b[0;36mcopy\u001b[0;34m(self, deep)\u001b[0m\n\u001b[1;32m   3319\u001b[0m         \u001b[0mcopy\u001b[0m \u001b[0;34m:\u001b[0m \u001b[0mtype\u001b[0m \u001b[0mof\u001b[0m \u001b[0mcaller\u001b[0m\u001b[0;34m\u001b[0m\u001b[0m\n\u001b[1;32m   3320\u001b[0m         \"\"\"\n\u001b[0;32m-> 3321\u001b[0;31m         \u001b[0mdata\u001b[0m \u001b[0;34m=\u001b[0m \u001b[0mself\u001b[0m\u001b[0;34m.\u001b[0m\u001b[0m_data\u001b[0m\u001b[0;34m.\u001b[0m\u001b[0mcopy\u001b[0m\u001b[0;34m(\u001b[0m\u001b[0mdeep\u001b[0m\u001b[0;34m=\u001b[0m\u001b[0mdeep\u001b[0m\u001b[0;34m)\u001b[0m\u001b[0;34m\u001b[0m\u001b[0m\n\u001b[0m\u001b[1;32m   3322\u001b[0m         \u001b[0;32mreturn\u001b[0m \u001b[0mself\u001b[0m\u001b[0;34m.\u001b[0m\u001b[0m_constructor\u001b[0m\u001b[0;34m(\u001b[0m\u001b[0mdata\u001b[0m\u001b[0;34m)\u001b[0m\u001b[0;34m.\u001b[0m\u001b[0m__finalize__\u001b[0m\u001b[0;34m(\u001b[0m\u001b[0mself\u001b[0m\u001b[0;34m)\u001b[0m\u001b[0;34m\u001b[0m\u001b[0m\n\u001b[1;32m   3323\u001b[0m \u001b[0;34m\u001b[0m\u001b[0m\n",
      "\u001b[0;32m/home/hp/anaconda3/lib/python3.6/site-packages/pandas/core/internals.py\u001b[0m in \u001b[0;36mcopy\u001b[0;34m(self, deep, mgr)\u001b[0m\n\u001b[1;32m   3434\u001b[0m             \u001b[0mnew_axes\u001b[0m \u001b[0;34m=\u001b[0m \u001b[0mlist\u001b[0m\u001b[0;34m(\u001b[0m\u001b[0mself\u001b[0m\u001b[0;34m.\u001b[0m\u001b[0maxes\u001b[0m\u001b[0;34m)\u001b[0m\u001b[0;34m\u001b[0m\u001b[0m\n\u001b[1;32m   3435\u001b[0m         return self.apply('copy', axes=new_axes, deep=deep,\n\u001b[0;32m-> 3436\u001b[0;31m                           do_integrity_check=False)\n\u001b[0m\u001b[1;32m   3437\u001b[0m \u001b[0;34m\u001b[0m\u001b[0m\n\u001b[1;32m   3438\u001b[0m     \u001b[0;32mdef\u001b[0m \u001b[0mas_matrix\u001b[0m\u001b[0;34m(\u001b[0m\u001b[0mself\u001b[0m\u001b[0;34m,\u001b[0m \u001b[0mitems\u001b[0m\u001b[0;34m=\u001b[0m\u001b[0;32mNone\u001b[0m\u001b[0;34m)\u001b[0m\u001b[0;34m:\u001b[0m\u001b[0;34m\u001b[0m\u001b[0m\n",
      "\u001b[0;32m/home/hp/anaconda3/lib/python3.6/site-packages/pandas/core/internals.py\u001b[0m in \u001b[0;36mapply\u001b[0;34m(self, f, axes, filter, do_integrity_check, consolidate, **kwargs)\u001b[0m\n\u001b[1;32m   3089\u001b[0m \u001b[0;34m\u001b[0m\u001b[0m\n\u001b[1;32m   3090\u001b[0m             \u001b[0mkwargs\u001b[0m\u001b[0;34m[\u001b[0m\u001b[0;34m'mgr'\u001b[0m\u001b[0;34m]\u001b[0m \u001b[0;34m=\u001b[0m \u001b[0mself\u001b[0m\u001b[0;34m\u001b[0m\u001b[0m\n\u001b[0;32m-> 3091\u001b[0;31m             \u001b[0mapplied\u001b[0m \u001b[0;34m=\u001b[0m \u001b[0mgetattr\u001b[0m\u001b[0;34m(\u001b[0m\u001b[0mb\u001b[0m\u001b[0;34m,\u001b[0m \u001b[0mf\u001b[0m\u001b[0;34m)\u001b[0m\u001b[0;34m(\u001b[0m\u001b[0;34m**\u001b[0m\u001b[0mkwargs\u001b[0m\u001b[0;34m)\u001b[0m\u001b[0;34m\u001b[0m\u001b[0m\n\u001b[0m\u001b[1;32m   3092\u001b[0m             \u001b[0mresult_blocks\u001b[0m \u001b[0;34m=\u001b[0m \u001b[0m_extend_blocks\u001b[0m\u001b[0;34m(\u001b[0m\u001b[0mapplied\u001b[0m\u001b[0;34m,\u001b[0m \u001b[0mresult_blocks\u001b[0m\u001b[0;34m)\u001b[0m\u001b[0;34m\u001b[0m\u001b[0m\n\u001b[1;32m   3093\u001b[0m \u001b[0;34m\u001b[0m\u001b[0m\n",
      "\u001b[0;32m/home/hp/anaconda3/lib/python3.6/site-packages/pandas/core/internals.py\u001b[0m in \u001b[0;36mcopy\u001b[0;34m(self, deep, mgr)\u001b[0m\n\u001b[1;32m    627\u001b[0m         \u001b[0mvalues\u001b[0m \u001b[0;34m=\u001b[0m \u001b[0mself\u001b[0m\u001b[0;34m.\u001b[0m\u001b[0mvalues\u001b[0m\u001b[0;34m\u001b[0m\u001b[0m\n\u001b[1;32m    628\u001b[0m         \u001b[0;32mif\u001b[0m \u001b[0mdeep\u001b[0m\u001b[0;34m:\u001b[0m\u001b[0;34m\u001b[0m\u001b[0m\n\u001b[0;32m--> 629\u001b[0;31m             \u001b[0mvalues\u001b[0m \u001b[0;34m=\u001b[0m \u001b[0mvalues\u001b[0m\u001b[0;34m.\u001b[0m\u001b[0mcopy\u001b[0m\u001b[0;34m(\u001b[0m\u001b[0;34m)\u001b[0m\u001b[0;34m\u001b[0m\u001b[0m\n\u001b[0m\u001b[1;32m    630\u001b[0m         \u001b[0;32mreturn\u001b[0m \u001b[0mself\u001b[0m\u001b[0;34m.\u001b[0m\u001b[0mmake_block_same_class\u001b[0m\u001b[0;34m(\u001b[0m\u001b[0mvalues\u001b[0m\u001b[0;34m)\u001b[0m\u001b[0;34m\u001b[0m\u001b[0m\n\u001b[1;32m    631\u001b[0m \u001b[0;34m\u001b[0m\u001b[0m\n",
      "\u001b[0;31mKeyboardInterrupt\u001b[0m: "
     ]
    }
   ],
   "source": [
    "i=1\n",
    "while(i<915157):\n",
    "    trades[trades.bond_id==i]=trades[trades.bond_id==i].fillna(trades[trades.bond_id==i].mean())\n",
    "    i=i+1"
   ]
  },
  {
   "cell_type": "markdown",
   "metadata": {},
   "source": [
    "## Justification\n",
    "### Since filling nan values with mean is much time consuming.So we considered filling it with -1"
   ]
  },
  {
   "cell_type": "code",
   "execution_count": 51,
   "metadata": {
    "collapsed": true,
    "scrolled": false
   },
   "outputs": [],
   "source": [
    "##Replacing null values with -1 of the column\n",
    "trades.fillna(-1, inplace = True)"
   ]
  },
  {
   "cell_type": "markdown",
   "metadata": {},
   "source": [
    "## -1 here indicates that no trade has occured, as there are very few null values."
   ]
  },
  {
   "cell_type": "code",
   "execution_count": 52,
   "metadata": {},
   "outputs": [
    {
     "data": {
      "text/plain": [
       "id                           0\n",
       "bond_id                      0\n",
       "trade_price                  0\n",
       "current_coupon               0\n",
       "time_to_maturity             0\n",
       "is_callable                  0\n",
       "reporting_delay              0\n",
       "trade_size                   0\n",
       "trade_type                   0\n",
       "curve_based_price            0\n",
       "received_time_diff_last1     0\n",
       "trade_price_last1            0\n",
       "trade_size_last1             0\n",
       "trade_type_last1             0\n",
       "curve_based_price_last1      0\n",
       "received_time_diff_last2     0\n",
       "trade_price_last2            0\n",
       "trade_size_last2             0\n",
       "trade_type_last2             0\n",
       "curve_based_price_last2      0\n",
       "received_time_diff_last3     0\n",
       "trade_price_last3            0\n",
       "trade_size_last3             0\n",
       "trade_type_last3             0\n",
       "curve_based_price_last3      0\n",
       "received_time_diff_last4     0\n",
       "trade_price_last4            0\n",
       "trade_size_last4             0\n",
       "trade_type_last4             0\n",
       "curve_based_price_last4      0\n",
       "received_time_diff_last5     0\n",
       "trade_price_last5            0\n",
       "trade_size_last5             0\n",
       "trade_type_last5             0\n",
       "curve_based_price_last5      0\n",
       "received_time_diff_last6     0\n",
       "trade_price_last6            0\n",
       "trade_size_last6             0\n",
       "trade_type_last6             0\n",
       "curve_based_price_last6      0\n",
       "received_time_diff_last7     0\n",
       "trade_price_last7            0\n",
       "trade_size_last7             0\n",
       "trade_type_last7             0\n",
       "curve_based_price_last7      0\n",
       "received_time_diff_last8     0\n",
       "trade_price_last8            0\n",
       "trade_size_last8             0\n",
       "trade_type_last8             0\n",
       "curve_based_price_last8      0\n",
       "received_time_diff_last9     0\n",
       "trade_price_last9            0\n",
       "trade_size_last9             0\n",
       "trade_type_last9             0\n",
       "curve_based_price_last9      0\n",
       "received_time_diff_last10    0\n",
       "trade_price_last10           0\n",
       "trade_size_last10            0\n",
       "trade_type_last10            0\n",
       "curve_based_price_last10     0\n",
       "dtype: int64"
      ]
     },
     "execution_count": 52,
     "metadata": {},
     "output_type": "execute_result"
    }
   ],
   "source": [
    "#Checking null if any\n",
    "trades.isnull().sum()"
   ]
  },
  {
   "cell_type": "markdown",
   "metadata": {},
   "source": [
    "## Checking redundant columns "
   ]
  },
  {
   "cell_type": "code",
   "execution_count": 53,
   "metadata": {},
   "outputs": [
    {
     "data": {
      "text/plain": [
       "0"
      ]
     },
     "execution_count": 53,
     "metadata": {},
     "output_type": "execute_result"
    }
   ],
   "source": [
    "remove = []\n",
    "cols = trades.columns\n",
    "for i in range(len(cols)-1):\n",
    "    v = trades[cols[i]].values\n",
    "    for j in range(i+1,len(cols)):\n",
    "        if np.array_equal(v,trades[cols[j]].values):\n",
    "            remove.append(cols[j])\n",
    "\n",
    "remove=list(set(remove))\n",
    "\n",
    "len(remove)"
   ]
  },
  {
   "cell_type": "markdown",
   "metadata": {},
   "source": [
    "## No redundant columns present"
   ]
  },
  {
   "cell_type": "markdown",
   "metadata": {},
   "source": [
    "## Data Visualisation"
   ]
  },
  {
   "cell_type": "markdown",
   "metadata": {},
   "source": [
    "#### Author - Abhinav Kinagi\n",
    "#### USN - 01FE15BCS004"
   ]
  },
  {
   "cell_type": "code",
   "execution_count": 11,
   "metadata": {
    "scrolled": true
   },
   "outputs": [
    {
     "data": {
      "text/plain": [
       "<matplotlib.axes._subplots.AxesSubplot at 0x7f3f8c36c1d0>"
      ]
     },
     "execution_count": 11,
     "metadata": {},
     "output_type": "execute_result"
    },
    {
     "data": {
      "image/png": "[encoded data removed]",
      "text/plain": [
       "<matplotlib.figure.Figure at 0x7f3f8c3cce48>"
      ]
     },
     "metadata": {},
     "output_type": "display_data"
    }
   ],
   "source": [
    "import seaborn as sns\n",
    "#Visualising trade_price of trades\n",
    "trades.trade_price.hist(range=(0,200),color=\"red\")"
   ]
  },
  {
   "cell_type": "markdown",
   "metadata": {},
   "source": [
    "### Summary\n",
    "#### +Trade price lies in between 80 to 125 dollars.\n",
    "#### +Shows peakedness."
   ]
  },
  {
   "cell_type": "code",
   "execution_count": 13,
   "metadata": {
    "scrolled": true
   },
   "outputs": [
    {
     "name": "stdout",
     "output_type": "stream",
     "text": [
      "Skewness: -1.314060\n",
      "Kurtosis: 17.924970\n"
     ]
    }
   ],
   "source": [
    "#skewness and kurtosis\n",
    "print(\"Skewness: %f\" % trades['trade_price'].skew())\n",
    "print(\"Kurtosis: %f\" % trades['trade_price'].kurt())"
   ]
  },
  {
   "cell_type": "markdown",
   "metadata": {},
   "source": [
    "### Summary\n",
    "#### It almost symmetric in distribution but is heavy-tailed."
   ]
  },
  {
   "cell_type": "code",
   "execution_count": 14,
   "metadata": {},
   "outputs": [
    {
     "data": {
      "text/plain": [
       "<matplotlib.axes._subplots.AxesSubplot at 0x7f3f8c3399e8>"
      ]
     },
     "execution_count": 14,
     "metadata": {},
     "output_type": "execute_result"
    },
    {
     "data": {
      "image/png": "[encoded data removed]",
      "text/plain": [
       "<matplotlib.figure.Figure at 0x7f3f8c2d3390>"
      ]
     },
     "metadata": {},
     "output_type": "display_data"
    }
   ],
   "source": [
    "#Visualising trade size(notional amount) at which trade occured\n",
    "trades.trade_size.hist()"
   ]
  },
  {
   "cell_type": "code",
   "execution_count": 15,
   "metadata": {
    "collapsed": true
   },
   "outputs": [],
   "source": [
    "def remove_outliers(df, column, min_val, max_val):\n",
    "    col_values = df[column].values\n",
    "    df[column] = np.where(np.logical_or(col_values<=min_val, col_values>=max_val), np.NaN, col_values)\n",
    "    return df"
   ]
  },
  {
   "cell_type": "code",
   "execution_count": 16,
   "metadata": {},
   "outputs": [
    {
     "name": "stdout",
     "output_type": "stream",
     "text": [
      "Fixing trade_price  column...completed\n"
     ]
    }
   ],
   "source": [
    "trades = remove_outliers(df = trades, column = \"trade_size\", min_val = 0, max_val = 3000000)\n",
    "trades['trade_size'].fillna(-1, inplace = True)\n",
    "print(\"Fixing trade_price  column...completed\")"
   ]
  },
  {
   "cell_type": "markdown",
   "metadata": {},
   "source": [
    "### Summary\n",
    "### Used plot histogram as it suits the large data sets rather than boxplot which is fine for small data sets.\n",
    "#### 90% of the trades have smaller size than 500,000 and there exists some large trade sizes. we need to remove outliers."
   ]
  },
  {
   "cell_type": "code",
   "execution_count": 17,
   "metadata": {},
   "outputs": [
    {
     "data": {
      "text/plain": [
       "<matplotlib.axes._subplots.AxesSubplot at 0x7f3f8c36cc88>"
      ]
     },
     "execution_count": 17,
     "metadata": {},
     "output_type": "execute_result"
    },
    {
     "data": {
      "image/png": "[encoded data removed]",
      "text/plain": [
       "<matplotlib.figure.Figure at 0x7f3f8a9ba828>"
      ]
     },
     "metadata": {},
     "output_type": "display_data"
    }
   ],
   "source": [
    "#Visualising trade size(notional amount) at which trade occured after removing outliers\n",
    "trades.trade_size.hist(color='green')"
   ]
  },
  {
   "cell_type": "code",
   "execution_count": 18,
   "metadata": {},
   "outputs": [
    {
     "data": {
      "image/png": "[encoded data removed]",
      "text/plain": [
       "<matplotlib.figure.Figure at 0x7f3f8915cb38>"
      ]
     },
     "metadata": {},
     "output_type": "display_data"
    }
   ],
   "source": [
    "#Visualising trade type of trades\n",
    "trades.trade_type.value_counts(dropna=False).plot(kind='bar', color='red', rot=0)\n",
    "plt.xlabel('Trade Type')\n",
    "sns.despine()"
   ]
  },
  {
   "cell_type": "markdown",
   "metadata": {},
   "source": [
    "### Summary\n",
    "#### 22% of the customers sells(2), 33% of the customers buys(3), 44% of trade happen between dealers(4). So much concentration can be laid on dealer part than the other."
   ]
  },
  {
   "cell_type": "markdown",
   "metadata": {},
   "source": [
    "#### Author - Anoop Ron\n",
    "#### USN - 01FE15BCS030"
   ]
  },
  {
   "cell_type": "markdown",
   "metadata": {},
   "source": [
    "### Used plot histogram as it suits the large data sets visualization rather than other plots. "
   ]
  },
  {
   "cell_type": "code",
   "execution_count": 19,
   "metadata": {},
   "outputs": [
    {
     "data": {
      "text/plain": [
       "<matplotlib.axes._subplots.AxesSubplot at 0x7f3f890d1400>"
      ]
     },
     "execution_count": 19,
     "metadata": {},
     "output_type": "execute_result"
    },
    {
     "data": {
      "image/png": "[encoded data removed]",
      "text/plain": [
       "<matplotlib.figure.Figure at 0x7f3f890ec710>"
      ]
     },
     "metadata": {},
     "output_type": "display_data"
    }
   ],
   "source": [
    "#Visualising time 0f maturity of trades\n",
    "trades.time_to_maturity.hist(bins=30,range=(0,100),color=\"red\")"
   ]
  },
  {
   "cell_type": "markdown",
   "metadata": {},
   "source": [
    "### Summary\n",
    "#### The time of maturity is less than 30 years for 98% of the bonds."
   ]
  },
  {
   "cell_type": "markdown",
   "metadata": {},
   "source": [
    "### Used plot histogram as it suits the large data sets rather than boxplot which is not as good for visualization."
   ]
  },
  {
   "cell_type": "code",
   "execution_count": 20,
   "metadata": {},
   "outputs": [
    {
     "data": {
      "text/plain": [
       "<matplotlib.axes._subplots.AxesSubplot at 0x7f3f88f520f0>"
      ]
     },
     "execution_count": 20,
     "metadata": {},
     "output_type": "execute_result"
    },
    {
     "data": {
      "image/png": "[encoded data removed]",
      "text/plain": [
       "<matplotlib.figure.Figure at 0x7f3f8911acf8>"
      ]
     },
     "metadata": {},
     "output_type": "display_data"
    }
   ],
   "source": [
    "#Visualising curve_based_price of trades\n",
    "trades.curve_based_price.hist(range=(0,200))"
   ]
  },
  {
   "cell_type": "markdown",
   "metadata": {},
   "source": [
    "### There are few outliers we need to remove"
   ]
  },
  {
   "cell_type": "code",
   "execution_count": 21,
   "metadata": {},
   "outputs": [
    {
     "name": "stdout",
     "output_type": "stream",
     "text": [
      "Fixing curve_based_price  column...completed\n"
     ]
    }
   ],
   "source": [
    "df_trades = remove_outliers(df = trades, column = \"curve_based_price\", min_val = 50, max_val = 170)\n",
    "df_trades[\"curve_based_price\"].fillna(-1, inplace = True)\n",
    "print(\"Fixing curve_based_price  column...completed\")"
   ]
  },
  {
   "cell_type": "markdown",
   "metadata": {},
   "source": [
    "### Used plot histogram as it suits the large data sets rather than boxplot which is not as good for visualization."
   ]
  },
  {
   "cell_type": "code",
   "execution_count": 22,
   "metadata": {},
   "outputs": [
    {
     "data": {
      "text/plain": [
       "<matplotlib.axes._subplots.AxesSubplot at 0x7f3f8904d748>"
      ]
     },
     "execution_count": 22,
     "metadata": {},
     "output_type": "execute_result"
    },
    {
     "data": {
      "image/png": "[encoded data removed]",
      "text/plain": [
       "<matplotlib.figure.Figure at 0x7f3fce264fd0>"
      ]
     },
     "metadata": {},
     "output_type": "display_data"
    }
   ],
   "source": [
    "#Visualising curve_based_price of trades after removing outliers\n",
    "trades.curve_based_price.hist(range=(0,200),color=\"green\")"
   ]
  },
  {
   "cell_type": "markdown",
   "metadata": {},
   "source": [
    "### Summary\n",
    "#### After removing outliers\n",
    "#### Curve based price is almost in the range of trade price graph."
   ]
  },
  {
   "cell_type": "markdown",
   "metadata": {},
   "source": [
    "### Used plot histogram as it suits the large data sets rather than boxplot which is not as good for visualization."
   ]
  },
  {
   "cell_type": "code",
   "execution_count": 23,
   "metadata": {
    "scrolled": true
   },
   "outputs": [
    {
     "data": {
      "text/plain": [
       "<matplotlib.axes._subplots.AxesSubplot at 0x7f3f88e2ef60>"
      ]
     },
     "execution_count": 23,
     "metadata": {},
     "output_type": "execute_result"
    },
    {
     "data": {
      "image/png": "[encoded data removed]",
      "text/plain": [
       "<matplotlib.figure.Figure at 0x7f3f88e70da0>"
      ]
     },
     "metadata": {},
     "output_type": "display_data"
    }
   ],
   "source": [
    "#Visualising recieved time difference last at which first transaction of the trade\n",
    "trades.received_time_diff_last1.hist()"
   ]
  },
  {
   "cell_type": "markdown",
   "metadata": {},
   "source": [
    "### Summary\n",
    "#### We infer that about 99% of trades are uploaded within 850 seconds of the previous transaction. So we need to predict trade price early and get paid."
   ]
  },
  {
   "cell_type": "markdown",
   "metadata": {},
   "source": [
    "#### Author - Abhishek Patil\n",
    "#### USN - 01FE15BCS006"
   ]
  },
  {
   "cell_type": "markdown",
   "metadata": {},
   "source": [
    "### Bar Plot is best choosed because the no. of values for attributes are less for visualisation. "
   ]
  },
  {
   "cell_type": "code",
   "execution_count": 24,
   "metadata": {},
   "outputs": [
    {
     "data": {
      "image/png": "[encoded data removed]",
      "text/plain": [
       "<matplotlib.figure.Figure at 0x7f3f88e60400>"
      ]
     },
     "metadata": {},
     "output_type": "display_data"
    }
   ],
   "source": [
    "#Visualising the whether bond is callable or not\n",
    "trades.is_callable.value_counts(dropna=False).plot(kind='bar', color='red', rot=0)\n",
    "plt.xlabel('Is Callable')\n",
    "sns.despine()"
   ]
  },
  {
   "cell_type": "markdown",
   "metadata": {},
   "source": [
    "### Summary\n",
    "#### 0 indicates the bond is not callable and 1 indicates that the bond is callable. So we infer that about 90% of the bonds are not callable."
   ]
  },
  {
   "cell_type": "markdown",
   "metadata": {},
   "source": [
    "### Used plot histogram as it suits the large data sets rather than boxplot which is not as good for visualization."
   ]
  },
  {
   "cell_type": "code",
   "execution_count": 25,
   "metadata": {},
   "outputs": [
    {
     "data": {
      "text/plain": [
       "<matplotlib.axes._subplots.AxesSubplot at 0x7f3f88ccd128>"
      ]
     },
     "execution_count": 25,
     "metadata": {},
     "output_type": "execute_result"
    },
    {
     "data": {
      "image/png": "[encoded data removed]",
      "text/plain": [
       "<matplotlib.figure.Figure at 0x7f3f88cdb1d0>"
      ]
     },
     "metadata": {},
     "output_type": "display_data"
    }
   ],
   "source": [
    "#Visualising the current coupon\n",
    "trades.current_coupon.hist(label='Histogram',bins=40,range=(-1,14),rwidth=0.9,stacked=True,color=\"red\")\n",
    "#plt.xlabel('Current Coupon')\n",
    "#sns.despine()"
   ]
  },
  {
   "cell_type": "markdown",
   "metadata": {},
   "source": [
    "### Summary\n",
    "#### The current coupon visualisation infers that most of the coupons lie in between 4.3 to 6.3."
   ]
  },
  {
   "cell_type": "markdown",
   "metadata": {},
   "source": [
    "### Used plot histogram as it suits the large data sets rather than boxplot which is not as good for visualization."
   ]
  },
  {
   "cell_type": "code",
   "execution_count": 26,
   "metadata": {},
   "outputs": [
    {
     "data": {
      "text/plain": [
       "<matplotlib.axes._subplots.AxesSubplot at 0x7f3f88ccd240>"
      ]
     },
     "execution_count": 26,
     "metadata": {},
     "output_type": "execute_result"
    },
    {
     "data": {
      "image/png": "[encoded data removed]",
      "text/plain": [
       "<matplotlib.figure.Figure at 0x7f3f88d234a8>"
      ]
     },
     "metadata": {},
     "output_type": "display_data"
    }
   ],
   "source": [
    "#Visualising the reporting delay\n",
    "trades.reporting_delay.hist(range=(-5.858100e+01,9.987914e+04))"
   ]
  },
  {
   "cell_type": "markdown",
   "metadata": {},
   "source": [
    "### Summary\n",
    "#### We see that most of the values are clustered to left and some outliers exist."
   ]
  },
  {
   "cell_type": "code",
   "execution_count": 27,
   "metadata": {},
   "outputs": [
    {
     "name": "stdout",
     "output_type": "stream",
     "text": [
      "Fixing reporting delay column...completed\n"
     ]
    }
   ],
   "source": [
    "trades = remove_outliers(df = trades, column = \"reporting_delay\", min_val = 0, max_val = 20000)\n",
    "trades['reporting_delay'].fillna(-1, inplace = True)\n",
    "print(\"Fixing reporting delay column...completed\")\n"
   ]
  },
  {
   "cell_type": "code",
   "execution_count": 28,
   "metadata": {},
   "outputs": [
    {
     "data": {
      "text/plain": [
       "<matplotlib.axes._subplots.AxesSubplot at 0x7f3f88c4cf28>"
      ]
     },
     "execution_count": 28,
     "metadata": {},
     "output_type": "execute_result"
    },
    {
     "data": {
      "image/png": "[encoded data removed]",
      "text/plain": [
       "<matplotlib.figure.Figure at 0x7f3f88b80eb8>"
      ]
     },
     "metadata": {},
     "output_type": "display_data"
    }
   ],
   "source": [
    "#Visualising the reporting delay\n",
    "trades.reporting_delay.hist(range=(-5.858100e+01,9.987914e+04),color=\"green\")"
   ]
  },
  {
   "cell_type": "markdown",
   "metadata": {},
   "source": [
    "# Relation between the trade price and other variables"
   ]
  },
  {
   "cell_type": "markdown",
   "metadata": {},
   "source": [
    "## Correlation matrix because we will be able to visualize all the attributes against the dependent attributes."
   ]
  },
  {
   "cell_type": "code",
   "execution_count": 31,
   "metadata": {},
   "outputs": [
    {
     "data": {
      "image/png": "[encoded data removed]",
      "text/plain": [
       "<matplotlib.figure.Figure at 0x7f3f86e08e48>"
      ]
     },
     "metadata": {},
     "output_type": "display_data"
    }
   ],
   "source": [
    "#correlation matrix\n",
    "corrmat = trades.corr()\n",
    "f, ax = plt.subplots(figsize=(12, 9))\n",
    "sns.heatmap(corrmat, vmax=.8, square=True); #vmax is the maximum limit of correlation"
   ]
  },
  {
   "cell_type": "markdown",
   "metadata": {},
   "source": [
    "## Summary\n",
    "### Maximum correlation is 0.8 ,we are considering those attributes having correlation greater than 0.5.\n",
    "### Because attributes having higher correlation are  linearly proportinonal.\n",
    " ### Curve_based_price,trade_price_last1,curve_based_price_last1,curve_based_price_last2,curve_based_price_last3,curve_based_price_last4,trade_price_last1,trade_price_last2,trade_price_last3,trade_price_last4 are strongly corelated with the trade prices with value 0.5, there is also coorelation among last 6 trade_price,curve_based_prices."
   ]
  },
  {
   "cell_type": "markdown",
   "metadata": {},
   "source": [
    "### Used plot boxplot as it suits to know all the statistical parameters."
   ]
  },
  {
   "cell_type": "code",
   "execution_count": 32,
   "metadata": {},
   "outputs": [
    {
     "data": {
      "image/png": "[encoded data removed]",
      "text/plain": [
       "<matplotlib.figure.Figure at 0x7f3f88880ef0>"
      ]
     },
     "metadata": {},
     "output_type": "display_data"
    }
   ],
   "source": [
    "#box plot is_callable/trade_price\n",
    "var = 'is_callable'\n",
    "data = pd.concat([trades['trade_price'], trades[var]], axis=1)\n",
    "f, ax = plt.subplots(figsize=(8, 6))\n",
    "fig = sns.boxplot(x=var, y=\"trade_price\", data=data)"
   ]
  },
  {
   "cell_type": "markdown",
   "metadata": {},
   "source": [
    "## Summary\n",
    "### 90% of the bonds with trade_price higher than 103 dollars are non_callable."
   ]
  },
  {
   "cell_type": "markdown",
   "metadata": {},
   "source": [
    "### Used plot scatter as it shows type of correlation."
   ]
  },
  {
   "cell_type": "code",
   "execution_count": 33,
   "metadata": {},
   "outputs": [
    {
     "data": {
      "image/png": "[encoded data removed]",
      "text/plain": [
       "<matplotlib.figure.Figure at 0x7f3f8a9ba550>"
      ]
     },
     "metadata": {},
     "output_type": "display_data"
    }
   ],
   "source": [
    "#scatter plot curve_based_price/trade_price\n",
    "var = 'curve_based_price'\n",
    "data = pd.concat([trades['trade_price'], trades[var]], axis=1)\n",
    "data.plot.scatter(x=var, y='trade_price');"
   ]
  },
  {
   "cell_type": "markdown",
   "metadata": {},
   "source": [
    "## Summary\n",
    "### Curve based price and trade price are positively corelated but some times zero credit will be shared between each other."
   ]
  },
  {
   "cell_type": "markdown",
   "metadata": {},
   "source": [
    "### Used plot scatter as it shows type of correlation."
   ]
  },
  {
   "cell_type": "code",
   "execution_count": 34,
   "metadata": {},
   "outputs": [
    {
     "data": {
      "image/png": "[encoded data removed]",
      "text/plain": [
       "<matplotlib.figure.Figure at 0x7f3f88821c88>"
      ]
     },
     "metadata": {},
     "output_type": "display_data"
    }
   ],
   "source": [
    "#scatter plot is_time_of_maturity/trade_price\n",
    "\n",
    "var = 'time_to_maturity'\n",
    "data = pd.concat([trades['trade_price'], trades[var]], axis=1)\n",
    "data.plot.scatter(x=var, y='trade_price');"
   ]
  },
  {
   "cell_type": "markdown",
   "metadata": {},
   "source": [
    "## Summary\n",
    "### It seems there is no coorelation between trade price as such."
   ]
  },
  {
   "cell_type": "markdown",
   "metadata": {},
   "source": [
    "### Used plot scatter as it shows type of correlation."
   ]
  },
  {
   "cell_type": "code",
   "execution_count": 35,
   "metadata": {},
   "outputs": [
    {
     "data": {
      "image/png": "[encoded data removed]",
      "text/plain": [
       "<matplotlib.figure.Figure at 0x7f3f7a36a898>"
      ]
     },
     "metadata": {},
     "output_type": "display_data"
    }
   ],
   "source": [
    "#scatter plot curve_based_price/trade_price\n",
    "var = 'reporting_delay'\n",
    "data = pd.concat([trades['trade_price'], trades[var]], axis=1)\n",
    "data.plot.scatter(x=var, y='trade_price');"
   ]
  },
  {
   "cell_type": "code",
   "execution_count": 36,
   "metadata": {},
   "outputs": [
    {
     "data": {
      "image/png": "[encoded data removed]",
      "text/plain": [
       "<matplotlib.figure.Figure at 0x7f3f88796208>"
      ]
     },
     "metadata": {},
     "output_type": "display_data"
    }
   ],
   "source": [
    "#scatter plot curve_based_price/trade_price\n",
    "var = 'current_coupon'\n",
    "data = pd.concat([trades['trade_price'], trades[var]], axis=1)\n",
    "data.plot.scatter(x=var, y='trade_price');"
   ]
  },
  {
   "cell_type": "markdown",
   "metadata": {},
   "source": [
    "## Summary\n",
    "### It seems there is no coorelation between trade price as such."
   ]
  },
  {
   "cell_type": "code",
   "execution_count": 37,
   "metadata": {},
   "outputs": [
    {
     "data": {
      "image/png": "[encoded data removed]",
      "text/plain": [
       "<matplotlib.figure.Figure at 0x7f3f7a2840b8>"
      ]
     },
     "metadata": {},
     "output_type": "display_data"
    }
   ],
   "source": [
    "#scatter plot curve_based_price/trade_price\n",
    "var = 'received_time_diff_last10'\n",
    "data = pd.concat([trades['trade_price'], trades[var]], axis=1)\n",
    "data.plot.scatter(x=var, y='trade_price');\n"
   ]
  },
  {
   "cell_type": "markdown",
   "metadata": {},
   "source": [
    "## Summary\n",
    "### Received time difference is weakly correlated"
   ]
  },
  {
   "cell_type": "markdown",
   "metadata": {},
   "source": [
    "# Building linear model\n",
    "### Data Modelling"
   ]
  },
  {
   "cell_type": "markdown",
   "metadata": {},
   "source": [
    "## Considering the attributes which are coorelated with trade_price,"
   ]
  },
  {
   "cell_type": "code",
   "execution_count": 54,
   "metadata": {},
   "outputs": [],
   "source": [
    "attributes = ['is_callable','curve_based_price_last1','curve_based_price_last2','curve_based_price_last3','curve_based_price_last4','curve_based_price_last5','curve_based_price','trade_price_last1','trade_price_last2','trade_price_last3','trade_price_last4']\n",
    "training_data=trades\n",
    "testing_data=df_test\n",
    "training_data.set_index('id', inplace=True)\n",
    "\n",
    "\n",
    "i=training_data.shape[0]\n",
    "training_data = training_data[:i]\n",
    "\n",
    "yy = training_data['trade_price']\n",
    "XX = training_data.drop(attributes, axis=1, inplace=False)\n"
   ]
  },
  {
   "cell_type": "code",
   "execution_count": 91,
   "metadata": {
    "collapsed": true
   },
   "outputs": [],
   "source": [
    "models = []\n",
    "score = []"
   ]
  },
  {
   "cell_type": "markdown",
   "metadata": {},
   "source": [
    "## XGBoost Regression"
   ]
  },
  {
   "cell_type": "code",
   "execution_count": 63,
   "metadata": {},
   "outputs": [
    {
     "data": {
      "text/plain": [
       "0.99994445813564559"
      ]
     },
     "execution_count": 63,
     "metadata": {},
     "output_type": "execute_result"
    }
   ],
   "source": [
    "import xgboost as xg\n",
    "\n",
    "from sklearn.model_selection import train_test_split  \n",
    "X_train, X_test, y_train, y_test = train_test_split(XX, yy, test_size=0.2,  \n",
    "                                                    random_state=42)\n",
    "\n",
    "\n",
    "max_depth = 3\n",
    "min_child_weight = 10\n",
    "subsample = 0.5\n",
    "colsample_bytree = 0.6\n",
    "objective = 'reg:linear'\n",
    "num_estimators = 1000\n",
    "learning_rate = 0.3\n",
    "\n",
    "features = X_train\n",
    "target = y_train\n",
    "mdl = xg.XGBRegressor(max_depth=max_depth,\n",
    "                min_child_weight=min_child_weight,\n",
    "                subsample=subsample,\n",
    "                colsample_bytree=colsample_bytree,\n",
    "                objective=objective,\n",
    "                n_estimators=num_estimators,\n",
    "                learning_rate=learning_rate)\n",
    "mdl.fit(features, target)\n",
    "\n",
    "predicted = mdl.predict(X_test)\n",
    "\n",
    "models.append(\"XGBRegressor\")\n",
    "score.append(explained_variance_score(y_test,predicted) )\n",
    "\n",
    "explained_variance_score(y_test , predicted)"
   ]
  },
  {
   "cell_type": "markdown",
   "metadata": {},
   "source": [
    "## Training the Model with XGBoost Regression since we are predicting the trade_price. "
   ]
  },
  {
   "cell_type": "code",
   "execution_count": 56,
   "metadata": {},
   "outputs": [
    {
     "data": {
      "text/plain": [
       "[109.49553,\n",
       " 101.45741,\n",
       " 100.35221,\n",
       " 108.44855,\n",
       " 99.758209,\n",
       " 100.51539,\n",
       " 99.975502,\n",
       " 98.88694,\n",
       " 106.02942,\n",
       " 109.81221,\n",
       " 106.80433,\n",
       " 99.779037,\n",
       " 130.438,\n",
       " 122.45109,\n",
       " 106.34393,\n",
       " 104.93732,\n",
       " 95.709511,\n",
       " 100.26275,\n",
       " 100.07904,\n",
       " 132.78534,\n",
       " 107.00229,\n",
       " 101.94651,\n",
       " 114.59534,\n",
       " 100.49796,\n",
       " 109.8894,\n",
       " 99.803085,\n",
       " 100.0975,\n",
       " 89.964432,\n",
       " 102.00167,\n",
       " 95.953644,\n",
       " 99.714394,\n",
       " 96.687492,\n",
       " 103.28519,\n",
       " 101.90172,\n",
       " 107.0085,\n",
       " 111.69444,\n",
       " 119.15935,\n",
       " 94.684464,\n",
       " 103.21076,\n",
       " 104.59386,\n",
       " 100.083,\n",
       " 90.637505,\n",
       " 97.018051,\n",
       " 104.659,\n",
       " 101.41308,\n",
       " 105.57718,\n",
       " 98.235825,\n",
       " 85.073524,\n",
       " 101.01505,\n",
       " 103.22581,\n",
       " 100.94723,\n",
       " 130.69771,\n",
       " 103.54622,\n",
       " 117.52084,\n",
       " 105.47607,\n",
       " 101.88354,\n",
       " 100.99751,\n",
       " 98.534309,\n",
       " 107.14856,\n",
       " 101.42702,\n",
       " 111.7247,\n",
       " 126.32877,\n",
       " 100.90658,\n",
       " 106.77384,\n",
       " 100.741,\n",
       " 95.335243,\n",
       " 100.23388,\n",
       " 100.70686,\n",
       " 99.721718,\n",
       " 103.43801,\n",
       " 99.968163,\n",
       " 111.77412,\n",
       " 101.75396,\n",
       " 105.00418,\n",
       " 107.73445,\n",
       " 105.57542,\n",
       " 98.182861,\n",
       " 95.02562,\n",
       " 104.0251,\n",
       " 106.41364,\n",
       " 104.37746,\n",
       " 104.36245,\n",
       " 104.0774,\n",
       " 116.38838,\n",
       " 110.96212,\n",
       " 101.92789,\n",
       " 102.71804,\n",
       " 98.106964,\n",
       " 95.937866,\n",
       " 99.045242,\n",
       " 99.80246,\n",
       " 97.864708,\n",
       " 115.88394,\n",
       " 96.979431,\n",
       " 123.42203,\n",
       " 93.050758,\n",
       " 106.48219,\n",
       " 111.47082,\n",
       " 98.225456,\n",
       " 101.60336,\n",
       " 116.6441,\n",
       " 102.26878,\n",
       " 102.93866,\n",
       " 105.38441,\n",
       " 101.27046,\n",
       " 100.87795,\n",
       " 95.345276,\n",
       " 97.110764,\n",
       " 106.47543,\n",
       " 86.272804,\n",
       " 96.467209,\n",
       " 96.64817,\n",
       " 96.215881,\n",
       " 96.246246,\n",
       " 95.846329,\n",
       " 89.264488,\n",
       " 115.43918,\n",
       " 112.15904,\n",
       " 103.91378,\n",
       " 106.98946,\n",
       " 102.71314,\n",
       " 104.52063,\n",
       " 99.745369,\n",
       " 99.088158,\n",
       " 105.03532,\n",
       " 107.78552,\n",
       " 101.92804,\n",
       " 110.64239,\n",
       " 101.74485,\n",
       " 98.720016,\n",
       " 97.518799,\n",
       " 116.47564,\n",
       " 102.25227,\n",
       " 103.12382,\n",
       " 22.366888,\n",
       " 90.463829,\n",
       " 103.11989,\n",
       " 101.65103,\n",
       " 100.02813,\n",
       " 100.11694,\n",
       " 102.4332,\n",
       " 111.99229,\n",
       " 100.97044,\n",
       " 94.176849,\n",
       " 132.45032,\n",
       " 111.40062,\n",
       " 111.02239,\n",
       " 97.768059,\n",
       " 95.10083,\n",
       " 97.214317,\n",
       " 104.1443,\n",
       " 96.492073,\n",
       " 127.14268,\n",
       " 119.12432,\n",
       " 97.672966,\n",
       " 116.35128,\n",
       " 111.59903,\n",
       " 100.28774,\n",
       " 98.906647,\n",
       " 98.018005,\n",
       " 100.3005,\n",
       " 102.45609,\n",
       " 102.72587,\n",
       " 105.3087,\n",
       " 113.88158,\n",
       " 99.090965,\n",
       " 109.1624,\n",
       " 101.87022,\n",
       " 101.00229,\n",
       " 112.71042,\n",
       " 102.72479,\n",
       " 100.85075,\n",
       " 115.48003,\n",
       " 99.760361,\n",
       " 99.451187,\n",
       " 95.303596,\n",
       " 98.830765,\n",
       " 103.38311,\n",
       " 102.5811,\n",
       " 86.9058,\n",
       " 114.86372,\n",
       " 94.031769,\n",
       " 90.488876,\n",
       " 107.97752,\n",
       " 97.118759,\n",
       " 116.45625,\n",
       " 105.12167,\n",
       " 101.35673,\n",
       " 100.46068,\n",
       " 99.902679,\n",
       " 102.98537,\n",
       " 100.27039,\n",
       " 91.081779,\n",
       " 98.866974,\n",
       " 91.973518,\n",
       " 101.2169,\n",
       " 108.19731,\n",
       " 114.19215,\n",
       " 105.96625,\n",
       " 103.78451,\n",
       " 108.60895,\n",
       " 103.25707,\n",
       " 100.01627,\n",
       " 105.89497,\n",
       " 98.714859,\n",
       " 120.54155,\n",
       " 103.55151,\n",
       " 97.566376,\n",
       " 102.22849,\n",
       " 102.03226,\n",
       " 100.48257,\n",
       " 99.008667,\n",
       " 100.37636,\n",
       " 104.94067,\n",
       " 100.77722,\n",
       " 103.23714,\n",
       " 99.050346,\n",
       " 115.2626,\n",
       " 109.53528,\n",
       " 105.80629,\n",
       " 100.33179,\n",
       " 108.42943,\n",
       " 86.893387,\n",
       " 113.83728,\n",
       " 106.76734,\n",
       " 103.61632,\n",
       " 101.3638,\n",
       " 100.47876,\n",
       " 100.42808,\n",
       " 111.63889,\n",
       " 111.66743,\n",
       " 104.32573,\n",
       " 106.14352,\n",
       " 89.926315,\n",
       " 102.60392,\n",
       " 108.65658,\n",
       " 107.00117,\n",
       " 119.30134,\n",
       " 100.71515,\n",
       " 94.512009,\n",
       " 110.43126,\n",
       " 101.99085,\n",
       " 97.233513,\n",
       " 107.93591,\n",
       " 118.27129,\n",
       " 111.80804,\n",
       " 101.36926,\n",
       " 104.15875,\n",
       " 103.76597,\n",
       " 105.44538,\n",
       " 101.0201,\n",
       " 109.1843,\n",
       " 114.86358,\n",
       " 99.021385,\n",
       " 105.52991,\n",
       " 96.258926,\n",
       " 106.77471,\n",
       " 100.10343,\n",
       " 111.7524,\n",
       " 104.38169,\n",
       " 104.38668,\n",
       " 106.76364,\n",
       " 114.02484,\n",
       " 103.10149,\n",
       " 99.368134,\n",
       " 103.7708,\n",
       " 101.66763,\n",
       " 99.985313,\n",
       " 101.11953,\n",
       " 99.874229,\n",
       " 100.07941,\n",
       " 114.67776,\n",
       " 107.21676,\n",
       " 109.80861,\n",
       " 103.11232,\n",
       " 97.201935,\n",
       " 101.89855,\n",
       " 101.6542,\n",
       " 106.99805,\n",
       " 96.16011,\n",
       " 102.48943,\n",
       " 113.24194,\n",
       " 108.45786,\n",
       " 141.31067,\n",
       " 101.97536,\n",
       " 125.67056,\n",
       " 105.68452,\n",
       " 102.07686,\n",
       " 101.70078,\n",
       " 101.5861,\n",
       " 101.46552,\n",
       " 107.93134,\n",
       " 107.69466,\n",
       " 114.73699,\n",
       " 101.22466,\n",
       " 114.1701,\n",
       " 92.741974,\n",
       " 111.26456,\n",
       " 102.92927,\n",
       " 107.15484,\n",
       " 99.538589,\n",
       " 115.45573,\n",
       " 100.69266,\n",
       " 101.15813,\n",
       " 104.57751,\n",
       " 117.07613,\n",
       " 104.32164,\n",
       " 96.28141,\n",
       " 100.56323,\n",
       " 100.71465,\n",
       " 109.05417,\n",
       " 106.15517,\n",
       " 100.0995,\n",
       " 104.51933,\n",
       " 103.61498,\n",
       " 96.23439,\n",
       " 101.37393,\n",
       " 108.82422,\n",
       " 107.89928,\n",
       " 102.48084,\n",
       " 105.33324,\n",
       " 101.86609,\n",
       " 104.48623,\n",
       " 113.12844,\n",
       " 102.02609,\n",
       " 106.74756,\n",
       " 90.35598,\n",
       " 95.657196,\n",
       " 107.18932,\n",
       " 108.1076,\n",
       " 100.00189,\n",
       " 110.47498,\n",
       " 99.232872,\n",
       " 100.22282,\n",
       " 87.927681,\n",
       " 106.46831,\n",
       " 97.004311,\n",
       " 123.81596,\n",
       " 113.44476,\n",
       " 101.90384,\n",
       " 100.8777,\n",
       " 105.29832,\n",
       " 111.90472,\n",
       " 97.742294,\n",
       " 110.08083,\n",
       " 101.17852,\n",
       " 100.13525,\n",
       " 97.08403,\n",
       " 97.695183,\n",
       " 108.46912,\n",
       " 121.116,\n",
       " 110.65859,\n",
       " 101.13343,\n",
       " 100.59331,\n",
       " 94.959137,\n",
       " 98.451454,\n",
       " 97.981506,\n",
       " 114.66671,\n",
       " 97.499054,\n",
       " 103.76723,\n",
       " 99.449333,\n",
       " 105.69461,\n",
       " 99.064384,\n",
       " 100.36899,\n",
       " 114.19519,\n",
       " 91.135681,\n",
       " 107.17297,\n",
       " 96.711639,\n",
       " 113.28703,\n",
       " 91.88385,\n",
       " 104.62054,\n",
       " 107.72311,\n",
       " 100.07726,\n",
       " 99.011803,\n",
       " 99.896973,\n",
       " 91.022438,\n",
       " 102.36976,\n",
       " 101.7203,\n",
       " 108.32314,\n",
       " 103.98424,\n",
       " 97.555679,\n",
       " 96.844826,\n",
       " 99.23188,\n",
       " 118.00467,\n",
       " 90.981262,\n",
       " 114.98579,\n",
       " 91.235428,\n",
       " 106.71497,\n",
       " 92.196754,\n",
       " 104.5154,\n",
       " 106.06847,\n",
       " 99.997231,\n",
       " 93.739685,\n",
       " 95.286148,\n",
       " 101.67438,\n",
       " 115.47215,\n",
       " 101.00241,\n",
       " 113.4156,\n",
       " 104.83129,\n",
       " 103.58199,\n",
       " 101.39178,\n",
       " 103.82549,\n",
       " 102.11954,\n",
       " 101.01154,\n",
       " 114.71998,\n",
       " 103.5528,\n",
       " 101.96912,\n",
       " 111.34603,\n",
       " 102.56906,\n",
       " 95.520096,\n",
       " 130.71309,\n",
       " 110.65481,\n",
       " 100.29357,\n",
       " 86.996918,\n",
       " 84.31665,\n",
       " 92.586327,\n",
       " 99.454552,\n",
       " 109.50746,\n",
       " 99.863335,\n",
       " 90.27179,\n",
       " 97.288948,\n",
       " 103.53832,\n",
       " 107.23689,\n",
       " 102.3062,\n",
       " 96.35585,\n",
       " 94.044464,\n",
       " 101.9376,\n",
       " 115.27977,\n",
       " 105.13871,\n",
       " 115.83304,\n",
       " 106.12427,\n",
       " 97.386421,\n",
       " 102.45538,\n",
       " 102.12096,\n",
       " 91.023094,\n",
       " 99.665535,\n",
       " 116.02552,\n",
       " 107.9453,\n",
       " 104.82673,\n",
       " 104.94707,\n",
       " 106.66045,\n",
       " 106.98997,\n",
       " 90.366173,\n",
       " 107.95123,\n",
       " 98.030457,\n",
       " 102.71948,\n",
       " 100.50036,\n",
       " 107.13201,\n",
       " 119.65656,\n",
       " 105.18929,\n",
       " 99.789856,\n",
       " 118.70809,\n",
       " 108.57136,\n",
       " 112.25378,\n",
       " 102.72324,\n",
       " 108.81595,\n",
       " 100.00423,\n",
       " 116.63415,\n",
       " 98.148689,\n",
       " 106.99761,\n",
       " 123.10531,\n",
       " 96.877769,\n",
       " 100.51949,\n",
       " 104.39841,\n",
       " 107.808,\n",
       " 117.02003,\n",
       " 98.523148,\n",
       " 111.39555,\n",
       " 69.760422,\n",
       " 109.35717,\n",
       " 101.22822,\n",
       " 103.26443,\n",
       " 106.98847,\n",
       " 114.35361,\n",
       " 111.23056,\n",
       " 109.85822,\n",
       " 104.01911,\n",
       " 115.19851,\n",
       " 99.888252,\n",
       " 105.34697,\n",
       " 100.51143,\n",
       " 103.13198,\n",
       " 107.95191,\n",
       " 108.41117,\n",
       " 100.78879,\n",
       " 100.21125,\n",
       " 103.82785,\n",
       " 118.30589,\n",
       " 90.281403,\n",
       " 92.2425,\n",
       " 97.248016,\n",
       " 111.05121,\n",
       " 88.424774,\n",
       " 108.37651,\n",
       " 105.79671,\n",
       " 137.64766,\n",
       " 130.4413,\n",
       " 99.80088,\n",
       " 104.85813,\n",
       " 100.16393,\n",
       " 100.69292,\n",
       " 118.2463,\n",
       " 103.96507,\n",
       " 103.01598,\n",
       " 100.48248,\n",
       " 105.56887,\n",
       " 103.62897,\n",
       " 109.4082,\n",
       " 103.92329,\n",
       " 105.08449,\n",
       " 112.27796,\n",
       " 93.923767,\n",
       " 107.62708,\n",
       " 99.906235,\n",
       " 101.34929,\n",
       " 115.80679,\n",
       " 105.09377,\n",
       " 100.14874,\n",
       " 95.591805,\n",
       " 100.30342,\n",
       " 100.79321,\n",
       " 112.89851,\n",
       " 111.32169,\n",
       " 105.0892,\n",
       " 114.9273,\n",
       " 116.72988,\n",
       " 104.82969,\n",
       " 96.511314,\n",
       " 96.493332,\n",
       " 105.29981,\n",
       " 101.32375,\n",
       " 98.041138,\n",
       " 105.80377,\n",
       " 110.11542,\n",
       " 106.39775,\n",
       " 97.511696,\n",
       " 97.66674,\n",
       " 104.51729,\n",
       " 101.33276,\n",
       " 116.28288,\n",
       " 88.378502,\n",
       " 95.714828,\n",
       " 105.89198,\n",
       " 101.22477,\n",
       " 100.63113,\n",
       " 107.69798,\n",
       " 104.78819,\n",
       " 102.79034,\n",
       " 99.63443,\n",
       " 108.97338,\n",
       " 108.57967,\n",
       " 99.511879,\n",
       " 118.00369,\n",
       " 111.0698,\n",
       " 119.0526,\n",
       " 100.07355,\n",
       " 116.70336,\n",
       " 101.69833,\n",
       " 104.94614,\n",
       " 104.91494,\n",
       " 100.56091,\n",
       " 132.96399,\n",
       " 98.86824,\n",
       " 90.327499,\n",
       " 96.280357,\n",
       " 123.84485,\n",
       " 99.898621,\n",
       " 108.7781,\n",
       " 98.544304,\n",
       " 104.17672,\n",
       " 96.982864,\n",
       " 106.90803,\n",
       " 107.96499,\n",
       " 100.70041,\n",
       " 103.41325,\n",
       " 111.61755,\n",
       " 99.939682,\n",
       " 106.42439,\n",
       " 102.61495,\n",
       " 90.438843,\n",
       " 67.682762,\n",
       " 114.56908,\n",
       " 96.905205,\n",
       " 101.1243,\n",
       " 107.27377,\n",
       " 101.48576,\n",
       " 99.227646,\n",
       " 100.10735,\n",
       " 100.79819,\n",
       " 99.198601,\n",
       " 113.33778,\n",
       " 103.8183,\n",
       " 115.05521,\n",
       " 103.38234,\n",
       " 100.69328,\n",
       " 93.146828,\n",
       " 99.788979,\n",
       " 100.7077,\n",
       " 101.66936,\n",
       " 96.176811,\n",
       " 103.14117,\n",
       " 114.62218,\n",
       " 103.41089,\n",
       " 93.096924,\n",
       " 101.62896,\n",
       " 99.971809,\n",
       " 109.46265,\n",
       " 112.24763,\n",
       " 101.00133,\n",
       " 102.9999,\n",
       " 107.92839,\n",
       " 93.809113,\n",
       " 95.470154,\n",
       " 103.41507,\n",
       " 100.22611,\n",
       " 99.482361,\n",
       " 107.88979,\n",
       " 108.78967,\n",
       " 109.29909,\n",
       " 104.07558,\n",
       " 116.83774,\n",
       " 97.204041,\n",
       " 111.64604,\n",
       " 101.91846,\n",
       " 101.02207,\n",
       " 104.72526,\n",
       " 94.949493,\n",
       " 100.80267,\n",
       " 104.29412,\n",
       " 97.11525,\n",
       " 105.5243,\n",
       " 98.622421,\n",
       " 102.03037,\n",
       " 99.572304,\n",
       " 100.55038,\n",
       " 105.55283,\n",
       " 101.01079,\n",
       " 100.49805,\n",
       " 74.913086,\n",
       " 122.68843,\n",
       " 110.45486,\n",
       " 106.05033,\n",
       " 100.87,\n",
       " 117.42957,\n",
       " 113.74428,\n",
       " 107.62569,\n",
       " 104.01225,\n",
       " 100.65725,\n",
       " 114.0786,\n",
       " 110.33875,\n",
       " 104.13618,\n",
       " 110.1361,\n",
       " 99.571297,\n",
       " 90.370377,\n",
       " 90.483337,\n",
       " 98.889862,\n",
       " 105.18707,\n",
       " 110.3657,\n",
       " 103.83044,\n",
       " 98.829216,\n",
       " 130.0542,\n",
       " 98.937347,\n",
       " 91.597534,\n",
       " 115.57374,\n",
       " 96.269623,\n",
       " 91.8368,\n",
       " 97.190086,\n",
       " 102.4091,\n",
       " 101.01391,\n",
       " 103.23048,\n",
       " 132.18602,\n",
       " 102.90027,\n",
       " 96.2015,\n",
       " 104.70917,\n",
       " 98.220924,\n",
       " 136.86603,\n",
       " 102.85822,\n",
       " 103.12413,\n",
       " 102.25887,\n",
       " 120.73942,\n",
       " 115.51659,\n",
       " 109.83611,\n",
       " 95.437897,\n",
       " 119.98837,\n",
       " 102.42036,\n",
       " 94.965187,\n",
       " 103.76112,\n",
       " 103.8793,\n",
       " 99.86895,\n",
       " 107.97022,\n",
       " 116.5602,\n",
       " 100.46145,\n",
       " 98.857346,\n",
       " 99.808578,\n",
       " 98.462692,\n",
       " 119.43958,\n",
       " 101.53056,\n",
       " 104.0704,\n",
       " 94.554794,\n",
       " 99.246361,\n",
       " 101.88148,\n",
       " 103.55795,\n",
       " 114.22729,\n",
       " 132.68384,\n",
       " 100.97871,\n",
       " 103.18587,\n",
       " 104.40059,\n",
       " 104.25111,\n",
       " 109.14917,\n",
       " 120.8,\n",
       " 101.42785,\n",
       " 97.241089,\n",
       " 110.36578,\n",
       " 99.679253,\n",
       " 106.99492,\n",
       " 121.49799,\n",
       " 102.2393,\n",
       " 110.78423,\n",
       " 104.7095,\n",
       " 103.57088,\n",
       " 101.70357,\n",
       " 99.007133,\n",
       " 94.588676,\n",
       " 107.62569,\n",
       " 98.862534,\n",
       " 102.19064,\n",
       " 115.6312,\n",
       " 100.92927,\n",
       " 101.13838,\n",
       " 108.11383,\n",
       " 95.439919,\n",
       " 99.548836,\n",
       " 114.95907,\n",
       " 101.5275,\n",
       " 104.54452,\n",
       " 120.81218,\n",
       " 103.67284,\n",
       " 120.01118,\n",
       " 102.71255,\n",
       " 107.00047,\n",
       " 117.4064,\n",
       " 88.318527,\n",
       " 111.2717,\n",
       " 57.42572,\n",
       " 107.54658,\n",
       " 89.046188,\n",
       " 107.48094,\n",
       " 93.062218,\n",
       " 102.93252,\n",
       " 108.28962,\n",
       " 105.46373,\n",
       " 112.95012,\n",
       " 92.872856,\n",
       " 106.66484,\n",
       " 111.42599,\n",
       " 114.33291,\n",
       " 132.33058,\n",
       " 105.95766,\n",
       " 105.24231,\n",
       " 113.17123,\n",
       " 100.98625,\n",
       " 107.69866,\n",
       " 102.4164,\n",
       " 102.4331,\n",
       " 101.22692,\n",
       " 101.83731,\n",
       " 100.29842,\n",
       " 116.73125,\n",
       " 99.354492,\n",
       " 94.859268,\n",
       " 97.764519,\n",
       " 93.711319,\n",
       " 104.9817,\n",
       " 101.97823,\n",
       " 103.41315,\n",
       " 109.26811,\n",
       " 110.55695,\n",
       " 102.24825,\n",
       " 104.52132,\n",
       " 100.88445,\n",
       " 101.02337,\n",
       " 108.6178,\n",
       " 102.72649,\n",
       " 103.53237,\n",
       " 109.83173,\n",
       " 102.13795,\n",
       " 99.470833,\n",
       " 91.290276,\n",
       " 132.62769,\n",
       " 87.864571,\n",
       " 98.11721,\n",
       " 102.71346,\n",
       " 100.07662,\n",
       " 101.98604,\n",
       " 104.54351,\n",
       " 87.978981,\n",
       " 98.042046,\n",
       " 94.994766,\n",
       " 99.98246,\n",
       " 101.00844,\n",
       " 103.54198,\n",
       " 100.92097,\n",
       " 99.780212,\n",
       " 122.99287,\n",
       " 98.717979,\n",
       " 108.3354,\n",
       " 92.091988,\n",
       " 97.357765,\n",
       " 106.48824,\n",
       " 111.77934,\n",
       " 99.027298,\n",
       " 103.76746,\n",
       " 99.213287,\n",
       " 106.99666,\n",
       " 107.91194,\n",
       " 108.82801,\n",
       " 103.828,\n",
       " 102.22753,\n",
       " 104.14752,\n",
       " 104.03813,\n",
       " 114.02139,\n",
       " 103.26278,\n",
       " 109.33081,\n",
       " 109.16434,\n",
       " 93.439209,\n",
       " 103.80186,\n",
       " 105.00851,\n",
       " 114.94421,\n",
       " 116.27499,\n",
       " 94.549614,\n",
       " 121.39977,\n",
       " 98.387215,\n",
       " 98.450928,\n",
       " 117.03458,\n",
       " 161.20961,\n",
       " 104.50714,\n",
       " 114.77274,\n",
       " 112.53584,\n",
       " 101.92725,\n",
       " 133.87552,\n",
       " 133.81575,\n",
       " 96.340401,\n",
       " 100.28086,\n",
       " 98.269852,\n",
       " 93.966072,\n",
       " 103.11101,\n",
       " 99.803741,\n",
       " 101.61658,\n",
       " 100.72272,\n",
       " 124.28498,\n",
       " 104.96743,\n",
       " 98.189598,\n",
       " 94.797974,\n",
       " 104.5724,\n",
       " 97.143082,\n",
       " 105.32703,\n",
       " 109.32848,\n",
       " 104.27763,\n",
       " 104.35997,\n",
       " 100.12551,\n",
       " 119.98175,\n",
       " 107.28223,\n",
       " 107.01322,\n",
       " 98.487999,\n",
       " 115.6976,\n",
       " 100.15154,\n",
       " 103.24871,\n",
       " 100.98737,\n",
       " 92.747749,\n",
       " 98.433334,\n",
       " 104.35183,\n",
       " 112.123,\n",
       " 102.63568,\n",
       " 101.535,\n",
       " 113.71837,\n",
       " 100.13715,\n",
       " 113.11454,\n",
       " 101.49251,\n",
       " 114.54918,\n",
       " 94.523438,\n",
       " 101.61351,\n",
       " 100.94206,\n",
       " 93.883858,\n",
       " 106.28748,\n",
       " 100.49371,\n",
       " 86.800171,\n",
       " 96.983826,\n",
       " 9.0114279,\n",
       " 96.714256,\n",
       " 104.26559,\n",
       " 105.40739,\n",
       " 102.12755,\n",
       " 107.50066,\n",
       " 97.54509,\n",
       " 106.77808,\n",
       " 99.740906,\n",
       " 103.3167,\n",
       " 97.378792,\n",
       " 100.21101,\n",
       " 107.48692,\n",
       " 104.70496,\n",
       " 77.6772,\n",
       " 107.89397,\n",
       " 109.22984,\n",
       " 99.042259,\n",
       " 104.72485,\n",
       " 100.16264,\n",
       " 98.02652,\n",
       " 80.400772,\n",
       " 104.28392,\n",
       " 103.24626,\n",
       " 96.490265,\n",
       " 97.386383,\n",
       " 75.689697,\n",
       " 103.0717,\n",
       " 103.68154,\n",
       " 105.55663,\n",
       " 107.04413,\n",
       " 107.06963,\n",
       " 105.88909,\n",
       " 104.73027,\n",
       " 108.46662,\n",
       " 99.074348,\n",
       " 106.66153,\n",
       " 100.8853,\n",
       " 98.245186,\n",
       " 100.38559,\n",
       " 103.24709,\n",
       " 102.24232,\n",
       " 131.48763,\n",
       " 96.258865,\n",
       " 113.22157,\n",
       " 95.348839,\n",
       " 96.265923,\n",
       " 117.04408,\n",
       " 100.60622,\n",
       " 113.24476,\n",
       " 97.210548,\n",
       " 102.03886,\n",
       " 103.02218,\n",
       " 115.42007,\n",
       " 100.96439,\n",
       " 101.97417,\n",
       " 104.1721,\n",
       " 86.804886,\n",
       " 103.55193,\n",
       " 99.498573,\n",
       " 90.007156,\n",
       " 105.61139,\n",
       " 103.93414,\n",
       " 100.28767,\n",
       " 106.00931,\n",
       " 99.748955,\n",
       " 97.388985,\n",
       " 112.14754,\n",
       " 105.60745,\n",
       " 98.114403,\n",
       " 100.2282,\n",
       " 109.15348,\n",
       " 102.02621,\n",
       " 100.69316,\n",
       " 104.51516,\n",
       " 91.210884,\n",
       " 107.962,\n",
       " 116.90784,\n",
       " 102.80666,\n",
       " 113.57392,\n",
       " 101.70303,\n",
       " 138.71466,\n",
       " 96.621414,\n",
       " 103.05641,\n",
       " 106.86026,\n",
       " 102.23421,\n",
       " 95.51384,\n",
       " 114.66201,\n",
       " 99.038208,\n",
       " 99.45031,\n",
       " 94.516617,\n",
       " 96.430397,\n",
       " 99.454315,\n",
       " 114.1203,\n",
       " 99.8181,\n",
       " 102.2651,\n",
       " 101.29375,\n",
       " 132.94817,\n",
       " 97.371361,\n",
       " 99.70089,\n",
       " 107.25999,\n",
       " 113.97993,\n",
       " 96.653557,\n",
       " 99.388046,\n",
       " 100.14995,\n",
       " 101.81371,\n",
       " 100.90589,\n",
       " 102.59672,\n",
       " 97.897758,\n",
       " 110.78802,\n",
       " 117.50497,\n",
       " 96.193474,\n",
       " 107.00964,\n",
       " ...]"
      ]
     },
     "execution_count": 56,
     "metadata": {},
     "output_type": "execute_result"
    }
   ],
   "source": [
    "predicted=mdl.predict(X_test)\n",
    "list(predicted)"
   ]
  },
  {
   "cell_type": "markdown",
   "metadata": {},
   "source": [
    "### Predicted trade_prices for the test data given. "
   ]
  },
  {
   "cell_type": "markdown",
   "metadata": {},
   "source": [
    "### The variance score obtained here is 0.990049"
   ]
  },
  {
   "cell_type": "markdown",
   "metadata": {},
   "source": [
    "## Linear Regression Model "
   ]
  },
  {
   "cell_type": "code",
   "execution_count": 102,
   "metadata": {},
   "outputs": [
    {
     "data": {
      "text/plain": [
       "1.0"
      ]
     },
     "execution_count": 102,
     "metadata": {},
     "output_type": "execute_result"
    }
   ],
   "source": [
    "from sklearn.model_selection import train_test_split  \n",
    "X_train, X_test, y_train, y_test = train_test_split(XX, yy, test_size=0.4,  \n",
    "                                                    random_state=42)\n",
    "from sklearn import linear_model\n",
    "reg = linear_model.LinearRegression()\n",
    "reg.fit (X_train,y_train)\n",
    "\n",
    "predicted1 = reg.predict(X_test)\n",
    "\n",
    "from sklearn.metrics import explained_variance_score\n",
    "\n",
    "models.append(\"LinearRegression\")\n",
    "score.append(explained_variance_score(y_test,predicted1) )\n",
    "\n",
    "explained_variance_score(y_test,predicted1)"
   ]
  },
  {
   "cell_type": "markdown",
   "metadata": {},
   "source": [
    "## Decision Tree Regressor "
   ]
  },
  {
   "cell_type": "code",
   "execution_count": 96,
   "metadata": {},
   "outputs": [
    {
     "data": {
      "text/plain": [
       "0.73358361841795661"
      ]
     },
     "execution_count": 96,
     "metadata": {},
     "output_type": "execute_result"
    }
   ],
   "source": [
    "from sklearn.model_selection import train_test_split  \n",
    "X_train, X_test, y_train, y_test = train_test_split(XX, yy, test_size=0.33,  \n",
    "                                                    random_state=42)\n",
    "\n",
    "from sklearn.tree import DecisionTreeRegressor\n",
    "regr_1 = DecisionTreeRegressor(max_depth=2)\n",
    "regr_2 = DecisionTreeRegressor(max_depth=5)\n",
    "regr_1.fit(X_train, y_train)\n",
    "regr_2.fit(X_train, y_train)\n",
    "\n",
    "predicted3_1 = regr_1.predict(X_test)\n",
    "predicted3_2 = regr_2.predict(X_test)\n",
    "\n",
    "from sklearn.metrics import explained_variance_score\n",
    "\n",
    "models.append(\"DecisionTree\")\n",
    "score.append(explained_variance_score(y_test,predicted3_1) )\n",
    "\n",
    "explained_variance_score(y_test,predicted3_1)"
   ]
  },
  {
   "cell_type": "markdown",
   "metadata": {},
   "source": [
    "## Ridge Regression Model "
   ]
  },
  {
   "cell_type": "code",
   "execution_count": 97,
   "metadata": {},
   "outputs": [
    {
     "data": {
      "text/plain": [
       "0.99999999999999956"
      ]
     },
     "execution_count": 97,
     "metadata": {},
     "output_type": "execute_result"
    }
   ],
   "source": [
    "from sklearn.model_selection import train_test_split  \n",
    "X_train, X_test, y_train, y_test = train_test_split(XX, yy, test_size=0.4,  \n",
    "                                                    random_state=40)\n",
    "from sklearn import linear_model\n",
    "reg1 = linear_model.Ridge (alpha = .5)\n",
    "reg1.fit (X_train,y_train)\n",
    "\n",
    "predicted2 = reg1.predict(X_test)\n",
    "\n",
    "from sklearn.metrics import explained_variance_score\n",
    "\n",
    "models.append(\"Ridge Linear Regression\")\n",
    "score.append(explained_variance_score(y_test,predicted2) )\n",
    "explained_variance_score(y_test,predicted2)"
   ]
  },
  {
   "cell_type": "markdown",
   "metadata": {},
   "source": [
    "## Lasso Linear Regression Model "
   ]
  },
  {
   "cell_type": "code",
   "execution_count": 98,
   "metadata": {},
   "outputs": [
    {
     "data": {
      "text/plain": [
       "0.99997116756649429"
      ]
     },
     "execution_count": 98,
     "metadata": {},
     "output_type": "execute_result"
    }
   ],
   "source": [
    "from sklearn.model_selection import train_test_split  \n",
    "X_train, X_test, y_train, y_test = train_test_split(XX, yy, test_size=0.4,  \n",
    "                                                    random_state=40)\n",
    "from sklearn.linear_model import Lasso\n",
    "lassoreg = Lasso(alpha=.5)\n",
    "lassoreg.fit (X_train,y_train)\n",
    "\n",
    "predicted_lasso = lassoreg.predict(X_test)\n",
    "\n",
    "from sklearn.metrics import explained_variance_score\n",
    "\n",
    "models.append(\"Lasso Linear Regression\")\n",
    "score.append(explained_variance_score(y_test,predicted_lasso) )\n",
    "explained_variance_score(y_test,predicted_lasso)"
   ]
  },
  {
   "cell_type": "markdown",
   "metadata": {},
   "source": [
    "## Analysing various model performances "
   ]
  },
  {
   "cell_type": "code",
   "execution_count": 105,
   "metadata": {
    "collapsed": true
   },
   "outputs": [],
   "source": [
    "model_all=pd.DataFrame(index=[1,2,3,4,5])"
   ]
  },
  {
   "cell_type": "code",
   "execution_count": 106,
   "metadata": {},
   "outputs": [
    {
     "data": {
      "text/html": [
       "<div>\n",
       "<style>\n",
       "    .dataframe thead tr:only-child th {\n",
       "        text-align: right;\n",
       "    }\n",
       "\n",
       "    .dataframe thead th {\n",
       "        text-align: left;\n",
       "    }\n",
       "\n",
       "    .dataframe tbody tr th {\n",
       "        vertical-align: top;\n",
       "    }\n",
       "</style>\n",
       "<table border=\"1\" class=\"dataframe\">\n",
       "  <thead>\n",
       "    <tr style=\"text-align: right;\">\n",
       "      <th></th>\n",
       "      <th>Score</th>\n",
       "    </tr>\n",
       "    <tr>\n",
       "      <th>Model</th>\n",
       "      <th></th>\n",
       "    </tr>\n",
       "  </thead>\n",
       "  <tbody>\n",
       "    <tr>\n",
       "      <th>XGBRegressor</th>\n",
       "      <td>0.999949</td>\n",
       "    </tr>\n",
       "    <tr>\n",
       "      <th>DecisionTree</th>\n",
       "      <td>0.733584</td>\n",
       "    </tr>\n",
       "    <tr>\n",
       "      <th>Ridge Linear Regression</th>\n",
       "      <td>1.000000</td>\n",
       "    </tr>\n",
       "    <tr>\n",
       "      <th>Lasso Linear Regression</th>\n",
       "      <td>0.999971</td>\n",
       "    </tr>\n",
       "    <tr>\n",
       "      <th>LinearRegression</th>\n",
       "      <td>1.000000</td>\n",
       "    </tr>\n",
       "  </tbody>\n",
       "</table>\n",
       "</div>"
      ],
      "text/plain": [
       "                            Score\n",
       "Model                            \n",
       "XGBRegressor             0.999949\n",
       "DecisionTree             0.733584\n",
       "Ridge Linear Regression  1.000000\n",
       "Lasso Linear Regression  0.999971\n",
       "LinearRegression         1.000000"
      ]
     },
     "execution_count": 106,
     "metadata": {},
     "output_type": "execute_result"
    }
   ],
   "source": [
    "model_all['Model'] = models\n",
    "model_all['Score'] = score\n",
    "model_all.set_index('Model')"
   ]
  },
  {
   "cell_type": "code",
   "execution_count": 110,
   "metadata": {},
   "outputs": [
    {
     "data": {
      "text/plain": [
       "<matplotlib.axes._subplots.AxesSubplot at 0x7f3f816eb6a0>"
      ]
     },
     "execution_count": 110,
     "metadata": {},
     "output_type": "execute_result"
    },
    {
     "data": {
      "image/png": "[encoded data removed]",
      "text/plain": [
       "<matplotlib.figure.Figure at 0x7f3f816c6c18>"
      ]
     },
     "metadata": {},
     "output_type": "display_data"
    }
   ],
   "source": [
    "model_all.plot(title=\"Models vs Score Graph\",kind=\"bar\")"
   ]
  },
  {
   "cell_type": "markdown",
   "metadata": {},
   "source": [
    "## All the models provide the same best possible results except DecisionTree Regression. "
   ]
  }
 ],
 "metadata": {
  "kernelspec": {
   "display_name": "Python 3",
   "language": "python",
   "name": "python3"
  },
  "language_info": {
   "codemirror_mode": {
    "name": "ipython",
    "version": 3
   },
   "file_extension": ".py",
   "mimetype": "text/x-python",
   "name": "python",
   "nbconvert_exporter": "python",
   "pygments_lexer": "ipython3",
   "version": "3.6.1"
  }
 },
 "nbformat": 4,
 "nbformat_minor": 2
}
