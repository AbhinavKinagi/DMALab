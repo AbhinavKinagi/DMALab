{
 "cells": [
  {
   "cell_type": "markdown",
   "metadata": {},
   "source": [
    "# Benchmark Bond Trade Problem\n",
    "### Pre-processing of data"
   ]
  },
  {
   "cell_type": "markdown",
   "metadata": {},
   "source": [
    "#### Author - Adarsh Bolettin\n",
    "#### USN - 01FE15BCS007"
   ]
  },
  {
   "cell_type": "code",
   "execution_count": 2,
   "metadata": {},
   "outputs": [
    {
     "name": "stdout",
     "output_type": "stream",
     "text": [
      "Populating the interactive namespace from numpy and matplotlib\n"
     ]
    }
   ],
   "source": [
    "import pandas as pd\n",
    "import numpy as np\n",
    "import seaborn as sns\n",
    "import matplotlib.pyplot as plt\n",
    "%pylab inline\n",
    "#Read the values train and test data\n",
    "df_train = pd.read_csv(\"train.csv\")\n",
    "df_test = pd.read_csv('test.csv')"
   ]
  },
  {
   "cell_type": "code",
   "execution_count": 3,
   "metadata": {},
   "outputs": [
    {
     "name": "stdout",
     "output_type": "stream",
     "text": [
      "There are 762678 users in the training set and 61146 in the test set.\n",
      "In total 823824 non-unique bond trades.\n"
     ]
    }
   ],
   "source": [
    "print(\"There are\", df_train.shape[0], \"users in the training set and\", \n",
    "      df_test.shape[0], \"in the test set.\")\n",
    "print(\"In total\", df_train.shape[0] + df_test.shape[0], \"non-unique bond trades.\")"
   ]
  },
  {
   "cell_type": "code",
   "execution_count": 4,
   "metadata": {},
   "outputs": [
    {
     "data": {
      "text/html": [
       "<div>\n",
       "<style>\n",
       "    .dataframe thead tr:only-child th {\n",
       "        text-align: right;\n",
       "    }\n",
       "\n",
       "    .dataframe thead th {\n",
       "        text-align: left;\n",
       "    }\n",
       "\n",
       "    .dataframe tbody tr th {\n",
       "        vertical-align: top;\n",
       "    }\n",
       "</style>\n",
       "<table border=\"1\" class=\"dataframe\">\n",
       "  <thead>\n",
       "    <tr style=\"text-align: right;\">\n",
       "      <th></th>\n",
       "      <th>bond_id</th>\n",
       "      <th>current_coupon</th>\n",
       "      <th>curve_based_price</th>\n",
       "      <th>curve_based_price_last1</th>\n",
       "      <th>curve_based_price_last10</th>\n",
       "      <th>curve_based_price_last2</th>\n",
       "      <th>curve_based_price_last3</th>\n",
       "      <th>curve_based_price_last4</th>\n",
       "      <th>curve_based_price_last5</th>\n",
       "      <th>curve_based_price_last6</th>\n",
       "      <th>...</th>\n",
       "      <th>trade_type_last10</th>\n",
       "      <th>trade_type_last2</th>\n",
       "      <th>trade_type_last3</th>\n",
       "      <th>trade_type_last4</th>\n",
       "      <th>trade_type_last5</th>\n",
       "      <th>trade_type_last6</th>\n",
       "      <th>trade_type_last7</th>\n",
       "      <th>trade_type_last8</th>\n",
       "      <th>trade_type_last9</th>\n",
       "      <th>weight</th>\n",
       "    </tr>\n",
       "  </thead>\n",
       "  <tbody>\n",
       "    <tr>\n",
       "      <th>0</th>\n",
       "      <td>1.0</td>\n",
       "      <td>5.95</td>\n",
       "      <td>127.561201</td>\n",
       "      <td>129.435587</td>\n",
       "      <td>NaN</td>\n",
       "      <td>NaN</td>\n",
       "      <td>NaN</td>\n",
       "      <td>NaN</td>\n",
       "      <td>NaN</td>\n",
       "      <td>NaN</td>\n",
       "      <td>...</td>\n",
       "      <td>NaN</td>\n",
       "      <td>NaN</td>\n",
       "      <td>NaN</td>\n",
       "      <td>NaN</td>\n",
       "      <td>NaN</td>\n",
       "      <td>NaN</td>\n",
       "      <td>NaN</td>\n",
       "      <td>NaN</td>\n",
       "      <td>NaN</td>\n",
       "      <td>11.316404</td>\n",
       "    </tr>\n",
       "    <tr>\n",
       "      <th>1</th>\n",
       "      <td>1.0</td>\n",
       "      <td>5.95</td>\n",
       "      <td>126.323528</td>\n",
       "      <td>127.561201</td>\n",
       "      <td>NaN</td>\n",
       "      <td>129.435587</td>\n",
       "      <td>NaN</td>\n",
       "      <td>NaN</td>\n",
       "      <td>NaN</td>\n",
       "      <td>NaN</td>\n",
       "      <td>...</td>\n",
       "      <td>NaN</td>\n",
       "      <td>2.0</td>\n",
       "      <td>NaN</td>\n",
       "      <td>NaN</td>\n",
       "      <td>NaN</td>\n",
       "      <td>NaN</td>\n",
       "      <td>NaN</td>\n",
       "      <td>NaN</td>\n",
       "      <td>NaN</td>\n",
       "      <td>8.763446</td>\n",
       "    </tr>\n",
       "    <tr>\n",
       "      <th>2</th>\n",
       "      <td>1.0</td>\n",
       "      <td>5.95</td>\n",
       "      <td>126.761433</td>\n",
       "      <td>126.323528</td>\n",
       "      <td>NaN</td>\n",
       "      <td>127.561201</td>\n",
       "      <td>129.435587</td>\n",
       "      <td>NaN</td>\n",
       "      <td>NaN</td>\n",
       "      <td>NaN</td>\n",
       "      <td>...</td>\n",
       "      <td>NaN</td>\n",
       "      <td>2.0</td>\n",
       "      <td>2.0</td>\n",
       "      <td>NaN</td>\n",
       "      <td>NaN</td>\n",
       "      <td>NaN</td>\n",
       "      <td>NaN</td>\n",
       "      <td>NaN</td>\n",
       "      <td>NaN</td>\n",
       "      <td>6.499730</td>\n",
       "    </tr>\n",
       "    <tr>\n",
       "      <th>3</th>\n",
       "      <td>1.0</td>\n",
       "      <td>5.95</td>\n",
       "      <td>127.025765</td>\n",
       "      <td>126.761433</td>\n",
       "      <td>NaN</td>\n",
       "      <td>126.323528</td>\n",
       "      <td>127.561201</td>\n",
       "      <td>129.435587</td>\n",
       "      <td>NaN</td>\n",
       "      <td>NaN</td>\n",
       "      <td>...</td>\n",
       "      <td>NaN</td>\n",
       "      <td>4.0</td>\n",
       "      <td>2.0</td>\n",
       "      <td>2.0</td>\n",
       "      <td>NaN</td>\n",
       "      <td>NaN</td>\n",
       "      <td>NaN</td>\n",
       "      <td>NaN</td>\n",
       "      <td>NaN</td>\n",
       "      <td>0.865854</td>\n",
       "    </tr>\n",
       "    <tr>\n",
       "      <th>4</th>\n",
       "      <td>1.0</td>\n",
       "      <td>5.95</td>\n",
       "      <td>125.736081</td>\n",
       "      <td>127.025765</td>\n",
       "      <td>NaN</td>\n",
       "      <td>126.761433</td>\n",
       "      <td>126.323528</td>\n",
       "      <td>127.561201</td>\n",
       "      <td>129.435587</td>\n",
       "      <td>NaN</td>\n",
       "      <td>...</td>\n",
       "      <td>NaN</td>\n",
       "      <td>3.0</td>\n",
       "      <td>4.0</td>\n",
       "      <td>2.0</td>\n",
       "      <td>2.0</td>\n",
       "      <td>NaN</td>\n",
       "      <td>NaN</td>\n",
       "      <td>NaN</td>\n",
       "      <td>NaN</td>\n",
       "      <td>11.938543</td>\n",
       "    </tr>\n",
       "    <tr>\n",
       "      <th>5</th>\n",
       "      <td>1.0</td>\n",
       "      <td>5.95</td>\n",
       "      <td>126.636079</td>\n",
       "      <td>125.736081</td>\n",
       "      <td>NaN</td>\n",
       "      <td>127.025765</td>\n",
       "      <td>126.761433</td>\n",
       "      <td>126.323528</td>\n",
       "      <td>127.561201</td>\n",
       "      <td>129.435587</td>\n",
       "      <td>...</td>\n",
       "      <td>NaN</td>\n",
       "      <td>2.0</td>\n",
       "      <td>3.0</td>\n",
       "      <td>4.0</td>\n",
       "      <td>2.0</td>\n",
       "      <td>2.0</td>\n",
       "      <td>NaN</td>\n",
       "      <td>NaN</td>\n",
       "      <td>NaN</td>\n",
       "      <td>1.479307</td>\n",
       "    </tr>\n",
       "    <tr>\n",
       "      <th>6</th>\n",
       "      <td>1.0</td>\n",
       "      <td>5.95</td>\n",
       "      <td>126.180334</td>\n",
       "      <td>126.636079</td>\n",
       "      <td>NaN</td>\n",
       "      <td>125.736081</td>\n",
       "      <td>127.025765</td>\n",
       "      <td>126.761433</td>\n",
       "      <td>126.323528</td>\n",
       "      <td>127.561201</td>\n",
       "      <td>...</td>\n",
       "      <td>NaN</td>\n",
       "      <td>2.0</td>\n",
       "      <td>2.0</td>\n",
       "      <td>3.0</td>\n",
       "      <td>4.0</td>\n",
       "      <td>2.0</td>\n",
       "      <td>2.0</td>\n",
       "      <td>NaN</td>\n",
       "      <td>NaN</td>\n",
       "      <td>10.155838</td>\n",
       "    </tr>\n",
       "    <tr>\n",
       "      <th>7</th>\n",
       "      <td>1.0</td>\n",
       "      <td>5.95</td>\n",
       "      <td>124.721953</td>\n",
       "      <td>126.180334</td>\n",
       "      <td>NaN</td>\n",
       "      <td>126.636079</td>\n",
       "      <td>125.736081</td>\n",
       "      <td>127.025765</td>\n",
       "      <td>126.761433</td>\n",
       "      <td>126.323528</td>\n",
       "      <td>...</td>\n",
       "      <td>NaN</td>\n",
       "      <td>4.0</td>\n",
       "      <td>2.0</td>\n",
       "      <td>2.0</td>\n",
       "      <td>3.0</td>\n",
       "      <td>4.0</td>\n",
       "      <td>2.0</td>\n",
       "      <td>2.0</td>\n",
       "      <td>NaN</td>\n",
       "      <td>7.567823</td>\n",
       "    </tr>\n",
       "    <tr>\n",
       "      <th>8</th>\n",
       "      <td>1.0</td>\n",
       "      <td>5.95</td>\n",
       "      <td>124.717608</td>\n",
       "      <td>124.721953</td>\n",
       "      <td>NaN</td>\n",
       "      <td>126.180334</td>\n",
       "      <td>126.636079</td>\n",
       "      <td>125.736081</td>\n",
       "      <td>127.025765</td>\n",
       "      <td>126.761433</td>\n",
       "      <td>...</td>\n",
       "      <td>NaN</td>\n",
       "      <td>3.0</td>\n",
       "      <td>4.0</td>\n",
       "      <td>2.0</td>\n",
       "      <td>2.0</td>\n",
       "      <td>3.0</td>\n",
       "      <td>4.0</td>\n",
       "      <td>2.0</td>\n",
       "      <td>2.0</td>\n",
       "      <td>0.469131</td>\n",
       "    </tr>\n",
       "    <tr>\n",
       "      <th>9</th>\n",
       "      <td>1.0</td>\n",
       "      <td>5.95</td>\n",
       "      <td>126.017363</td>\n",
       "      <td>124.717608</td>\n",
       "      <td>129.435587</td>\n",
       "      <td>124.721953</td>\n",
       "      <td>126.180334</td>\n",
       "      <td>126.636079</td>\n",
       "      <td>125.736081</td>\n",
       "      <td>127.025765</td>\n",
       "      <td>...</td>\n",
       "      <td>2.0</td>\n",
       "      <td>3.0</td>\n",
       "      <td>3.0</td>\n",
       "      <td>4.0</td>\n",
       "      <td>2.0</td>\n",
       "      <td>2.0</td>\n",
       "      <td>3.0</td>\n",
       "      <td>4.0</td>\n",
       "      <td>2.0</td>\n",
       "      <td>7.616851</td>\n",
       "    </tr>\n",
       "  </tbody>\n",
       "</table>\n",
       "<p>10 rows × 61 columns</p>\n",
       "</div>"
      ],
      "text/plain": [
       "   bond_id  current_coupon  curve_based_price  curve_based_price_last1  \\\n",
       "0      1.0            5.95         127.561201               129.435587   \n",
       "1      1.0            5.95         126.323528               127.561201   \n",
       "2      1.0            5.95         126.761433               126.323528   \n",
       "3      1.0            5.95         127.025765               126.761433   \n",
       "4      1.0            5.95         125.736081               127.025765   \n",
       "5      1.0            5.95         126.636079               125.736081   \n",
       "6      1.0            5.95         126.180334               126.636079   \n",
       "7      1.0            5.95         124.721953               126.180334   \n",
       "8      1.0            5.95         124.717608               124.721953   \n",
       "9      1.0            5.95         126.017363               124.717608   \n",
       "\n",
       "   curve_based_price_last10  curve_based_price_last2  curve_based_price_last3  \\\n",
       "0                       NaN                      NaN                      NaN   \n",
       "1                       NaN               129.435587                      NaN   \n",
       "2                       NaN               127.561201               129.435587   \n",
       "3                       NaN               126.323528               127.561201   \n",
       "4                       NaN               126.761433               126.323528   \n",
       "5                       NaN               127.025765               126.761433   \n",
       "6                       NaN               125.736081               127.025765   \n",
       "7                       NaN               126.636079               125.736081   \n",
       "8                       NaN               126.180334               126.636079   \n",
       "9                129.435587               124.721953               126.180334   \n",
       "\n",
       "   curve_based_price_last4  curve_based_price_last5  curve_based_price_last6  \\\n",
       "0                      NaN                      NaN                      NaN   \n",
       "1                      NaN                      NaN                      NaN   \n",
       "2                      NaN                      NaN                      NaN   \n",
       "3               129.435587                      NaN                      NaN   \n",
       "4               127.561201               129.435587                      NaN   \n",
       "5               126.323528               127.561201               129.435587   \n",
       "6               126.761433               126.323528               127.561201   \n",
       "7               127.025765               126.761433               126.323528   \n",
       "8               125.736081               127.025765               126.761433   \n",
       "9               126.636079               125.736081               127.025765   \n",
       "\n",
       "     ...      trade_type_last10  trade_type_last2  trade_type_last3  \\\n",
       "0    ...                    NaN               NaN               NaN   \n",
       "1    ...                    NaN               2.0               NaN   \n",
       "2    ...                    NaN               2.0               2.0   \n",
       "3    ...                    NaN               4.0               2.0   \n",
       "4    ...                    NaN               3.0               4.0   \n",
       "5    ...                    NaN               2.0               3.0   \n",
       "6    ...                    NaN               2.0               2.0   \n",
       "7    ...                    NaN               4.0               2.0   \n",
       "8    ...                    NaN               3.0               4.0   \n",
       "9    ...                    2.0               3.0               3.0   \n",
       "\n",
       "   trade_type_last4  trade_type_last5  trade_type_last6  trade_type_last7  \\\n",
       "0               NaN               NaN               NaN               NaN   \n",
       "1               NaN               NaN               NaN               NaN   \n",
       "2               NaN               NaN               NaN               NaN   \n",
       "3               2.0               NaN               NaN               NaN   \n",
       "4               2.0               2.0               NaN               NaN   \n",
       "5               4.0               2.0               2.0               NaN   \n",
       "6               3.0               4.0               2.0               2.0   \n",
       "7               2.0               3.0               4.0               2.0   \n",
       "8               2.0               2.0               3.0               4.0   \n",
       "9               4.0               2.0               2.0               3.0   \n",
       "\n",
       "   trade_type_last8  trade_type_last9     weight  \n",
       "0               NaN               NaN  11.316404  \n",
       "1               NaN               NaN   8.763446  \n",
       "2               NaN               NaN   6.499730  \n",
       "3               NaN               NaN   0.865854  \n",
       "4               NaN               NaN  11.938543  \n",
       "5               NaN               NaN   1.479307  \n",
       "6               NaN               NaN  10.155838  \n",
       "7               2.0               NaN   7.567823  \n",
       "8               2.0               2.0   0.469131  \n",
       "9               4.0               2.0   7.616851  \n",
       "\n",
       "[10 rows x 61 columns]"
      ]
     },
     "execution_count": 4,
     "metadata": {},
     "output_type": "execute_result"
    }
   ],
   "source": [
    "# Merge train and test trades\n",
    "trades = pd.concat((df_train, df_test), axis=0, ignore_index=True)\n",
    "trades.head(10)"
   ]
  },
  {
   "cell_type": "code",
   "execution_count": 5,
   "metadata": {},
   "outputs": [
    {
     "data": {
      "text/plain": [
       "(823824, 61)"
      ]
     },
     "execution_count": 5,
     "metadata": {},
     "output_type": "execute_result"
    }
   ],
   "source": [
    "#Getting no of rows and column\n",
    "trades.shape"
   ]
  },
  {
   "cell_type": "code",
   "execution_count": 6,
   "metadata": {
    "collapsed": true
   },
   "outputs": [],
   "source": [
    "#Removing the 'weight' column since its not used in predicton\n",
    "#'weight' column here is used for competetions evaluation process\n",
    "trades.drop('weight',axis=1, inplace=True)"
   ]
  },
  {
   "cell_type": "code",
   "execution_count": 7,
   "metadata": {
    "scrolled": true
   },
   "outputs": [
    {
     "data": {
      "text/plain": [
       "Index(['bond_id', 'current_coupon', 'curve_based_price',\n",
       "       'curve_based_price_last1', 'curve_based_price_last10',\n",
       "       'curve_based_price_last2', 'curve_based_price_last3',\n",
       "       'curve_based_price_last4', 'curve_based_price_last5',\n",
       "       'curve_based_price_last6', 'curve_based_price_last7',\n",
       "       'curve_based_price_last8', 'curve_based_price_last9', 'id',\n",
       "       'is_callable', 'received_time_diff_last1', 'received_time_diff_last10',\n",
       "       'received_time_diff_last2', 'received_time_diff_last3',\n",
       "       'received_time_diff_last4', 'received_time_diff_last5',\n",
       "       'received_time_diff_last6', 'received_time_diff_last7',\n",
       "       'received_time_diff_last8', 'received_time_diff_last9',\n",
       "       'reporting_delay', 'time_to_maturity', 'trade_price',\n",
       "       'trade_price_last1', 'trade_price_last10', 'trade_price_last2',\n",
       "       'trade_price_last3', 'trade_price_last4', 'trade_price_last5',\n",
       "       'trade_price_last6', 'trade_price_last7', 'trade_price_last8',\n",
       "       'trade_price_last9', 'trade_size', 'trade_size_last1',\n",
       "       'trade_size_last10', 'trade_size_last2', 'trade_size_last3',\n",
       "       'trade_size_last4', 'trade_size_last5', 'trade_size_last6',\n",
       "       'trade_size_last7', 'trade_size_last8', 'trade_size_last9',\n",
       "       'trade_type', 'trade_type_last1', 'trade_type_last10',\n",
       "       'trade_type_last2', 'trade_type_last3', 'trade_type_last4',\n",
       "       'trade_type_last5', 'trade_type_last6', 'trade_type_last7',\n",
       "       'trade_type_last8', 'trade_type_last9'],\n",
       "      dtype='object')"
      ]
     },
     "execution_count": 7,
     "metadata": {},
     "output_type": "execute_result"
    }
   ],
   "source": [
    "#All attributes\n",
    "trades.columns"
   ]
  },
  {
   "cell_type": "code",
   "execution_count": 8,
   "metadata": {},
   "outputs": [
    {
     "data": {
      "text/plain": [
       "bond_id                      7.422216\n",
       "curve_based_price_last1      0.005220\n",
       "curve_based_price_last10     2.321734\n",
       "curve_based_price_last2      0.274573\n",
       "curve_based_price_last3      0.539557\n",
       "curve_based_price_last4      0.801021\n",
       "curve_based_price_last5      1.058721\n",
       "curve_based_price_last6      1.314237\n",
       "curve_based_price_last7      1.567568\n",
       "curve_based_price_last8      1.820656\n",
       "curve_based_price_last9      2.070467\n",
       "received_time_diff_last10    2.274515\n",
       "received_time_diff_last2     0.264377\n",
       "received_time_diff_last3     0.524869\n",
       "received_time_diff_last4     0.781356\n",
       "received_time_diff_last5     1.034566\n",
       "received_time_diff_last6     1.285590\n",
       "received_time_diff_last7     1.534066\n",
       "received_time_diff_last8     1.782905\n",
       "received_time_diff_last9     2.028467\n",
       "trade_price                  7.422216\n",
       "trade_price_last10           2.274515\n",
       "trade_price_last2            0.264377\n",
       "trade_price_last3            0.524869\n",
       "trade_price_last4            0.781356\n",
       "trade_price_last5            1.034566\n",
       "trade_price_last6            1.285590\n",
       "trade_price_last7            1.534066\n",
       "trade_price_last8            1.782905\n",
       "trade_price_last9            2.028467\n",
       "trade_size_last10            2.274515\n",
       "trade_size_last2             0.264377\n",
       "trade_size_last3             0.524869\n",
       "trade_size_last4             0.781356\n",
       "trade_size_last5             1.034566\n",
       "trade_size_last6             1.285590\n",
       "trade_size_last7             1.534066\n",
       "trade_size_last8             1.782905\n",
       "trade_size_last9             2.028467\n",
       "trade_type_last10            2.274515\n",
       "trade_type_last2             0.264377\n",
       "trade_type_last3             0.524869\n",
       "trade_type_last4             0.781356\n",
       "trade_type_last5             1.034566\n",
       "trade_type_last6             1.285590\n",
       "trade_type_last7             1.534066\n",
       "trade_type_last8             1.782905\n",
       "trade_type_last9             2.028467\n",
       "dtype: float64"
      ]
     },
     "execution_count": 8,
     "metadata": {},
     "output_type": "execute_result"
    }
   ],
   "source": [
    "## Missing Data\n",
    "## Compute NaN percentage of each feature.\n",
    "trades_nan = (trades.isnull().sum() / trades.shape[0]) * 100\n",
    "trades_nan[trades_nan > 0]"
   ]
  },
  {
   "cell_type": "code",
   "execution_count": 9,
   "metadata": {},
   "outputs": [
    {
     "ename": "NameError",
     "evalue": "name 'df_' is not defined",
     "output_type": "error",
     "traceback": [
      "\u001b[0;31m---------------------------------------------------------------------------\u001b[0m",
      "\u001b[0;31mNameError\u001b[0m                                 Traceback (most recent call last)",
      "\u001b[0;32m<ipython-input-9-c2553662f9e7>\u001b[0m in \u001b[0;36m<module>\u001b[0;34m()\u001b[0m\n\u001b[1;32m      1\u001b[0m \u001b[0mi\u001b[0m\u001b[0;34m=\u001b[0m\u001b[0;36m1\u001b[0m\u001b[0;34m\u001b[0m\u001b[0m\n\u001b[1;32m      2\u001b[0m \u001b[0;32mwhile\u001b[0m\u001b[0;34m(\u001b[0m\u001b[0mi\u001b[0m\u001b[0;34m<\u001b[0m\u001b[0;36m915157\u001b[0m\u001b[0;34m)\u001b[0m\u001b[0;34m:\u001b[0m\u001b[0;34m\u001b[0m\u001b[0m\n\u001b[0;32m----> 3\u001b[0;31m     \u001b[0mdf_\u001b[0m\u001b[0;34m[\u001b[0m\u001b[0mtrades\u001b[0m\u001b[0;34m.\u001b[0m\u001b[0mbond_id\u001b[0m\u001b[0;34m==\u001b[0m\u001b[0mi\u001b[0m\u001b[0;34m]\u001b[0m\u001b[0;34m=\u001b[0m\u001b[0mtrades\u001b[0m\u001b[0;34m[\u001b[0m\u001b[0mtrades\u001b[0m\u001b[0;34m.\u001b[0m\u001b[0mbond_id\u001b[0m\u001b[0;34m==\u001b[0m\u001b[0mi\u001b[0m\u001b[0;34m]\u001b[0m\u001b[0;34m.\u001b[0m\u001b[0mfillna\u001b[0m\u001b[0;34m(\u001b[0m\u001b[0mtrades\u001b[0m\u001b[0;34m[\u001b[0m\u001b[0mtrades\u001b[0m\u001b[0;34m.\u001b[0m\u001b[0mbond_id\u001b[0m\u001b[0;34m==\u001b[0m\u001b[0mi\u001b[0m\u001b[0;34m]\u001b[0m\u001b[0;34m.\u001b[0m\u001b[0mmean\u001b[0m\u001b[0;34m(\u001b[0m\u001b[0;34m)\u001b[0m\u001b[0;34m)\u001b[0m\u001b[0;34m\u001b[0m\u001b[0m\n\u001b[0m\u001b[1;32m      4\u001b[0m     \u001b[0mi\u001b[0m\u001b[0;34m=\u001b[0m\u001b[0mi\u001b[0m\u001b[0;34m+\u001b[0m\u001b[0;36m1\u001b[0m\u001b[0;34m\u001b[0m\u001b[0m\n",
      "\u001b[0;31mNameError\u001b[0m: name 'df_' is not defined"
     ]
    }
   ],
   "source": [
    "i=1\n",
    "while(i<915157):\n",
    "    df_[trades.bond_id==i]=trades[trades.bond_id==i].fillna(trades[trades.bond_id==i].mean())\n",
    "    i=i+1"
   ]
  },
  {
   "cell_type": "code",
   "execution_count": 10,
   "metadata": {
    "collapsed": true,
    "scrolled": false
   },
   "outputs": [],
   "source": [
    "##Replacing null values with -1 of the column\n",
    "trades.fillna(-1, inplace = True)"
   ]
  },
  {
   "cell_type": "code",
   "execution_count": 11,
   "metadata": {},
   "outputs": [
    {
     "data": {
      "text/plain": [
       "bond_id                      0\n",
       "current_coupon               0\n",
       "curve_based_price            0\n",
       "curve_based_price_last1      0\n",
       "curve_based_price_last10     0\n",
       "curve_based_price_last2      0\n",
       "curve_based_price_last3      0\n",
       "curve_based_price_last4      0\n",
       "curve_based_price_last5      0\n",
       "curve_based_price_last6      0\n",
       "curve_based_price_last7      0\n",
       "curve_based_price_last8      0\n",
       "curve_based_price_last9      0\n",
       "id                           0\n",
       "is_callable                  0\n",
       "received_time_diff_last1     0\n",
       "received_time_diff_last10    0\n",
       "received_time_diff_last2     0\n",
       "received_time_diff_last3     0\n",
       "received_time_diff_last4     0\n",
       "received_time_diff_last5     0\n",
       "received_time_diff_last6     0\n",
       "received_time_diff_last7     0\n",
       "received_time_diff_last8     0\n",
       "received_time_diff_last9     0\n",
       "reporting_delay              0\n",
       "time_to_maturity             0\n",
       "trade_price                  0\n",
       "trade_price_last1            0\n",
       "trade_price_last10           0\n",
       "trade_price_last2            0\n",
       "trade_price_last3            0\n",
       "trade_price_last4            0\n",
       "trade_price_last5            0\n",
       "trade_price_last6            0\n",
       "trade_price_last7            0\n",
       "trade_price_last8            0\n",
       "trade_price_last9            0\n",
       "trade_size                   0\n",
       "trade_size_last1             0\n",
       "trade_size_last10            0\n",
       "trade_size_last2             0\n",
       "trade_size_last3             0\n",
       "trade_size_last4             0\n",
       "trade_size_last5             0\n",
       "trade_size_last6             0\n",
       "trade_size_last7             0\n",
       "trade_size_last8             0\n",
       "trade_size_last9             0\n",
       "trade_type                   0\n",
       "trade_type_last1             0\n",
       "trade_type_last10            0\n",
       "trade_type_last2             0\n",
       "trade_type_last3             0\n",
       "trade_type_last4             0\n",
       "trade_type_last5             0\n",
       "trade_type_last6             0\n",
       "trade_type_last7             0\n",
       "trade_type_last8             0\n",
       "trade_type_last9             0\n",
       "dtype: int64"
      ]
     },
     "execution_count": 11,
     "metadata": {},
     "output_type": "execute_result"
    }
   ],
   "source": [
    "#Checking null if any\n",
    "trades.isnull().sum()"
   ]
  },
  {
   "cell_type": "code",
   "execution_count": 49,
   "metadata": {},
   "outputs": [
    {
     "data": {
      "text/plain": [
       "(61146, 59)"
      ]
     },
     "execution_count": 49,
     "metadata": {},
     "output_type": "execute_result"
    }
   ],
   "source": [
    "df_test.shape"
   ]
  },
  {
   "cell_type": "markdown",
   "metadata": {},
   "source": [
    "## Checking redundant columns "
   ]
  },
  {
   "cell_type": "code",
   "execution_count": 12,
   "metadata": {},
   "outputs": [
    {
     "data": {
      "text/plain": [
       "0"
      ]
     },
     "execution_count": 12,
     "metadata": {},
     "output_type": "execute_result"
    }
   ],
   "source": [
    "remove = []\n",
    "cols = trades.columns\n",
    "for i in range(len(cols)-1):\n",
    "    v = trades[cols[i]].values\n",
    "    for j in range(i+1,len(cols)):\n",
    "        if np.array_equal(v,trades[cols[j]].values):\n",
    "            remove.append(cols[j])\n",
    "\n",
    "remove=list(set(remove))\n",
    "\n",
    "len(remove)"
   ]
  },
  {
   "cell_type": "markdown",
   "metadata": {},
   "source": [
    "## No redundant columns present"
   ]
  },
  {
   "cell_type": "markdown",
   "metadata": {},
   "source": [
    "## Data Visualisation"
   ]
  },
  {
   "cell_type": "markdown",
   "metadata": {},
   "source": [
    "#### Author - Abhinav Kinagi\n",
    "#### USN - 01FE15BCS004"
   ]
  },
  {
   "cell_type": "code",
   "execution_count": 13,
   "metadata": {
    "scrolled": true
   },
   "outputs": [
    {
     "data": {
      "text/plain": [
       "<matplotlib.axes._subplots.AxesSubplot at 0x7fe50586a240>"
      ]
     },
     "execution_count": 13,
     "metadata": {},
     "output_type": "execute_result"
    },
    {
     "data": {
      "image/png": "[encoded data removed]",
      "text/plain": [
       "<matplotlib.figure.Figure at 0x7fe5058865c0>"
      ]
     },
     "metadata": {},
     "output_type": "display_data"
    }
   ],
   "source": [
    "import seaborn as sns\n",
    "#Visualising trade_price of trades\n",
    "trades.trade_price.hist(range=(0,200),color=\"red\")"
   ]
  },
  {
   "cell_type": "markdown",
   "metadata": {},
   "source": [
    "### Summary\n",
    "#### +Trade price lies in between 80 to 125 dollars.\n",
    "#### +Shows peakedness."
   ]
  },
  {
   "cell_type": "code",
   "execution_count": 14,
   "metadata": {
    "scrolled": true
   },
   "outputs": [
    {
     "name": "stdout",
     "output_type": "stream",
     "text": [
      "Skewness: -1.314060\n",
      "Kurtosis: 17.924970\n"
     ]
    }
   ],
   "source": [
    "#skewness and kurtosis\n",
    "print(\"Skewness: %f\" % df_train['trade_price'].skew())\n",
    "print(\"Kurtosis: %f\" % df_train['trade_price'].kurt())"
   ]
  },
  {
   "cell_type": "markdown",
   "metadata": {},
   "source": [
    "### Summary\n",
    "#### It almost symmetric in distribution but is heavy-tailed."
   ]
  },
  {
   "cell_type": "code",
   "execution_count": 15,
   "metadata": {},
   "outputs": [
    {
     "data": {
      "text/plain": [
       "<matplotlib.axes._subplots.AxesSubplot at 0x7fe505886a20>"
      ]
     },
     "execution_count": 15,
     "metadata": {},
     "output_type": "execute_result"
    },
    {
     "data": {
      "image/png": "[encoded data removed]",
      "text/plain": [
       "<matplotlib.figure.Figure at 0x7fe502b4b550>"
      ]
     },
     "metadata": {},
     "output_type": "display_data"
    }
   ],
   "source": [
    "#Visualising trade size(notional amount) at which trade occured\n",
    "trades.trade_size.hist()"
   ]
  },
  {
   "cell_type": "code",
   "execution_count": 16,
   "metadata": {
    "collapsed": true
   },
   "outputs": [],
   "source": [
    "def remove_outliers(df, column, min_val, max_val):\n",
    "    col_values = df[column].values\n",
    "    df[column] = np.where(np.logical_or(col_values<=min_val, col_values>=max_val), np.NaN, col_values)\n",
    "    return df"
   ]
  },
  {
   "cell_type": "code",
   "execution_count": 17,
   "metadata": {},
   "outputs": [
    {
     "name": "stdout",
     "output_type": "stream",
     "text": [
      "Fixing trade_price  column...completed\n"
     ]
    }
   ],
   "source": [
    "trades = remove_outliers(df = trades, column = \"trade_size\", min_val = 0, max_val = 3000000)\n",
    "trades['trade_size'].fillna(-1, inplace = True)\n",
    "print(\"Fixing trade_price  column...completed\")"
   ]
  },
  {
   "cell_type": "markdown",
   "metadata": {},
   "source": [
    "### Summary\n",
    "#### 90% of the trades have smaller size than 500,000 and there exists some large trade sizes."
   ]
  },
  {
   "cell_type": "code",
   "execution_count": 18,
   "metadata": {},
   "outputs": [
    {
     "data": {
      "text/plain": [
       "<matplotlib.axes._subplots.AxesSubplot at 0x7fe50586add8>"
      ]
     },
     "execution_count": 18,
     "metadata": {},
     "output_type": "execute_result"
    },
    {
     "data": {
      "image/png": "[encoded data removed]",
      "text/plain": [
       "<matplotlib.figure.Figure at 0x7fe505868470>"
      ]
     },
     "metadata": {},
     "output_type": "display_data"
    }
   ],
   "source": [
    "#Visualising trade size(notional amount) at which trade occured after removing outliers\n",
    "trades.trade_size.hist(color='green')"
   ]
  },
  {
   "cell_type": "code",
   "execution_count": 19,
   "metadata": {},
   "outputs": [
    {
     "data": {
      "image/png": "[encoded data removed]",
      "text/plain": [
       "<matplotlib.figure.Figure at 0x7fe4ff2484e0>"
      ]
     },
     "metadata": {},
     "output_type": "display_data"
    }
   ],
   "source": [
    "#Visualising trade type of trades\n",
    "trades.trade_type.value_counts(dropna=False).plot(kind='bar', color='red', rot=0)\n",
    "plt.xlabel('Trade Type')\n",
    "sns.despine()"
   ]
  },
  {
   "cell_type": "markdown",
   "metadata": {},
   "source": [
    "### Summary\n",
    "#### 22% of the customers sells(2), 33% of the customers buys(3), 44% of trade happen between dealers(4). So much concentration can be laid on dealer part than the other."
   ]
  },
  {
   "cell_type": "markdown",
   "metadata": {},
   "source": [
    "#### Author - Anoop Ron\n",
    "#### USN - 01FE15BCS030"
   ]
  },
  {
   "cell_type": "code",
   "execution_count": 20,
   "metadata": {},
   "outputs": [
    {
     "data": {
      "text/plain": [
       "<matplotlib.axes._subplots.AxesSubplot at 0x7fe5056fc518>"
      ]
     },
     "execution_count": 20,
     "metadata": {},
     "output_type": "execute_result"
    },
    {
     "data": {
      "image/png": "[encoded data removed]",
      "text/plain": [
       "<matplotlib.figure.Figure at 0x7fe505702f28>"
      ]
     },
     "metadata": {},
     "output_type": "display_data"
    }
   ],
   "source": [
    "#Visualising time 0f maturity of trades\n",
    "trades.time_to_maturity.hist(bins=30,range=(0,100),color=\"red\")"
   ]
  },
  {
   "cell_type": "markdown",
   "metadata": {},
   "source": [
    "### Summary\n",
    "#### The time of maturity is less than 30 years for 98% of the bonds."
   ]
  },
  {
   "cell_type": "code",
   "execution_count": 21,
   "metadata": {},
   "outputs": [
    {
     "data": {
      "text/plain": [
       "<matplotlib.axes._subplots.AxesSubplot at 0x7fe505719a90>"
      ]
     },
     "execution_count": 21,
     "metadata": {},
     "output_type": "execute_result"
    },
    {
     "data": {
      "image/png": "[encoded data removed]",
      "text/plain": [
       "<matplotlib.figure.Figure at 0x7fe5057356a0>"
      ]
     },
     "metadata": {},
     "output_type": "display_data"
    }
   ],
   "source": [
    "#Visualising curve_based_price of trades\n",
    "trades.curve_based_price.hist(range=(0,200))"
   ]
  },
  {
   "cell_type": "code",
   "execution_count": 8,
   "metadata": {},
   "outputs": [
    {
     "name": "stdout",
     "output_type": "stream",
     "text": [
      "Fixing curve_based_price  column...completed\n"
     ]
    }
   ],
   "source": [
    "df_trades = remove_outliers(df = trades, column = \"curve_based_price\", min_val = 50, max_val = 170)\n",
    "df_trades[\"curve_based_price\"].fillna(-1, inplace = True)\n",
    "print(\"Fixing curve_based_price  column...completed\")"
   ]
  },
  {
   "cell_type": "code",
   "execution_count": 22,
   "metadata": {},
   "outputs": [
    {
     "data": {
      "text/plain": [
       "<matplotlib.axes._subplots.AxesSubplot at 0x7fe5055f8e80>"
      ]
     },
     "execution_count": 22,
     "metadata": {},
     "output_type": "execute_result"
    },
    {
     "data": {
      "image/png": "[encoded data removed]",
      "text/plain": [
       "<matplotlib.figure.Figure at 0x7fe50561e7f0>"
      ]
     },
     "metadata": {},
     "output_type": "display_data"
    }
   ],
   "source": [
    "#Visualising curve_based_price of trades after removing outliers\n",
    "trades.curve_based_price.hist(range=(0,200),color=\"green\")"
   ]
  },
  {
   "cell_type": "markdown",
   "metadata": {},
   "source": [
    "### Summary\n",
    "#### Curve based price is almost in the range of trade price graph."
   ]
  },
  {
   "cell_type": "code",
   "execution_count": 23,
   "metadata": {
    "scrolled": true
   },
   "outputs": [
    {
     "data": {
      "text/plain": [
       "<matplotlib.axes._subplots.AxesSubplot at 0x7fe505545e10>"
      ]
     },
     "execution_count": 23,
     "metadata": {},
     "output_type": "execute_result"
    },
    {
     "data": {
      "image/png": "[encoded data removed]",
      "text/plain": [
       "<matplotlib.figure.Figure at 0x7fe50559f048>"
      ]
     },
     "metadata": {},
     "output_type": "display_data"
    }
   ],
   "source": [
    "#Visualising recieved time difference last at which first transaction of the trade\n",
    "trades.received_time_diff_last1.hist()"
   ]
  },
  {
   "cell_type": "markdown",
   "metadata": {},
   "source": [
    "### Summary\n",
    "#### We infer that about 99% of trades are uploaded within 850 seconds of the previous transaction. So we need to predict trade price early and get paid."
   ]
  },
  {
   "cell_type": "markdown",
   "metadata": {},
   "source": [
    "#### Author - Abhishek Patil\n",
    "#### USN - 01FE15BCS006"
   ]
  },
  {
   "cell_type": "code",
   "execution_count": 24,
   "metadata": {},
   "outputs": [
    {
     "data": {
      "image/png": "[encoded data removed]",
      "text/plain": [
       "<matplotlib.figure.Figure at 0x7fe505785c50>"
      ]
     },
     "metadata": {},
     "output_type": "display_data"
    }
   ],
   "source": [
    "#Visualising the whether bond is callable or not\n",
    "trades.is_callable.value_counts(dropna=False).plot(kind='bar', color='red', rot=0)\n",
    "plt.xlabel('Is Callable')\n",
    "sns.despine()"
   ]
  },
  {
   "cell_type": "markdown",
   "metadata": {},
   "source": [
    "### Summary\n",
    "#### 0 indicates the bond is not callable and 1 indicates that the bond is callable. So we infer that about 90% of the bonds are not callable."
   ]
  },
  {
   "cell_type": "code",
   "execution_count": 25,
   "metadata": {},
   "outputs": [
    {
     "data": {
      "text/plain": [
       "<matplotlib.axes._subplots.AxesSubplot at 0x7fe50537f2e8>"
      ]
     },
     "execution_count": 25,
     "metadata": {},
     "output_type": "execute_result"
    },
    {
     "data": {
      "image/png": "[encoded data removed]",
      "text/plain": [
       "<matplotlib.figure.Figure at 0x7fe5053bde10>"
      ]
     },
     "metadata": {},
     "output_type": "display_data"
    }
   ],
   "source": [
    "#Visualising the current coupon\n",
    "trades.current_coupon.hist(label='Histogram',bins=40,range=(-1,14),rwidth=0.9,stacked=True,color=\"red\")\n",
    "#plt.xlabel('Current Coupon')\n",
    "#sns.despine()"
   ]
  },
  {
   "cell_type": "markdown",
   "metadata": {},
   "source": [
    "### Summary\n",
    "#### The current coupon visualisation infers that most of the coupons lie in between 4.3 to 6.3."
   ]
  },
  {
   "cell_type": "code",
   "execution_count": 26,
   "metadata": {},
   "outputs": [
    {
     "data": {
      "text/plain": [
       "<matplotlib.axes._subplots.AxesSubplot at 0x7fe505240b38>"
      ]
     },
     "execution_count": 26,
     "metadata": {},
     "output_type": "execute_result"
    },
    {
     "data": {
      "image/png": "[encoded data removed]",
      "text/plain": [
       "<matplotlib.figure.Figure at 0x7fe5054b7c50>"
      ]
     },
     "metadata": {},
     "output_type": "display_data"
    }
   ],
   "source": [
    "#Visualising the reporting delay\n",
    "trades.reporting_delay.hist(range=(-5.858100e+01,9.987914e+04))"
   ]
  },
  {
   "cell_type": "markdown",
   "metadata": {},
   "source": [
    "### Summary\n",
    "#### We see that most of the values are clustered to left and some outliers exist."
   ]
  },
  {
   "cell_type": "code",
   "execution_count": 27,
   "metadata": {},
   "outputs": [
    {
     "name": "stdout",
     "output_type": "stream",
     "text": [
      "Fixing reporting delay column...completed\n"
     ]
    }
   ],
   "source": [
    "trades = remove_outliers(df = trades, column = \"reporting_delay\", min_val = 0, max_val = 20000)\n",
    "trades['reporting_delay'].fillna(-1, inplace = True)\n",
    "print(\"Fixing reporting delay column...completed\")\n"
   ]
  },
  {
   "cell_type": "code",
   "execution_count": 28,
   "metadata": {},
   "outputs": [
    {
     "data": {
      "text/plain": [
       "<matplotlib.axes._subplots.AxesSubplot at 0x7fe50548afd0>"
      ]
     },
     "execution_count": 28,
     "metadata": {},
     "output_type": "execute_result"
    },
    {
     "data": {
      "image/png": "[encoded data removed]",
      "text/plain": [
       "<matplotlib.figure.Figure at 0x7fe50517fa20>"
      ]
     },
     "metadata": {},
     "output_type": "display_data"
    }
   ],
   "source": [
    "#Visualising the reporting delay\n",
    "trades.reporting_delay.hist(range=(-5.858100e+01,9.987914e+04),color=\"green\")"
   ]
  },
  {
   "cell_type": "markdown",
   "metadata": {},
   "source": [
    "# Relation between the trade price and other variables"
   ]
  },
  {
   "cell_type": "code",
   "execution_count": 73,
   "metadata": {},
   "outputs": [
    {
     "data": {
      "image/png": "[encoded data removed]",
      "text/plain": [
       "<matplotlib.figure.Figure at 0x7fe4f8cb1b38>"
      ]
     },
     "metadata": {},
     "output_type": "display_data"
    }
   ],
   "source": [
    "#correlation matrix\n",
    "corrmat = trades.corr()\n",
    "f, ax = plt.subplots(figsize=(12, 9))\n",
    "sns.heatmap(corrmat, vmax=.8, square=True);"
   ]
  },
  {
   "cell_type": "markdown",
   "metadata": {},
   "source": [
    "## Summary\n",
    "### Curve based price is strongly corelated with the trade prices, there is also coorelation between trade type and trade price last."
   ]
  },
  {
   "cell_type": "code",
   "execution_count": 74,
   "metadata": {},
   "outputs": [
    {
     "data": {
      "image/png": "[encoded data removed]",
      "text/plain": [
       "<matplotlib.figure.Figure at 0x7fe4fa750668>"
      ]
     },
     "metadata": {},
     "output_type": "display_data"
    }
   ],
   "source": [
    "#box plot is_callable/trade_price\n",
    "var = 'is_callable'\n",
    "data = pd.concat([trades['trade_price'], trades[var]], axis=1)\n",
    "f, ax = plt.subplots(figsize=(8, 6))\n",
    "fig = sns.boxplot(x=var, y=\"trade_price\", data=data)"
   ]
  },
  {
   "cell_type": "markdown",
   "metadata": {},
   "source": [
    "## Summary\n",
    "### 90% of the bonds with trade_price higher than 103 dollars are non_callable."
   ]
  },
  {
   "cell_type": "code",
   "execution_count": 30,
   "metadata": {},
   "outputs": [
    {
     "data": {
      "image/png": "[encoded data removed]",
      "text/plain": [
       "<matplotlib.figure.Figure at 0x7fe50515fc50>"
      ]
     },
     "metadata": {},
     "output_type": "display_data"
    }
   ],
   "source": [
    "#scatter plot curve_based_price/trade_price\n",
    "var = 'curve_based_price'\n",
    "data = pd.concat([trades['trade_price'], trades[var]], axis=1)\n",
    "data.plot.scatter(x=var, y='trade_price');"
   ]
  },
  {
   "cell_type": "markdown",
   "metadata": {},
   "source": [
    "## Summary\n",
    "### Curve based price and trade price are positively corelated but some times zero credit will be shared between each other."
   ]
  },
  {
   "cell_type": "code",
   "execution_count": 32,
   "metadata": {},
   "outputs": [
    {
     "data": {
      "image/png": "[encoded data removed]",
      "text/plain": [
       "<matplotlib.figure.Figure at 0x7fe4aa989470>"
      ]
     },
     "metadata": {},
     "output_type": "display_data"
    }
   ],
   "source": [
    "#scatter plot is_time_of_maturity/trade_price\n",
    "\n",
    "var = 'time_to_maturity'\n",
    "data = pd.concat([trades['trade_price'], trades[var]], axis=1)\n",
    "data.plot.scatter(x=var, y='trade_price');"
   ]
  },
  {
   "cell_type": "markdown",
   "metadata": {},
   "source": [
    "## Summary\n",
    "### It seems there is no coorelation between trade price as such."
   ]
  },
  {
   "cell_type": "code",
   "execution_count": 64,
   "metadata": {},
   "outputs": [
    {
     "data": {
      "image/png": "[encoded data removed]",
      "text/plain": [
       "<matplotlib.figure.Figure at 0x7fe4a52f02b0>"
      ]
     },
     "metadata": {},
     "output_type": "display_data"
    }
   ],
   "source": [
    "#scatter plot curve_based_price/trade_price\n",
    "var = 'reporting_delay'\n",
    "data = pd.concat([trades['trade_price'], trades[var]], axis=1)\n",
    "data.plot.scatter(x=var, y='trade_price');"
   ]
  },
  {
   "cell_type": "markdown",
   "metadata": {},
   "source": [
    "## Summary\n",
    "### It seems there is no coorelation between trade price as such."
   ]
  },
  {
   "cell_type": "code",
   "execution_count": 65,
   "metadata": {},
   "outputs": [
    {
     "data": {
      "image/png": "[encoded data removed]",
      "text/plain": [
       "<matplotlib.figure.Figure at 0x7fe46da354a8>"
      ]
     },
     "metadata": {},
     "output_type": "display_data"
    }
   ],
   "source": [
    "#scatter plot curve_based_price/trade_price\n",
    "var = 'current_coupon'\n",
    "data = pd.concat([trades['trade_price'], trades[var]], axis=1)\n",
    "data.plot.scatter(x=var, y='trade_price');"
   ]
  },
  {
   "cell_type": "markdown",
   "metadata": {},
   "source": [
    "## Summary\n",
    "### It seems there is no coorelation between trade price as such."
   ]
  },
  {
   "cell_type": "code",
   "execution_count": 66,
   "metadata": {},
   "outputs": [
    {
     "data": {
      "image/png": "[encoded data removed]",
      "text/plain": [
       "<matplotlib.figure.Figure at 0x7fe46d9d50b8>"
      ]
     },
     "metadata": {},
     "output_type": "display_data"
    }
   ],
   "source": [
    "#scatter plot curve_based_price/trade_price\n",
    "var = 'trade_size'\n",
    "data = pd.concat([trades['trade_price'], trades[var]], axis=1)\n",
    "data.plot.scatter(x=var, y='trade_price');"
   ]
  },
  {
   "cell_type": "code",
   "execution_count": 67,
   "metadata": {},
   "outputs": [
    {
     "data": {
      "image/png": "[encoded data removed]",
      "text/plain": [
       "<matplotlib.figure.Figure at 0x7fe46d967ef0>"
      ]
     },
     "metadata": {},
     "output_type": "display_data"
    }
   ],
   "source": [
    "#box plot is_callable/trade_price\n",
    "var = 'trade_type'\n",
    "data = pd.concat([df_train['trade_price'], df_train[var]], axis=1)\n",
    "f, ax = plt.subplots(figsize=(8, 6))\n",
    "fig = sns.boxplot(x=var, y=\"trade_price\", data=data)"
   ]
  },
  {
   "cell_type": "code",
   "execution_count": 72,
   "metadata": {},
   "outputs": [
    {
     "data": {
      "image/png": "[encoded data removed]",
      "text/plain": [
       "<matplotlib.figure.Figure at 0x7fe4f8d9c2b0>"
      ]
     },
     "metadata": {},
     "output_type": "display_data"
    }
   ],
   "source": [
    "#scatter plot curve_based_price/trade_price\n",
    "var = 'received_time_diff_last10'\n",
    "data = pd.concat([trades['trade_price'], trades[var]], axis=1)\n",
    "data.plot.scatter(x=var, y='trade_price');\n"
   ]
  },
  {
   "cell_type": "markdown",
   "metadata": {},
   "source": [
    "## Summary \n",
    "###"
   ]
  },
  {
   "cell_type": "markdown",
   "metadata": {},
   "source": [
    "# Building linear model\n",
    "### Data Modelling"
   ]
  },
  {
   "cell_type": "code",
   "execution_count": 33,
   "metadata": {
    "collapsed": true
   },
   "outputs": [],
   "source": [
    "attributes = ['is_callable','curve_based_price_last1','curve_based_price_last2','curve_based_price_last3','curve_based_price_last4','curve_based_price_last5','curve_based_price','trade_price','trade_size','trade_type','received_time_diff_last10']\n",
    "training_data=df_train\n",
    "testing_data=df_test\n",
    "data_new = trades\n",
    "data_new.set_index('id', inplace=True)\n",
    "\n",
    "training_data.set_index('id', inplace=True)\n",
    "i=training_data.shape[0]\n",
    "data_new = data_new[:i]\n",
    "\n",
    "yy = data_new['trade_price']\n",
    "XX = data_new.drop(attributes, axis=1, inplace=False)\n"
   ]
  },
  {
   "cell_type": "code",
   "execution_count": 34,
   "metadata": {},
   "outputs": [
    {
     "name": "stderr",
     "output_type": "stream",
     "text": [
      "/home/hp/anaconda3/lib/python3.6/site-packages/sklearn/cross_validation.py:44: DeprecationWarning: This module was deprecated in version 0.18 in favor of the model_selection module into which all the refactored classes and functions are moved. Also note that the interface of the new CV iterators are different from that of this module. This module will be removed in 0.20.\n",
      "  \"This module will be removed in 0.20.\", DeprecationWarning)\n"
     ]
    },
    {
     "data": {
      "text/plain": [
       "XGBRegressor(base_score=0.5, colsample_bylevel=1, colsample_bytree=0.6,\n",
       "       gamma=0, learning_rate=0.3, max_delta_step=0, max_depth=3,\n",
       "       min_child_weight=10, missing=None, n_estimators=1000, nthread=-1,\n",
       "       objective='reg:linear', reg_alpha=0, reg_lambda=1,\n",
       "       scale_pos_weight=1, seed=0, silent=True, subsample=0.5)"
      ]
     },
     "execution_count": 34,
     "metadata": {},
     "output_type": "execute_result"
    }
   ],
   "source": [
    "import xgboost as xg\n",
    "\n",
    "from sklearn.model_selection import train_test_split  \n",
    "X_train, X_test, y_train, y_test = train_test_split(XX, yy, test_size=0.2,  \n",
    "                                                    random_state=42)\n",
    "\n",
    "\n",
    "max_depth = 3\n",
    "min_child_weight = 10\n",
    "subsample = 0.5\n",
    "colsample_bytree = 0.6\n",
    "objective = 'reg:linear'\n",
    "num_estimators = 1000\n",
    "learning_rate = 0.3\n",
    "\n",
    "features = X_train\n",
    "target = y_train\n",
    "mdl = xg.XGBRegressor(max_depth=max_depth,\n",
    "                min_child_weight=min_child_weight,\n",
    "                subsample=subsample,\n",
    "                colsample_bytree=colsample_bytree,\n",
    "                objective=objective,\n",
    "                n_estimators=num_estimators,\n",
    "                learning_rate=learning_rate)\n",
    "mdl.fit(features, target)"
   ]
  },
  {
   "cell_type": "code",
   "execution_count": 61,
   "metadata": {},
   "outputs": [
    {
     "data": {
      "text/plain": [
       "[106.72444,\n",
       " 101.51483,\n",
       " 99.806458,\n",
       " 107.80389,\n",
       " 99.984428,\n",
       " 100.4675,\n",
       " 100.18454,\n",
       " 99.175888,\n",
       " 107.0042,\n",
       " 108.85517,\n",
       " 106.72049,\n",
       " 99.157158,\n",
       " 129.99501,\n",
       " 122.10303,\n",
       " 106.3746,\n",
       " 104.97695,\n",
       " 96.168449,\n",
       " 97.707863,\n",
       " 99.781326,\n",
       " 130.12903,\n",
       " 107.14412,\n",
       " 101.16212,\n",
       " 115.14298,\n",
       " 100.56435,\n",
       " 110.22577,\n",
       " 99.624878,\n",
       " 99.237389,\n",
       " 89.356773,\n",
       " 101.97028,\n",
       " 96.514603,\n",
       " 97.932167,\n",
       " 96.947739,\n",
       " 103.41628,\n",
       " 101.66489,\n",
       " 107.58274,\n",
       " 113.16355,\n",
       " 123.37601,\n",
       " 95.350105,\n",
       " 103.38084,\n",
       " 105.05132,\n",
       " 99.93779,\n",
       " 90.801048,\n",
       " 96.018288,\n",
       " 104.97084,\n",
       " 101.16991,\n",
       " 105.19221,\n",
       " 98.697739,\n",
       " 86.062057,\n",
       " 101.03825,\n",
       " 102.37455,\n",
       " 100.01018,\n",
       " 129.7424,\n",
       " 104.09161,\n",
       " 117.36351,\n",
       " 105.5604,\n",
       " 102.23095,\n",
       " 100.86369,\n",
       " 98.755981,\n",
       " 107.20958,\n",
       " 99.897888,\n",
       " 113.16085,\n",
       " 126.54596,\n",
       " 101.14349,\n",
       " 106.20185,\n",
       " 100.3302,\n",
       " 94.676353,\n",
       " 100.92734,\n",
       " 101.22308,\n",
       " 99.775337,\n",
       " 103.41845,\n",
       " 100.57628,\n",
       " 112.04052,\n",
       " 101.10593,\n",
       " 104.31789,\n",
       " 107.77557,\n",
       " 105.54732,\n",
       " 98.108528,\n",
       " 95.976379,\n",
       " 103.95612,\n",
       " 106.02522,\n",
       " 104.58993,\n",
       " 104.3878,\n",
       " 104.43189,\n",
       " 116.16318,\n",
       " 110.75558,\n",
       " 101.25545,\n",
       " 103.24011,\n",
       " 98.716743,\n",
       " 96.255623,\n",
       " 98.846786,\n",
       " 99.964851,\n",
       " 98.220268,\n",
       " 115.76998,\n",
       " 97.827461,\n",
       " 123.14766,\n",
       " 93.371948,\n",
       " 107.13586,\n",
       " 110.29509,\n",
       " 97.96312,\n",
       " 101.39933,\n",
       " 116.35906,\n",
       " 102.52573,\n",
       " 103.45204,\n",
       " 105.46819,\n",
       " 101.33083,\n",
       " 100.21403,\n",
       " 95.764282,\n",
       " 97.406052,\n",
       " 107.07285,\n",
       " 85.776009,\n",
       " 97.123573,\n",
       " 96.116753,\n",
       " 96.507324,\n",
       " 96.697189,\n",
       " 94.255302,\n",
       " 91.409897,\n",
       " 115.95202,\n",
       " 109.37055,\n",
       " 103.81931,\n",
       " 106.74116,\n",
       " 101.88414,\n",
       " 104.38445,\n",
       " 99.969688,\n",
       " 98.025414,\n",
       " 105.20335,\n",
       " 107.67014,\n",
       " 101.83099,\n",
       " 110.18037,\n",
       " 100.7649,\n",
       " 98.730034,\n",
       " 97.355064,\n",
       " 116.45135,\n",
       " 100.91981,\n",
       " 102.7079,\n",
       " 20.100023,\n",
       " 90.378616,\n",
       " 102.92327,\n",
       " 101.69518,\n",
       " 101.49749,\n",
       " 100.94762,\n",
       " 102.41119,\n",
       " 111.55708,\n",
       " 101.46651,\n",
       " 94.151695,\n",
       " 133.03983,\n",
       " 110.67817,\n",
       " 110.66595,\n",
       " 97.920357,\n",
       " 94.032631,\n",
       " 97.879494,\n",
       " 104.01481,\n",
       " 96.269821,\n",
       " 126.00272,\n",
       " 116.9508,\n",
       " 97.176117,\n",
       " 117.10805,\n",
       " 111.632,\n",
       " 99.96814,\n",
       " 97.634659,\n",
       " 98.25811,\n",
       " 100.2841,\n",
       " 102.4726,\n",
       " 102.93938,\n",
       " 105.30461,\n",
       " 113.64278,\n",
       " 99.061089,\n",
       " 108.64345,\n",
       " 100.36066,\n",
       " 100.83691,\n",
       " 112.52888,\n",
       " 102.67813,\n",
       " 100.91941,\n",
       " 115.54601,\n",
       " 99.594376,\n",
       " 98.313858,\n",
       " 95.473267,\n",
       " 98.921379,\n",
       " 103.25108,\n",
       " 102.75713,\n",
       " 86.636284,\n",
       " 114.46967,\n",
       " 94.441925,\n",
       " 87.377831,\n",
       " 106.08725,\n",
       " 98.134514,\n",
       " 116.32894,\n",
       " 105.5967,\n",
       " 101.18768,\n",
       " 100.6004,\n",
       " 99.009125,\n",
       " 101.58622,\n",
       " 100.79572,\n",
       " 92.507393,\n",
       " 97.311897,\n",
       " 92.237137,\n",
       " 99.777924,\n",
       " 108.70575,\n",
       " 112.91227,\n",
       " 105.50904,\n",
       " 103.89989,\n",
       " 108.09262,\n",
       " 103.31824,\n",
       " 99.160728,\n",
       " 105.47182,\n",
       " 98.443642,\n",
       " 120.04238,\n",
       " 103.20014,\n",
       " 98.115501,\n",
       " 101.59591,\n",
       " 101.88605,\n",
       " 100.29596,\n",
       " 100.43993,\n",
       " 100.53145,\n",
       " 104.81438,\n",
       " 100.83802,\n",
       " 103.4165,\n",
       " 99.71669,\n",
       " 114.63352,\n",
       " 109.28008,\n",
       " 106.30259,\n",
       " 100.51262,\n",
       " 108.367,\n",
       " 85.589378,\n",
       " 113.65831,\n",
       " 106.79967,\n",
       " 103.504,\n",
       " 101.39903,\n",
       " 100.06061,\n",
       " 100.06066,\n",
       " 111.64762,\n",
       " 109.71626,\n",
       " 104.67297,\n",
       " 105.47324,\n",
       " 89.990417,\n",
       " 102.80504,\n",
       " 108.27806,\n",
       " 106.82071,\n",
       " 119.61839,\n",
       " 101.64021,\n",
       " 94.089684,\n",
       " 108.10994,\n",
       " 100.93665,\n",
       " 96.912094,\n",
       " 107.92193,\n",
       " 116.89038,\n",
       " 111.67551,\n",
       " 101.5377,\n",
       " 103.80846,\n",
       " 101.66811,\n",
       " 106.27142,\n",
       " 101.40888,\n",
       " 108.31786,\n",
       " 114.81325,\n",
       " 98.445503,\n",
       " 108.4256,\n",
       " 96.127457,\n",
       " 107.01908,\n",
       " 100.76474,\n",
       " 111.114,\n",
       " 104.39085,\n",
       " 104.18042,\n",
       " 107.38612,\n",
       " 114.21915,\n",
       " 103.46873,\n",
       " 99.547623,\n",
       " 104.28313,\n",
       " 101.35848,\n",
       " 98.669579,\n",
       " 100.72968,\n",
       " 101.0242,\n",
       " 99.572067,\n",
       " 114.15565,\n",
       " 107.01649,\n",
       " 109.02133,\n",
       " 103.81479,\n",
       " 98.154015,\n",
       " 103.35014,\n",
       " 102.49734,\n",
       " 106.31076,\n",
       " 94.999741,\n",
       " 102.78032,\n",
       " 113.14732,\n",
       " 108.35156,\n",
       " 141.35355,\n",
       " 101.25272,\n",
       " 125.71564,\n",
       " 106.57739,\n",
       " 101.79513,\n",
       " 101.73692,\n",
       " 102.14131,\n",
       " 102.17331,\n",
       " 107.75394,\n",
       " 107.70326,\n",
       " 114.47413,\n",
       " 101.45866,\n",
       " 114.2583,\n",
       " 92.378899,\n",
       " 109.46964,\n",
       " 103.97621,\n",
       " 105.30141,\n",
       " 99.873421,\n",
       " 116.06232,\n",
       " 100.98133,\n",
       " 101.42628,\n",
       " 104.82115,\n",
       " 117.20376,\n",
       " 104.55719,\n",
       " 96.581444,\n",
       " 99.771759,\n",
       " 99.110069,\n",
       " 109.12238,\n",
       " 104.70763,\n",
       " 99.214111,\n",
       " 104.09441,\n",
       " 103.36561,\n",
       " 96.856026,\n",
       " 101.14358,\n",
       " 108.74483,\n",
       " 109.03624,\n",
       " 102.46174,\n",
       " 107.39988,\n",
       " 101.65364,\n",
       " 103.99926,\n",
       " 112.99361,\n",
       " 101.96461,\n",
       " 107.16679,\n",
       " 92.050652,\n",
       " 97.569145,\n",
       " 106.89175,\n",
       " 108.05167,\n",
       " 100.10181,\n",
       " 109.64396,\n",
       " 99.628586,\n",
       " 100.66917,\n",
       " 88.710648,\n",
       " 106.90829,\n",
       " 98.206863,\n",
       " 124.1254,\n",
       " 113.17195,\n",
       " 102.15067,\n",
       " 100.82955,\n",
       " 104.86615,\n",
       " 110.6954,\n",
       " 98.002625,\n",
       " 110.17804,\n",
       " 101.44477,\n",
       " 99.939758,\n",
       " 97.948944,\n",
       " 97.511688,\n",
       " 108.83134,\n",
       " 120.35278,\n",
       " 110.49403,\n",
       " 100.78522,\n",
       " 100.00965,\n",
       " 95.026726,\n",
       " 97.206787,\n",
       " 98.190613,\n",
       " 114.5174,\n",
       " 96.7752,\n",
       " 103.59373,\n",
       " 99.567917,\n",
       " 105.47551,\n",
       " 98.297279,\n",
       " 100.41887,\n",
       " 113.70088,\n",
       " 91.518478,\n",
       " 107.05943,\n",
       " 96.695625,\n",
       " 113.252,\n",
       " 91.718102,\n",
       " 104.4744,\n",
       " 107.68806,\n",
       " 99.645149,\n",
       " 98.93203,\n",
       " 100.42696,\n",
       " 95.006676,\n",
       " 102.44098,\n",
       " 101.91035,\n",
       " 108.04887,\n",
       " 102.00978,\n",
       " 96.535194,\n",
       " 96.180984,\n",
       " 99.352745,\n",
       " 117.96061,\n",
       " 91.756058,\n",
       " 115.18649,\n",
       " 91.529152,\n",
       " 106.28025,\n",
       " 90.743546,\n",
       " 104.64711,\n",
       " 106.46885,\n",
       " 100.55344,\n",
       " 93.237305,\n",
       " 95.561501,\n",
       " 101.4959,\n",
       " 114.13763,\n",
       " 101.77647,\n",
       " 113.20367,\n",
       " 104.77323,\n",
       " 103.40725,\n",
       " 101.45544,\n",
       " 104.09254,\n",
       " 102.2013,\n",
       " 101.07749,\n",
       " 115.16074,\n",
       " 103.15302,\n",
       " 102.27285,\n",
       " 111.44675,\n",
       " 102.9465,\n",
       " 95.625381,\n",
       " 128.4314,\n",
       " 111.3684,\n",
       " 99.771889,\n",
       " 87.473976,\n",
       " 82.656822,\n",
       " 90.984657,\n",
       " 99.253052,\n",
       " 109.67589,\n",
       " 100.07259,\n",
       " 91.158104,\n",
       " 98.007202,\n",
       " 102.93734,\n",
       " 107.4021,\n",
       " 102.55347,\n",
       " 97.054588,\n",
       " 94.377022,\n",
       " 102.04386,\n",
       " 114.18907,\n",
       " 105.47476,\n",
       " 115.62258,\n",
       " 104.9427,\n",
       " 98.651459,\n",
       " 102.45535,\n",
       " 101.91248,\n",
       " 91.4953,\n",
       " 101.23344,\n",
       " 115.84679,\n",
       " 107.08424,\n",
       " 104.9613,\n",
       " 104.10455,\n",
       " 105.60092,\n",
       " 106.47548,\n",
       " 90.570694,\n",
       " 109.30945,\n",
       " 98.403809,\n",
       " 102.65555,\n",
       " 100.49877,\n",
       " 107.28056,\n",
       " 118.09279,\n",
       " 104.93645,\n",
       " 99.233261,\n",
       " 119.01308,\n",
       " 108.9375,\n",
       " 111.83054,\n",
       " 102.82839,\n",
       " 108.14021,\n",
       " 98.976562,\n",
       " 116.69417,\n",
       " 98.493706,\n",
       " 107.6269,\n",
       " 121.9272,\n",
       " 95.749908,\n",
       " 100.58739,\n",
       " 104.61932,\n",
       " 107.79913,\n",
       " 115.95013,\n",
       " 98.80619,\n",
       " 108.39497,\n",
       " 71.157265,\n",
       " 109.22623,\n",
       " 101.22061,\n",
       " 103.53027,\n",
       " 107.63742,\n",
       " 114.33324,\n",
       " 110.25725,\n",
       " 109.45705,\n",
       " 103.32071,\n",
       " 113.36941,\n",
       " 100.08904,\n",
       " 105.3481,\n",
       " 100.32115,\n",
       " 103.16834,\n",
       " 108.25613,\n",
       " 108.24591,\n",
       " 101.11262,\n",
       " 100.36536,\n",
       " 103.42252,\n",
       " 120.44907,\n",
       " 90.563911,\n",
       " 92.10334,\n",
       " 96.829796,\n",
       " 112.41744,\n",
       " 90.197426,\n",
       " 107.53139,\n",
       " 105.94661,\n",
       " 136.83061,\n",
       " 130.18709,\n",
       " 99.966003,\n",
       " 106.03989,\n",
       " 100.53933,\n",
       " 100.25815,\n",
       " 118.21181,\n",
       " 104.78788,\n",
       " 103.6883,\n",
       " 99.826378,\n",
       " 105.6758,\n",
       " 104.147,\n",
       " 108.12634,\n",
       " 103.99128,\n",
       " 105.06102,\n",
       " 111.77112,\n",
       " 93.602013,\n",
       " 107.93376,\n",
       " 99.610077,\n",
       " 101.48954,\n",
       " 113.47,\n",
       " 105.26352,\n",
       " 100.27128,\n",
       " 95.177254,\n",
       " 97.995605,\n",
       " 100.84203,\n",
       " 112.07758,\n",
       " 111.3083,\n",
       " 105.2308,\n",
       " 115.45319,\n",
       " 117.01206,\n",
       " 104.95673,\n",
       " 96.605774,\n",
       " 96.612473,\n",
       " 104.93315,\n",
       " 101.39729,\n",
       " 96.977463,\n",
       " 105.85004,\n",
       " 110.91228,\n",
       " 106.62563,\n",
       " 97.200859,\n",
       " 97.831581,\n",
       " 104.21165,\n",
       " 101.61597,\n",
       " 114.53905,\n",
       " 90.311989,\n",
       " 94.07251,\n",
       " 106.23546,\n",
       " 101.20211,\n",
       " 100.11108,\n",
       " 107.55104,\n",
       " 105.18464,\n",
       " 103.00873,\n",
       " 99.02169,\n",
       " 109.44833,\n",
       " 108.59998,\n",
       " 100.54057,\n",
       " 117.72357,\n",
       " 110.80469,\n",
       " 118.22926,\n",
       " 100.40749,\n",
       " 116.83409,\n",
       " 103.84048,\n",
       " 104.85663,\n",
       " 105.04081,\n",
       " 101.09376,\n",
       " 131.65691,\n",
       " 99.244324,\n",
       " 90.9142,\n",
       " 95.267502,\n",
       " 122.89677,\n",
       " 99.59359,\n",
       " 109.10868,\n",
       " 98.703362,\n",
       " 103.9362,\n",
       " 96.32914,\n",
       " 107.42356,\n",
       " 108.36127,\n",
       " 100.87363,\n",
       " 103.98144,\n",
       " 111.13435,\n",
       " 100.22545,\n",
       " 106.94695,\n",
       " 102.7505,\n",
       " 90.464279,\n",
       " 68.828445,\n",
       " 115.39266,\n",
       " 97.053703,\n",
       " 101.25152,\n",
       " 107.08183,\n",
       " 102.07034,\n",
       " 97.755249,\n",
       " 100.32093,\n",
       " 100.3742,\n",
       " 99.151604,\n",
       " 112.8517,\n",
       " 102.0134,\n",
       " 115.21056,\n",
       " 103.05266,\n",
       " 101.06576,\n",
       " 93.050293,\n",
       " 100.99491,\n",
       " 100.55534,\n",
       " 101.80637,\n",
       " 96.028976,\n",
       " 103.47799,\n",
       " 114.08585,\n",
       " 103.99426,\n",
       " 92.958328,\n",
       " 101.55844,\n",
       " 98.80883,\n",
       " 108.76017,\n",
       " 112.32627,\n",
       " 100.45347,\n",
       " 103.72682,\n",
       " 108.55688,\n",
       " 93.678276,\n",
       " 94.562744,\n",
       " 103.49229,\n",
       " 100.24452,\n",
       " 99.523109,\n",
       " 105.79707,\n",
       " 108.16665,\n",
       " 108.84628,\n",
       " 103.99561,\n",
       " 117.61656,\n",
       " 95.978668,\n",
       " 112.38911,\n",
       " 101.11838,\n",
       " 101.3484,\n",
       " 104.84497,\n",
       " 97.220451,\n",
       " 100.59483,\n",
       " 104.37949,\n",
       " 97.728897,\n",
       " 105.36388,\n",
       " 99.72773,\n",
       " 101.91824,\n",
       " 99.826904,\n",
       " 101.35809,\n",
       " 105.58131,\n",
       " 101.39256,\n",
       " 99.667061,\n",
       " 76.467407,\n",
       " 121.84,\n",
       " 110.40196,\n",
       " 107.59566,\n",
       " 100.82359,\n",
       " 116.7104,\n",
       " 113.19536,\n",
       " 107.65787,\n",
       " 103.64132,\n",
       " 100.38921,\n",
       " 114.17116,\n",
       " 109.42686,\n",
       " 104.36369,\n",
       " 110.16319,\n",
       " 99.756622,\n",
       " 91.457169,\n",
       " 92.953789,\n",
       " 98.948654,\n",
       " 105.87396,\n",
       " 110.62157,\n",
       " 103.77023,\n",
       " 98.779419,\n",
       " 129.88905,\n",
       " 99.33506,\n",
       " 88.836876,\n",
       " 115.46989,\n",
       " 96.71537,\n",
       " 96.006989,\n",
       " 97.187035,\n",
       " 102.00639,\n",
       " 100.67256,\n",
       " 104.49996,\n",
       " 131.81786,\n",
       " 102.8828,\n",
       " 96.503944,\n",
       " 103.31481,\n",
       " 98.572578,\n",
       " 138.27818,\n",
       " 103.64283,\n",
       " 103.11666,\n",
       " 102.17107,\n",
       " 120.21175,\n",
       " 113.91886,\n",
       " 109.79882,\n",
       " 96.018822,\n",
       " 119.75674,\n",
       " 102.28682,\n",
       " 94.554764,\n",
       " 103.99829,\n",
       " 103.91341,\n",
       " 99.992722,\n",
       " 108.52688,\n",
       " 116.06541,\n",
       " 100.27325,\n",
       " 98.171791,\n",
       " 99.875191,\n",
       " 98.559715,\n",
       " 117.13428,\n",
       " 101.26144,\n",
       " 105.51741,\n",
       " 94.400887,\n",
       " 99.582428,\n",
       " 101.82541,\n",
       " 103.06932,\n",
       " 114.30849,\n",
       " 130.74817,\n",
       " 100.62817,\n",
       " 102.98,\n",
       " 104.39209,\n",
       " 104.04802,\n",
       " 108.49585,\n",
       " 119.03297,\n",
       " 100.49819,\n",
       " 97.138466,\n",
       " 111.42083,\n",
       " 99.78714,\n",
       " 106.85352,\n",
       " 120.03334,\n",
       " 102.86565,\n",
       " 110.54592,\n",
       " 104.35799,\n",
       " 102.80055,\n",
       " 102.43806,\n",
       " 97.812416,\n",
       " 92.695572,\n",
       " 107.65878,\n",
       " 99.13195,\n",
       " 102.32436,\n",
       " 117.71624,\n",
       " 101.52533,\n",
       " 101.24644,\n",
       " 107.98305,\n",
       " 95.507278,\n",
       " 99.068054,\n",
       " 114.92679,\n",
       " 101.88375,\n",
       " 104.56171,\n",
       " 121.30747,\n",
       " 103.92844,\n",
       " 119.96153,\n",
       " 103.35752,\n",
       " 107.17146,\n",
       " 117.82217,\n",
       " 91.590385,\n",
       " 111.36829,\n",
       " 58.493122,\n",
       " 106.35319,\n",
       " 89.615105,\n",
       " 106.09866,\n",
       " 95.554138,\n",
       " 102.54803,\n",
       " 105.57433,\n",
       " 105.4906,\n",
       " 113.38864,\n",
       " 95.36834,\n",
       " 107.12669,\n",
       " 112.50252,\n",
       " 114.02541,\n",
       " 135.36836,\n",
       " 105.45577,\n",
       " 105.445,\n",
       " 112.94691,\n",
       " 101.30991,\n",
       " 107.53191,\n",
       " 102.51511,\n",
       " 102.46932,\n",
       " 101.15276,\n",
       " 102.56543,\n",
       " 100.44789,\n",
       " 117.67371,\n",
       " 98.2127,\n",
       " 95.129608,\n",
       " 99.548294,\n",
       " 94.124832,\n",
       " 105.32859,\n",
       " 101.10075,\n",
       " 101.56527,\n",
       " 109.55693,\n",
       " 111.02329,\n",
       " 102.67891,\n",
       " 104.67959,\n",
       " 99.193115,\n",
       " 101.38431,\n",
       " 104.48254,\n",
       " 102.27273,\n",
       " 105.0039,\n",
       " 109.99869,\n",
       " 102.19091,\n",
       " 99.591492,\n",
       " 91.439064,\n",
       " 132.40546,\n",
       " 88.322563,\n",
       " 98.37442,\n",
       " 102.52658,\n",
       " 100.30804,\n",
       " 101.91019,\n",
       " 104.5925,\n",
       " 89.368553,\n",
       " 98.276054,\n",
       " 94.954147,\n",
       " 98.990486,\n",
       " 101.31934,\n",
       " 104.41558,\n",
       " 101.23761,\n",
       " 99.65239,\n",
       " 126.33579,\n",
       " 99.465164,\n",
       " 108.21651,\n",
       " 92.379913,\n",
       " 98.783493,\n",
       " 107.0519,\n",
       " 111.47512,\n",
       " 98.838737,\n",
       " 104.68777,\n",
       " 98.657166,\n",
       " 106.86282,\n",
       " 107.55502,\n",
       " 108.71261,\n",
       " 103.66193,\n",
       " 102.26423,\n",
       " 104.41553,\n",
       " 104.09151,\n",
       " 113.12752,\n",
       " 101.96489,\n",
       " 109.26405,\n",
       " 108.59035,\n",
       " 94.632492,\n",
       " 103.99393,\n",
       " 104.68472,\n",
       " 115.07182,\n",
       " 116.54897,\n",
       " 95.003525,\n",
       " 120.55482,\n",
       " 98.599251,\n",
       " 98.596649,\n",
       " 116.97598,\n",
       " 162.75311,\n",
       " 104.00007,\n",
       " 113.12154,\n",
       " 112.58072,\n",
       " 102.47311,\n",
       " 132.64209,\n",
       " 139.22995,\n",
       " 97.601555,\n",
       " 99.935989,\n",
       " 96.414627,\n",
       " 92.577896,\n",
       " 104.08791,\n",
       " 100.36469,\n",
       " 101.84747,\n",
       " 100.33063,\n",
       " 125.14235,\n",
       " 105.04006,\n",
       " 99.758255,\n",
       " 95.911972,\n",
       " 105.40948,\n",
       " 96.96299,\n",
       " 105.58249,\n",
       " 109.00883,\n",
       " 104.17211,\n",
       " 105.62745,\n",
       " 100.32982,\n",
       " 118.53162,\n",
       " 106.87066,\n",
       " 107.07768,\n",
       " 101.78761,\n",
       " 116.07075,\n",
       " 100.22199,\n",
       " 103.48422,\n",
       " 101.40408,\n",
       " 92.718048,\n",
       " 97.707573,\n",
       " 104.43724,\n",
       " 113.53123,\n",
       " 102.51059,\n",
       " 101.6508,\n",
       " 113.5063,\n",
       " 100.5898,\n",
       " 113.14329,\n",
       " 102.21805,\n",
       " 116.3219,\n",
       " 94.22821,\n",
       " 101.62305,\n",
       " 100.42676,\n",
       " 97.559479,\n",
       " 106.1793,\n",
       " 100.54838,\n",
       " 86.007523,\n",
       " 96.268654,\n",
       " 9.3120527,\n",
       " 96.742485,\n",
       " 104.91537,\n",
       " 105.45927,\n",
       " 101.97534,\n",
       " 108.38899,\n",
       " 98.176987,\n",
       " 107.11169,\n",
       " 100.22203,\n",
       " 103.22353,\n",
       " 98.149498,\n",
       " 98.525581,\n",
       " 104.97099,\n",
       " 105.79393,\n",
       " 79.756454,\n",
       " 108.45483,\n",
       " 109.10016,\n",
       " 100.61543,\n",
       " 104.73596,\n",
       " 100.18354,\n",
       " 97.833626,\n",
       " 79.759857,\n",
       " 104.21082,\n",
       " 101.5228,\n",
       " 96.333702,\n",
       " 98.7323,\n",
       " 75.547844,\n",
       " 106.17363,\n",
       " 104.14091,\n",
       " 105.53938,\n",
       " 106.36337,\n",
       " 107.0356,\n",
       " 105.82218,\n",
       " 104.74575,\n",
       " 108.47031,\n",
       " 99.22451,\n",
       " 105.27481,\n",
       " 101.27339,\n",
       " 98.201668,\n",
       " 100.26625,\n",
       " 103.82726,\n",
       " 102.10764,\n",
       " 131.57085,\n",
       " 96.439919,\n",
       " 111.89354,\n",
       " 95.136414,\n",
       " 95.649597,\n",
       " 117.05077,\n",
       " 100.62268,\n",
       " 112.86616,\n",
       " 96.278755,\n",
       " 102.01935,\n",
       " 103.37696,\n",
       " 115.87475,\n",
       " 101.16972,\n",
       " 101.55581,\n",
       " 104.42648,\n",
       " 85.835495,\n",
       " 104.19769,\n",
       " 99.559265,\n",
       " 89.937187,\n",
       " 106.06698,\n",
       " 103.98484,\n",
       " 100.26763,\n",
       " 106.61952,\n",
       " 100.10982,\n",
       " 97.469879,\n",
       " 112.79032,\n",
       " 104.94212,\n",
       " 98.582764,\n",
       " 100.11345,\n",
       " 109.5583,\n",
       " 101.76514,\n",
       " 100.66299,\n",
       " 101.96535,\n",
       " 91.441689,\n",
       " 108.71284,\n",
       " 117.0822,\n",
       " 101.75141,\n",
       " 117.6422,\n",
       " 101.84869,\n",
       " 137.72314,\n",
       " 96.368843,\n",
       " 103.12679,\n",
       " 107.23666,\n",
       " 102.41321,\n",
       " 95.70195,\n",
       " 115.04001,\n",
       " 98.621704,\n",
       " 99.791237,\n",
       " 95.00647,\n",
       " 97.205765,\n",
       " 99.527168,\n",
       " 112.99871,\n",
       " 99.169456,\n",
       " 102.67179,\n",
       " 101.75945,\n",
       " 132.01079,\n",
       " 98.112984,\n",
       " 99.633888,\n",
       " 105.13964,\n",
       " 114.57749,\n",
       " 95.018028,\n",
       " 99.570061,\n",
       " 101.35263,\n",
       " 101.92751,\n",
       " 101.1854,\n",
       " 103.65009,\n",
       " 98.797592,\n",
       " 110.92107,\n",
       " 117.20052,\n",
       " 96.085098,\n",
       " 107.25945,\n",
       " ...]"
      ]
     },
     "execution_count": 61,
     "metadata": {},
     "output_type": "execute_result"
    }
   ],
   "source": [
    "predicted=mdl.predict(X_test)\n",
    "list(predicted)"
   ]
  },
  {
   "cell_type": "code",
   "execution_count": 39,
   "metadata": {},
   "outputs": [
    {
     "data": {
      "text/plain": [
       "0.98952978755961807"
      ]
     },
     "execution_count": 39,
     "metadata": {},
     "output_type": "execute_result"
    }
   ],
   "source": [
    "from sklearn.metrics import explained_variance_score\n",
    "from sklearn.metrics import r2_score\n",
    "r2_score(predicted, y_test)"
   ]
  },
  {
   "cell_type": "code",
   "execution_count": 57,
   "metadata": {},
   "outputs": [
    {
     "data": {
      "text/plain": [
       "0.99021751169068817"
      ]
     },
     "execution_count": 57,
     "metadata": {},
     "output_type": "execute_result"
    }
   ],
   "source": [
    "from sklearn.metrics import explained_variance_score\n",
    "explained_variance_score(y_test,predicted)"
   ]
  },
  {
   "cell_type": "markdown",
   "metadata": {},
   "source": [
    "### 2nd Model "
   ]
  },
  {
   "cell_type": "code",
   "execution_count": 62,
   "metadata": {},
   "outputs": [
    {
     "ename": "KeyboardInterrupt",
     "evalue": "",
     "output_type": "error",
     "traceback": [
      "\u001b[0;31m---------------------------------------------------------------------------\u001b[0m",
      "\u001b[0;31mKeyboardInterrupt\u001b[0m                         Traceback (most recent call last)",
      "\u001b[0;32m<ipython-input-62-f9f1aaaf9047>\u001b[0m in \u001b[0;36m<module>\u001b[0;34m()\u001b[0m\n\u001b[1;32m     25\u001b[0m \u001b[0;34m\u001b[0m\u001b[0m\n\u001b[1;32m     26\u001b[0m \u001b[0mgs\u001b[0m \u001b[0;34m=\u001b[0m \u001b[0mRandomizedSearchCV\u001b[0m\u001b[0;34m(\u001b[0m\u001b[0mxgbreg\u001b[0m\u001b[0;34m,\u001b[0m \u001b[0mparams\u001b[0m\u001b[0;34m,\u001b[0m \u001b[0mn_jobs\u001b[0m\u001b[0;34m=\u001b[0m\u001b[0;36m1\u001b[0m\u001b[0;34m)\u001b[0m\u001b[0;34m\u001b[0m\u001b[0m\n\u001b[0;32m---> 27\u001b[0;31m \u001b[0mgs\u001b[0m\u001b[0;34m.\u001b[0m\u001b[0mfit\u001b[0m\u001b[0;34m(\u001b[0m\u001b[0mX_train\u001b[0m\u001b[0;34m,\u001b[0m \u001b[0my_train\u001b[0m\u001b[0;34m)\u001b[0m\u001b[0;34m\u001b[0m\u001b[0m\n\u001b[0m\u001b[1;32m     28\u001b[0m \u001b[0;34m\u001b[0m\u001b[0m\n\u001b[1;32m     29\u001b[0m \u001b[0;34m\u001b[0m\u001b[0m\n",
      "\u001b[0;32m/home/hp/anaconda3/lib/python3.6/site-packages/sklearn/model_selection/_search.py\u001b[0m in \u001b[0;36mfit\u001b[0;34m(self, X, y, groups)\u001b[0m\n\u001b[1;32m   1188\u001b[0m                                           \u001b[0mself\u001b[0m\u001b[0;34m.\u001b[0m\u001b[0mn_iter\u001b[0m\u001b[0;34m,\u001b[0m\u001b[0;34m\u001b[0m\u001b[0m\n\u001b[1;32m   1189\u001b[0m                                           random_state=self.random_state)\n\u001b[0;32m-> 1190\u001b[0;31m         \u001b[0;32mreturn\u001b[0m \u001b[0mself\u001b[0m\u001b[0;34m.\u001b[0m\u001b[0m_fit\u001b[0m\u001b[0;34m(\u001b[0m\u001b[0mX\u001b[0m\u001b[0;34m,\u001b[0m \u001b[0my\u001b[0m\u001b[0;34m,\u001b[0m \u001b[0mgroups\u001b[0m\u001b[0;34m,\u001b[0m \u001b[0msampled_params\u001b[0m\u001b[0;34m)\u001b[0m\u001b[0;34m\u001b[0m\u001b[0m\n\u001b[0m",
      "\u001b[0;32m/home/hp/anaconda3/lib/python3.6/site-packages/sklearn/model_selection/_search.py\u001b[0m in \u001b[0;36m_fit\u001b[0;34m(self, X, y, groups, parameter_iterable)\u001b[0m\n\u001b[1;32m    562\u001b[0m                                   \u001b[0mreturn_times\u001b[0m\u001b[0;34m=\u001b[0m\u001b[0;32mTrue\u001b[0m\u001b[0;34m,\u001b[0m \u001b[0mreturn_parameters\u001b[0m\u001b[0;34m=\u001b[0m\u001b[0;32mTrue\u001b[0m\u001b[0;34m,\u001b[0m\u001b[0;34m\u001b[0m\u001b[0m\n\u001b[1;32m    563\u001b[0m                                   error_score=self.error_score)\n\u001b[0;32m--> 564\u001b[0;31m           \u001b[0;32mfor\u001b[0m \u001b[0mparameters\u001b[0m \u001b[0;32min\u001b[0m \u001b[0mparameter_iterable\u001b[0m\u001b[0;34m\u001b[0m\u001b[0m\n\u001b[0m\u001b[1;32m    565\u001b[0m           for train, test in cv_iter)\n\u001b[1;32m    566\u001b[0m \u001b[0;34m\u001b[0m\u001b[0m\n",
      "\u001b[0;32m/home/hp/anaconda3/lib/python3.6/site-packages/sklearn/externals/joblib/parallel.py\u001b[0m in \u001b[0;36m__call__\u001b[0;34m(self, iterable)\u001b[0m\n\u001b[1;32m    756\u001b[0m             \u001b[0;31m# was dispatched. In particular this covers the edge\u001b[0m\u001b[0;34m\u001b[0m\u001b[0;34m\u001b[0m\u001b[0m\n\u001b[1;32m    757\u001b[0m             \u001b[0;31m# case of Parallel used with an exhausted iterator.\u001b[0m\u001b[0;34m\u001b[0m\u001b[0;34m\u001b[0m\u001b[0m\n\u001b[0;32m--> 758\u001b[0;31m             \u001b[0;32mwhile\u001b[0m \u001b[0mself\u001b[0m\u001b[0;34m.\u001b[0m\u001b[0mdispatch_one_batch\u001b[0m\u001b[0;34m(\u001b[0m\u001b[0miterator\u001b[0m\u001b[0;34m)\u001b[0m\u001b[0;34m:\u001b[0m\u001b[0;34m\u001b[0m\u001b[0m\n\u001b[0m\u001b[1;32m    759\u001b[0m                 \u001b[0mself\u001b[0m\u001b[0;34m.\u001b[0m\u001b[0m_iterating\u001b[0m \u001b[0;34m=\u001b[0m \u001b[0;32mTrue\u001b[0m\u001b[0;34m\u001b[0m\u001b[0m\n\u001b[1;32m    760\u001b[0m             \u001b[0;32melse\u001b[0m\u001b[0;34m:\u001b[0m\u001b[0;34m\u001b[0m\u001b[0m\n",
      "\u001b[0;32m/home/hp/anaconda3/lib/python3.6/site-packages/sklearn/externals/joblib/parallel.py\u001b[0m in \u001b[0;36mdispatch_one_batch\u001b[0;34m(self, iterator)\u001b[0m\n\u001b[1;32m    606\u001b[0m                 \u001b[0;32mreturn\u001b[0m \u001b[0;32mFalse\u001b[0m\u001b[0;34m\u001b[0m\u001b[0m\n\u001b[1;32m    607\u001b[0m             \u001b[0;32melse\u001b[0m\u001b[0;34m:\u001b[0m\u001b[0;34m\u001b[0m\u001b[0m\n\u001b[0;32m--> 608\u001b[0;31m                 \u001b[0mself\u001b[0m\u001b[0;34m.\u001b[0m\u001b[0m_dispatch\u001b[0m\u001b[0;34m(\u001b[0m\u001b[0mtasks\u001b[0m\u001b[0;34m)\u001b[0m\u001b[0;34m\u001b[0m\u001b[0m\n\u001b[0m\u001b[1;32m    609\u001b[0m                 \u001b[0;32mreturn\u001b[0m \u001b[0;32mTrue\u001b[0m\u001b[0;34m\u001b[0m\u001b[0m\n\u001b[1;32m    610\u001b[0m \u001b[0;34m\u001b[0m\u001b[0m\n",
      "\u001b[0;32m/home/hp/anaconda3/lib/python3.6/site-packages/sklearn/externals/joblib/parallel.py\u001b[0m in \u001b[0;36m_dispatch\u001b[0;34m(self, batch)\u001b[0m\n\u001b[1;32m    569\u001b[0m         \u001b[0mdispatch_timestamp\u001b[0m \u001b[0;34m=\u001b[0m \u001b[0mtime\u001b[0m\u001b[0;34m.\u001b[0m\u001b[0mtime\u001b[0m\u001b[0;34m(\u001b[0m\u001b[0;34m)\u001b[0m\u001b[0;34m\u001b[0m\u001b[0m\n\u001b[1;32m    570\u001b[0m         \u001b[0mcb\u001b[0m \u001b[0;34m=\u001b[0m \u001b[0mBatchCompletionCallBack\u001b[0m\u001b[0;34m(\u001b[0m\u001b[0mdispatch_timestamp\u001b[0m\u001b[0;34m,\u001b[0m \u001b[0mlen\u001b[0m\u001b[0;34m(\u001b[0m\u001b[0mbatch\u001b[0m\u001b[0;34m)\u001b[0m\u001b[0;34m,\u001b[0m \u001b[0mself\u001b[0m\u001b[0;34m)\u001b[0m\u001b[0;34m\u001b[0m\u001b[0m\n\u001b[0;32m--> 571\u001b[0;31m         \u001b[0mjob\u001b[0m \u001b[0;34m=\u001b[0m \u001b[0mself\u001b[0m\u001b[0;34m.\u001b[0m\u001b[0m_backend\u001b[0m\u001b[0;34m.\u001b[0m\u001b[0mapply_async\u001b[0m\u001b[0;34m(\u001b[0m\u001b[0mbatch\u001b[0m\u001b[0;34m,\u001b[0m \u001b[0mcallback\u001b[0m\u001b[0;34m=\u001b[0m\u001b[0mcb\u001b[0m\u001b[0;34m)\u001b[0m\u001b[0;34m\u001b[0m\u001b[0m\n\u001b[0m\u001b[1;32m    572\u001b[0m         \u001b[0mself\u001b[0m\u001b[0;34m.\u001b[0m\u001b[0m_jobs\u001b[0m\u001b[0;34m.\u001b[0m\u001b[0mappend\u001b[0m\u001b[0;34m(\u001b[0m\u001b[0mjob\u001b[0m\u001b[0;34m)\u001b[0m\u001b[0;34m\u001b[0m\u001b[0m\n\u001b[1;32m    573\u001b[0m \u001b[0;34m\u001b[0m\u001b[0m\n",
      "\u001b[0;32m/home/hp/anaconda3/lib/python3.6/site-packages/sklearn/externals/joblib/_parallel_backends.py\u001b[0m in \u001b[0;36mapply_async\u001b[0;34m(self, func, callback)\u001b[0m\n\u001b[1;32m    107\u001b[0m     \u001b[0;32mdef\u001b[0m \u001b[0mapply_async\u001b[0m\u001b[0;34m(\u001b[0m\u001b[0mself\u001b[0m\u001b[0;34m,\u001b[0m \u001b[0mfunc\u001b[0m\u001b[0;34m,\u001b[0m \u001b[0mcallback\u001b[0m\u001b[0;34m=\u001b[0m\u001b[0;32mNone\u001b[0m\u001b[0;34m)\u001b[0m\u001b[0;34m:\u001b[0m\u001b[0;34m\u001b[0m\u001b[0m\n\u001b[1;32m    108\u001b[0m         \u001b[0;34m\"\"\"Schedule a func to be run\"\"\"\u001b[0m\u001b[0;34m\u001b[0m\u001b[0m\n\u001b[0;32m--> 109\u001b[0;31m         \u001b[0mresult\u001b[0m \u001b[0;34m=\u001b[0m \u001b[0mImmediateResult\u001b[0m\u001b[0;34m(\u001b[0m\u001b[0mfunc\u001b[0m\u001b[0;34m)\u001b[0m\u001b[0;34m\u001b[0m\u001b[0m\n\u001b[0m\u001b[1;32m    110\u001b[0m         \u001b[0;32mif\u001b[0m \u001b[0mcallback\u001b[0m\u001b[0;34m:\u001b[0m\u001b[0;34m\u001b[0m\u001b[0m\n\u001b[1;32m    111\u001b[0m             \u001b[0mcallback\u001b[0m\u001b[0;34m(\u001b[0m\u001b[0mresult\u001b[0m\u001b[0;34m)\u001b[0m\u001b[0;34m\u001b[0m\u001b[0m\n",
      "\u001b[0;32m/home/hp/anaconda3/lib/python3.6/site-packages/sklearn/externals/joblib/_parallel_backends.py\u001b[0m in \u001b[0;36m__init__\u001b[0;34m(self, batch)\u001b[0m\n\u001b[1;32m    324\u001b[0m         \u001b[0;31m# Don't delay the application, to avoid keeping the input\u001b[0m\u001b[0;34m\u001b[0m\u001b[0;34m\u001b[0m\u001b[0m\n\u001b[1;32m    325\u001b[0m         \u001b[0;31m# arguments in memory\u001b[0m\u001b[0;34m\u001b[0m\u001b[0;34m\u001b[0m\u001b[0m\n\u001b[0;32m--> 326\u001b[0;31m         \u001b[0mself\u001b[0m\u001b[0;34m.\u001b[0m\u001b[0mresults\u001b[0m \u001b[0;34m=\u001b[0m \u001b[0mbatch\u001b[0m\u001b[0;34m(\u001b[0m\u001b[0;34m)\u001b[0m\u001b[0;34m\u001b[0m\u001b[0m\n\u001b[0m\u001b[1;32m    327\u001b[0m \u001b[0;34m\u001b[0m\u001b[0m\n\u001b[1;32m    328\u001b[0m     \u001b[0;32mdef\u001b[0m \u001b[0mget\u001b[0m\u001b[0;34m(\u001b[0m\u001b[0mself\u001b[0m\u001b[0;34m)\u001b[0m\u001b[0;34m:\u001b[0m\u001b[0;34m\u001b[0m\u001b[0m\n",
      "\u001b[0;32m/home/hp/anaconda3/lib/python3.6/site-packages/sklearn/externals/joblib/parallel.py\u001b[0m in \u001b[0;36m__call__\u001b[0;34m(self)\u001b[0m\n\u001b[1;32m    129\u001b[0m \u001b[0;34m\u001b[0m\u001b[0m\n\u001b[1;32m    130\u001b[0m     \u001b[0;32mdef\u001b[0m \u001b[0m__call__\u001b[0m\u001b[0;34m(\u001b[0m\u001b[0mself\u001b[0m\u001b[0;34m)\u001b[0m\u001b[0;34m:\u001b[0m\u001b[0;34m\u001b[0m\u001b[0m\n\u001b[0;32m--> 131\u001b[0;31m         \u001b[0;32mreturn\u001b[0m \u001b[0;34m[\u001b[0m\u001b[0mfunc\u001b[0m\u001b[0;34m(\u001b[0m\u001b[0;34m*\u001b[0m\u001b[0margs\u001b[0m\u001b[0;34m,\u001b[0m \u001b[0;34m**\u001b[0m\u001b[0mkwargs\u001b[0m\u001b[0;34m)\u001b[0m \u001b[0;32mfor\u001b[0m \u001b[0mfunc\u001b[0m\u001b[0;34m,\u001b[0m \u001b[0margs\u001b[0m\u001b[0;34m,\u001b[0m \u001b[0mkwargs\u001b[0m \u001b[0;32min\u001b[0m \u001b[0mself\u001b[0m\u001b[0;34m.\u001b[0m\u001b[0mitems\u001b[0m\u001b[0;34m]\u001b[0m\u001b[0;34m\u001b[0m\u001b[0m\n\u001b[0m\u001b[1;32m    132\u001b[0m \u001b[0;34m\u001b[0m\u001b[0m\n\u001b[1;32m    133\u001b[0m     \u001b[0;32mdef\u001b[0m \u001b[0m__len__\u001b[0m\u001b[0;34m(\u001b[0m\u001b[0mself\u001b[0m\u001b[0;34m)\u001b[0m\u001b[0;34m:\u001b[0m\u001b[0;34m\u001b[0m\u001b[0m\n",
      "\u001b[0;32m/home/hp/anaconda3/lib/python3.6/site-packages/sklearn/externals/joblib/parallel.py\u001b[0m in \u001b[0;36m<listcomp>\u001b[0;34m(.0)\u001b[0m\n\u001b[1;32m    129\u001b[0m \u001b[0;34m\u001b[0m\u001b[0m\n\u001b[1;32m    130\u001b[0m     \u001b[0;32mdef\u001b[0m \u001b[0m__call__\u001b[0m\u001b[0;34m(\u001b[0m\u001b[0mself\u001b[0m\u001b[0;34m)\u001b[0m\u001b[0;34m:\u001b[0m\u001b[0;34m\u001b[0m\u001b[0m\n\u001b[0;32m--> 131\u001b[0;31m         \u001b[0;32mreturn\u001b[0m \u001b[0;34m[\u001b[0m\u001b[0mfunc\u001b[0m\u001b[0;34m(\u001b[0m\u001b[0;34m*\u001b[0m\u001b[0margs\u001b[0m\u001b[0;34m,\u001b[0m \u001b[0;34m**\u001b[0m\u001b[0mkwargs\u001b[0m\u001b[0;34m)\u001b[0m \u001b[0;32mfor\u001b[0m \u001b[0mfunc\u001b[0m\u001b[0;34m,\u001b[0m \u001b[0margs\u001b[0m\u001b[0;34m,\u001b[0m \u001b[0mkwargs\u001b[0m \u001b[0;32min\u001b[0m \u001b[0mself\u001b[0m\u001b[0;34m.\u001b[0m\u001b[0mitems\u001b[0m\u001b[0;34m]\u001b[0m\u001b[0;34m\u001b[0m\u001b[0m\n\u001b[0m\u001b[1;32m    132\u001b[0m \u001b[0;34m\u001b[0m\u001b[0m\n\u001b[1;32m    133\u001b[0m     \u001b[0;32mdef\u001b[0m \u001b[0m__len__\u001b[0m\u001b[0;34m(\u001b[0m\u001b[0mself\u001b[0m\u001b[0;34m)\u001b[0m\u001b[0;34m:\u001b[0m\u001b[0;34m\u001b[0m\u001b[0m\n",
      "\u001b[0;32m/home/hp/anaconda3/lib/python3.6/site-packages/sklearn/model_selection/_validation.py\u001b[0m in \u001b[0;36m_fit_and_score\u001b[0;34m(estimator, X, y, scorer, train, test, verbose, parameters, fit_params, return_train_score, return_parameters, return_n_test_samples, return_times, error_score)\u001b[0m\n\u001b[1;32m    236\u001b[0m             \u001b[0mestimator\u001b[0m\u001b[0;34m.\u001b[0m\u001b[0mfit\u001b[0m\u001b[0;34m(\u001b[0m\u001b[0mX_train\u001b[0m\u001b[0;34m,\u001b[0m \u001b[0;34m**\u001b[0m\u001b[0mfit_params\u001b[0m\u001b[0;34m)\u001b[0m\u001b[0;34m\u001b[0m\u001b[0m\n\u001b[1;32m    237\u001b[0m         \u001b[0;32melse\u001b[0m\u001b[0;34m:\u001b[0m\u001b[0;34m\u001b[0m\u001b[0m\n\u001b[0;32m--> 238\u001b[0;31m             \u001b[0mestimator\u001b[0m\u001b[0;34m.\u001b[0m\u001b[0mfit\u001b[0m\u001b[0;34m(\u001b[0m\u001b[0mX_train\u001b[0m\u001b[0;34m,\u001b[0m \u001b[0my_train\u001b[0m\u001b[0;34m,\u001b[0m \u001b[0;34m**\u001b[0m\u001b[0mfit_params\u001b[0m\u001b[0;34m)\u001b[0m\u001b[0;34m\u001b[0m\u001b[0m\n\u001b[0m\u001b[1;32m    239\u001b[0m \u001b[0;34m\u001b[0m\u001b[0m\n\u001b[1;32m    240\u001b[0m     \u001b[0;32mexcept\u001b[0m \u001b[0mException\u001b[0m \u001b[0;32mas\u001b[0m \u001b[0me\u001b[0m\u001b[0;34m:\u001b[0m\u001b[0;34m\u001b[0m\u001b[0m\n",
      "\u001b[0;32m/home/hp/anaconda3/lib/python3.6/site-packages/xgboost/sklearn.py\u001b[0m in \u001b[0;36mfit\u001b[0;34m(self, X, y, eval_set, eval_metric, early_stopping_rounds, verbose)\u001b[0m\n\u001b[1;32m    249\u001b[0m                               \u001b[0mearly_stopping_rounds\u001b[0m\u001b[0;34m=\u001b[0m\u001b[0mearly_stopping_rounds\u001b[0m\u001b[0;34m,\u001b[0m\u001b[0;34m\u001b[0m\u001b[0m\n\u001b[1;32m    250\u001b[0m                               \u001b[0mevals_result\u001b[0m\u001b[0;34m=\u001b[0m\u001b[0mevals_result\u001b[0m\u001b[0;34m,\u001b[0m \u001b[0mobj\u001b[0m\u001b[0;34m=\u001b[0m\u001b[0mobj\u001b[0m\u001b[0;34m,\u001b[0m \u001b[0mfeval\u001b[0m\u001b[0;34m=\u001b[0m\u001b[0mfeval\u001b[0m\u001b[0;34m,\u001b[0m\u001b[0;34m\u001b[0m\u001b[0m\n\u001b[0;32m--> 251\u001b[0;31m                               verbose_eval=verbose)\n\u001b[0m\u001b[1;32m    252\u001b[0m \u001b[0;34m\u001b[0m\u001b[0m\n\u001b[1;32m    253\u001b[0m         \u001b[0;32mif\u001b[0m \u001b[0mevals_result\u001b[0m\u001b[0;34m:\u001b[0m\u001b[0;34m\u001b[0m\u001b[0m\n",
      "\u001b[0;32m/home/hp/anaconda3/lib/python3.6/site-packages/xgboost/training.py\u001b[0m in \u001b[0;36mtrain\u001b[0;34m(params, dtrain, num_boost_round, evals, obj, feval, maximize, early_stopping_rounds, evals_result, verbose_eval, learning_rates, xgb_model, callbacks)\u001b[0m\n\u001b[1;32m    203\u001b[0m                            \u001b[0mevals\u001b[0m\u001b[0;34m=\u001b[0m\u001b[0mevals\u001b[0m\u001b[0;34m,\u001b[0m\u001b[0;34m\u001b[0m\u001b[0m\n\u001b[1;32m    204\u001b[0m                            \u001b[0mobj\u001b[0m\u001b[0;34m=\u001b[0m\u001b[0mobj\u001b[0m\u001b[0;34m,\u001b[0m \u001b[0mfeval\u001b[0m\u001b[0;34m=\u001b[0m\u001b[0mfeval\u001b[0m\u001b[0;34m,\u001b[0m\u001b[0;34m\u001b[0m\u001b[0m\n\u001b[0;32m--> 205\u001b[0;31m                            xgb_model=xgb_model, callbacks=callbacks)\n\u001b[0m\u001b[1;32m    206\u001b[0m \u001b[0;34m\u001b[0m\u001b[0m\n\u001b[1;32m    207\u001b[0m \u001b[0;34m\u001b[0m\u001b[0m\n",
      "\u001b[0;32m/home/hp/anaconda3/lib/python3.6/site-packages/xgboost/training.py\u001b[0m in \u001b[0;36m_train_internal\u001b[0;34m(params, dtrain, num_boost_round, evals, obj, feval, xgb_model, callbacks)\u001b[0m\n\u001b[1;32m     74\u001b[0m         \u001b[0;31m# Skip the first update if it is a recovery step.\u001b[0m\u001b[0;34m\u001b[0m\u001b[0;34m\u001b[0m\u001b[0m\n\u001b[1;32m     75\u001b[0m         \u001b[0;32mif\u001b[0m \u001b[0mversion\u001b[0m \u001b[0;34m%\u001b[0m \u001b[0;36m2\u001b[0m \u001b[0;34m==\u001b[0m \u001b[0;36m0\u001b[0m\u001b[0;34m:\u001b[0m\u001b[0;34m\u001b[0m\u001b[0m\n\u001b[0;32m---> 76\u001b[0;31m             \u001b[0mbst\u001b[0m\u001b[0;34m.\u001b[0m\u001b[0mupdate\u001b[0m\u001b[0;34m(\u001b[0m\u001b[0mdtrain\u001b[0m\u001b[0;34m,\u001b[0m \u001b[0mi\u001b[0m\u001b[0;34m,\u001b[0m \u001b[0mobj\u001b[0m\u001b[0;34m)\u001b[0m\u001b[0;34m\u001b[0m\u001b[0m\n\u001b[0m\u001b[1;32m     77\u001b[0m             \u001b[0mbst\u001b[0m\u001b[0;34m.\u001b[0m\u001b[0msave_rabit_checkpoint\u001b[0m\u001b[0;34m(\u001b[0m\u001b[0;34m)\u001b[0m\u001b[0;34m\u001b[0m\u001b[0m\n\u001b[1;32m     78\u001b[0m             \u001b[0mversion\u001b[0m \u001b[0;34m+=\u001b[0m \u001b[0;36m1\u001b[0m\u001b[0;34m\u001b[0m\u001b[0m\n",
      "\u001b[0;32m/home/hp/anaconda3/lib/python3.6/site-packages/xgboost/core.py\u001b[0m in \u001b[0;36mupdate\u001b[0;34m(self, dtrain, iteration, fobj)\u001b[0m\n\u001b[1;32m    804\u001b[0m \u001b[0;34m\u001b[0m\u001b[0m\n\u001b[1;32m    805\u001b[0m         \u001b[0;32mif\u001b[0m \u001b[0mfobj\u001b[0m \u001b[0;32mis\u001b[0m \u001b[0;32mNone\u001b[0m\u001b[0;34m:\u001b[0m\u001b[0;34m\u001b[0m\u001b[0m\n\u001b[0;32m--> 806\u001b[0;31m             \u001b[0m_check_call\u001b[0m\u001b[0;34m(\u001b[0m\u001b[0m_LIB\u001b[0m\u001b[0;34m.\u001b[0m\u001b[0mXGBoosterUpdateOneIter\u001b[0m\u001b[0;34m(\u001b[0m\u001b[0mself\u001b[0m\u001b[0;34m.\u001b[0m\u001b[0mhandle\u001b[0m\u001b[0;34m,\u001b[0m \u001b[0miteration\u001b[0m\u001b[0;34m,\u001b[0m \u001b[0mdtrain\u001b[0m\u001b[0;34m.\u001b[0m\u001b[0mhandle\u001b[0m\u001b[0;34m)\u001b[0m\u001b[0;34m)\u001b[0m\u001b[0;34m\u001b[0m\u001b[0m\n\u001b[0m\u001b[1;32m    807\u001b[0m         \u001b[0;32melse\u001b[0m\u001b[0;34m:\u001b[0m\u001b[0;34m\u001b[0m\u001b[0m\n\u001b[1;32m    808\u001b[0m             \u001b[0mpred\u001b[0m \u001b[0;34m=\u001b[0m \u001b[0mself\u001b[0m\u001b[0;34m.\u001b[0m\u001b[0mpredict\u001b[0m\u001b[0;34m(\u001b[0m\u001b[0mdtrain\u001b[0m\u001b[0;34m)\u001b[0m\u001b[0;34m\u001b[0m\u001b[0m\n",
      "\u001b[0;31mKeyboardInterrupt\u001b[0m: "
     ]
    }
   ],
   "source": [
    "from sklearn.model_selection import train_test_split  \n",
    "from xgboost.sklearn import XGBRegressor\n",
    "\n",
    "X_train, X_test, y_train, y_test = train_test_split(XX, yy, test_size=0.3,  \n",
    "                                                    random_state=42)\n",
    "import scipy.stats as st\n",
    "\n",
    "one_to_left = st.beta(10, 1)  \n",
    "from_zero_positive = st.expon(0, 50)\n",
    "\n",
    "params = {  \n",
    "    \"n_estimators\": st.randint(3, 40),\n",
    "    \"max_depth\": st.randint(3, 40),\n",
    "    \"learning_rate\": st.uniform(0.05, 0.4),\n",
    "    \"colsample_bytree\": one_to_left,\n",
    "    \"subsample\": one_to_left,\n",
    "    \"gamma\": st.uniform(0, 10),\n",
    "    'reg_alpha': from_zero_positive,\n",
    "    \"min_child_weight\": from_zero_positive,\n",
    "}\n",
    "\n",
    "xgbreg = XGBRegressor(nthread=-1)  \n",
    "\n",
    "from sklearn.model_selection import RandomizedSearchCV\n",
    "\n",
    "gs = RandomizedSearchCV(xgbreg, params, n_jobs=1)  \n",
    "gs.fit(X_train, y_train) \n",
    "\n",
    "\n",
    "\n",
    "ans = gs.predict(X_test)\n",
    "\n",
    "from sklearn.metrics import explained_variance_score\n",
    "from sklearn.metrics import r2_score\n",
    "r2_score(ans, y_test)"
   ]
  }
 ],
 "metadata": {
  "kernelspec": {
   "display_name": "Python 3",
   "language": "python",
   "name": "python3"
  },
  "language_info": {
   "codemirror_mode": {
    "name": "ipython",
    "version": 3
   },
   "file_extension": ".py",
   "mimetype": "text/x-python",
   "name": "python",
   "nbconvert_exporter": "python",
   "pygments_lexer": "ipython3",
   "version": "3.6.1"
  }
 },
 "nbformat": 4,
 "nbformat_minor": 2
}
